{
  "nbformat": 4,
  "nbformat_minor": 0,
  "metadata": {
    "colab": {
      "provenance": []
    },
    "kernelspec": {
      "name": "python3",
      "display_name": "Python 3"
    },
    "language_info": {
      "name": "python"
    }
  },
  "cells": [
    {
      "cell_type": "code",
      "execution_count": 2,
      "metadata": {
        "colab": {
          "base_uri": "https://localhost:8080/"
        },
        "id": "xFK9NuXXfDyZ",
        "outputId": "dbf7f623-0728-4bba-efe2-c7737b82302e"
      },
      "outputs": [
        {
          "output_type": "stream",
          "name": "stdout",
          "text": [
            "  Churn customer.gender  customer.SeniorCitizen customer.Partner  \\\n",
            "0    No          Female                       0              Yes   \n",
            "1    No            Male                       0               No   \n",
            "2   Yes            Male                       0               No   \n",
            "3   Yes            Male                       1              Yes   \n",
            "4   Yes          Female                       1              Yes   \n",
            "\n",
            "  customer.Dependents  customer.tenure phone.PhoneService phone.MultipleLines  \\\n",
            "0                 Yes                9                Yes                  No   \n",
            "1                  No                9                Yes                 Yes   \n",
            "2                  No                4                Yes                  No   \n",
            "3                  No               13                Yes                  No   \n",
            "4                  No                3                Yes                  No   \n",
            "\n",
            "  internet.InternetService internet.OnlineSecurity  ...  \\\n",
            "0                      DSL                      No  ...   \n",
            "1                      DSL                      No  ...   \n",
            "2              Fiber optic                      No  ...   \n",
            "3              Fiber optic                      No  ...   \n",
            "4              Fiber optic                      No  ...   \n",
            "\n",
            "  internet.DeviceProtection internet.TechSupport internet.StreamingTV  \\\n",
            "0                        No                  Yes                  Yes   \n",
            "1                        No                   No                   No   \n",
            "2                       Yes                   No                   No   \n",
            "3                       Yes                   No                  Yes   \n",
            "4                        No                  Yes                  Yes   \n",
            "\n",
            "  internet.StreamingMovies account.Contract account.PaperlessBilling  \\\n",
            "0                       No         One year                      Yes   \n",
            "1                      Yes   Month-to-month                       No   \n",
            "2                       No   Month-to-month                      Yes   \n",
            "3                      Yes   Month-to-month                      Yes   \n",
            "4                       No   Month-to-month                      Yes   \n",
            "\n",
            "  account.PaymentMethod account.Charges.Monthly  account.Charges.Total  \\\n",
            "0          Mailed check                    65.6                 593.30   \n",
            "1          Mailed check                    59.9                 542.40   \n",
            "2      Electronic check                    73.9                 280.85   \n",
            "3      Electronic check                    98.0                1237.85   \n",
            "4          Mailed check                    83.9                 267.40   \n",
            "\n",
            "   Cuentas_Diarias  \n",
            "0         2.186667  \n",
            "1         1.996667  \n",
            "2         2.463333  \n",
            "3         3.266667  \n",
            "4         2.796667  \n",
            "\n",
            "[5 rows x 21 columns]\n"
          ]
        }
      ],
      "source": [
        "import pandas as pd\n",
        "ruta = '/content/sample_data/df_sin_customerID.csv'\n",
        "df = pd.read_csv(ruta)\n",
        "print(df.head())\n"
      ]
    },
    {
      "cell_type": "code",
      "source": [
        "unique_counts = df.nunique()\n",
        "print(unique_counts)"
      ],
      "metadata": {
        "id": "9WERCzbjgAES",
        "colab": {
          "base_uri": "https://localhost:8080/"
        },
        "outputId": "2c6cdb53-7f9f-480c-cf07-1f673da948d9"
      },
      "execution_count": 3,
      "outputs": [
        {
          "output_type": "stream",
          "name": "stdout",
          "text": [
            "Churn                           2\n",
            "customer.gender                 2\n",
            "customer.SeniorCitizen          2\n",
            "customer.Partner                2\n",
            "customer.Dependents             2\n",
            "customer.tenure                73\n",
            "phone.PhoneService              2\n",
            "phone.MultipleLines             3\n",
            "internet.InternetService        3\n",
            "internet.OnlineSecurity         3\n",
            "internet.OnlineBackup           3\n",
            "internet.DeviceProtection       3\n",
            "internet.TechSupport            3\n",
            "internet.StreamingTV            3\n",
            "internet.StreamingMovies        3\n",
            "account.Contract                3\n",
            "account.PaperlessBilling        2\n",
            "account.PaymentMethod           4\n",
            "account.Charges.Monthly      1585\n",
            "account.Charges.Total        6530\n",
            "Cuentas_Diarias              1585\n",
            "dtype: int64\n"
          ]
        }
      ]
    },
    {
      "cell_type": "code",
      "source": [
        "cat_cols = df.select_dtypes(include=['object']).columns\n",
        "\n",
        "for col in cat_cols:\n",
        "    print(f\"Opciones en la columna '{col}':\")\n",
        "    print(df[col].unique())\n",
        "    print(\"-\" * 40)"
      ],
      "metadata": {
        "id": "dKXjwJMjgHYU",
        "colab": {
          "base_uri": "https://localhost:8080/"
        },
        "outputId": "2c42066e-e0a4-4f06-db68-1d5da7ff96d3"
      },
      "execution_count": 4,
      "outputs": [
        {
          "output_type": "stream",
          "name": "stdout",
          "text": [
            "Opciones en la columna 'Churn':\n",
            "['No' 'Yes']\n",
            "----------------------------------------\n",
            "Opciones en la columna 'customer.gender':\n",
            "['Female' 'Male']\n",
            "----------------------------------------\n",
            "Opciones en la columna 'customer.Partner':\n",
            "['Yes' 'No']\n",
            "----------------------------------------\n",
            "Opciones en la columna 'customer.Dependents':\n",
            "['Yes' 'No']\n",
            "----------------------------------------\n",
            "Opciones en la columna 'phone.PhoneService':\n",
            "['Yes' 'No']\n",
            "----------------------------------------\n",
            "Opciones en la columna 'phone.MultipleLines':\n",
            "['No' 'Yes' 'No phone service']\n",
            "----------------------------------------\n",
            "Opciones en la columna 'internet.InternetService':\n",
            "['DSL' 'Fiber optic' 'No']\n",
            "----------------------------------------\n",
            "Opciones en la columna 'internet.OnlineSecurity':\n",
            "['No' 'Yes' 'No internet service']\n",
            "----------------------------------------\n",
            "Opciones en la columna 'internet.OnlineBackup':\n",
            "['Yes' 'No' 'No internet service']\n",
            "----------------------------------------\n",
            "Opciones en la columna 'internet.DeviceProtection':\n",
            "['No' 'Yes' 'No internet service']\n",
            "----------------------------------------\n",
            "Opciones en la columna 'internet.TechSupport':\n",
            "['Yes' 'No' 'No internet service']\n",
            "----------------------------------------\n",
            "Opciones en la columna 'internet.StreamingTV':\n",
            "['Yes' 'No' 'No internet service']\n",
            "----------------------------------------\n",
            "Opciones en la columna 'internet.StreamingMovies':\n",
            "['No' 'Yes' 'No internet service']\n",
            "----------------------------------------\n",
            "Opciones en la columna 'account.Contract':\n",
            "['One year' 'Month-to-month' 'Two year']\n",
            "----------------------------------------\n",
            "Opciones en la columna 'account.PaperlessBilling':\n",
            "['Yes' 'No']\n",
            "----------------------------------------\n",
            "Opciones en la columna 'account.PaymentMethod':\n",
            "['Mailed check' 'Electronic check' 'Credit card (automatic)'\n",
            " 'Bank transfer (automatic)']\n",
            "----------------------------------------\n"
          ]
        }
      ]
    },
    {
      "cell_type": "code",
      "source": [
        "df['customer.gender'] = df['customer.gender'].replace({\n",
        "    'Female': 0,\n",
        "    'Male': 1\n",
        "})\n"
      ],
      "metadata": {
        "id": "tdD8uItWghZt",
        "colab": {
          "base_uri": "https://localhost:8080/"
        },
        "outputId": "7df5b7bb-6e4a-4f9b-ce2d-010c5e5a8958"
      },
      "execution_count": 5,
      "outputs": [
        {
          "output_type": "stream",
          "name": "stderr",
          "text": [
            "/tmp/ipython-input-2104221519.py:1: FutureWarning: Downcasting behavior in `replace` is deprecated and will be removed in a future version. To retain the old behavior, explicitly call `result.infer_objects(copy=False)`. To opt-in to the future behavior, set `pd.set_option('future.no_silent_downcasting', True)`\n",
            "  df['customer.gender'] = df['customer.gender'].replace({\n"
          ]
        }
      ]
    },
    {
      "cell_type": "code",
      "source": [
        "print(df['customer.gender'].value_counts())\n",
        "print(df['customer.gender'].dtype)\n"
      ],
      "metadata": {
        "id": "cI2NA1pjgn8P",
        "colab": {
          "base_uri": "https://localhost:8080/"
        },
        "outputId": "84ba7c20-e43c-46e5-890d-43a360bc3448"
      },
      "execution_count": 6,
      "outputs": [
        {
          "output_type": "stream",
          "name": "stdout",
          "text": [
            "customer.gender\n",
            "1    3555\n",
            "0    3488\n",
            "Name: count, dtype: int64\n",
            "int64\n"
          ]
        }
      ]
    },
    {
      "cell_type": "code",
      "source": [
        "cols_binarias = [\n",
        "    'Churn',\n",
        "    'customer.Partner',\n",
        "    'customer.Dependents',\n",
        "    'phone.PhoneService',\n",
        "    'account.PaperlessBilling'\n",
        "]\n",
        "\n",
        "for col in cols_binarias:\n",
        "    if col in df.columns:\n",
        "        df[col] = df[col].replace({'Yes': 1, 'No': 0})\n",
        "\n",
        "# Verifica que quedó bien:\n",
        "for col in cols_binarias:\n",
        "    if col in df.columns:\n",
        "        print(f\"Valores únicos en {col}: {df[col].unique()}\")\n"
      ],
      "metadata": {
        "id": "hF75kR3PhQn5",
        "colab": {
          "base_uri": "https://localhost:8080/"
        },
        "outputId": "78a63140-90d7-41b8-f827-31fc50193bc2"
      },
      "execution_count": 7,
      "outputs": [
        {
          "output_type": "stream",
          "name": "stdout",
          "text": [
            "Valores únicos en Churn: [0 1]\n",
            "Valores únicos en customer.Partner: [1 0]\n",
            "Valores únicos en customer.Dependents: [1 0]\n",
            "Valores únicos en phone.PhoneService: [1 0]\n",
            "Valores únicos en account.PaperlessBilling: [1 0]\n"
          ]
        },
        {
          "output_type": "stream",
          "name": "stderr",
          "text": [
            "/tmp/ipython-input-898578387.py:11: FutureWarning: Downcasting behavior in `replace` is deprecated and will be removed in a future version. To retain the old behavior, explicitly call `result.infer_objects(copy=False)`. To opt-in to the future behavior, set `pd.set_option('future.no_silent_downcasting', True)`\n",
            "  df[col] = df[col].replace({'Yes': 1, 'No': 0})\n"
          ]
        }
      ]
    },
    {
      "cell_type": "code",
      "source": [
        "# Mapeos para columnas con 'Yes', 'No', y una tercera categoría especial\n",
        "cols_3vals_map_012 = [\n",
        "    'phone.MultipleLines',\n",
        "    'internet.OnlineSecurity',\n",
        "    'internet.OnlineBackup',\n",
        "    'internet.DeviceProtection',\n",
        "    'internet.TechSupport',\n",
        "    'internet.StreamingTV',\n",
        "    'internet.StreamingMovies'\n",
        "]\n",
        "\n",
        "for col in cols_3vals_map_012:\n",
        "    if col in df.columns:\n",
        "        if col == 'phone.MultipleLines':\n",
        "            df[col] = df[col].replace({'No': 0, 'Yes': 1, 'No phone service': 2})\n",
        "        else:\n",
        "            df[col] = df[col].replace({'No': 0, 'Yes': 1, 'No internet service': 2})\n",
        "\n",
        "# Para 'internet.InternetService' también One-Hot Encoding\n",
        "if 'internet.InternetService' in df.columns:\n",
        "    dummies = pd.get_dummies(df['internet.InternetService'], prefix='internet.InternetService')\n",
        "    df = pd.concat([df.drop('internet.InternetService', axis=1), dummies], axis=1)\n",
        "\n",
        "# Para 'account.Contract' One-Hot Encoding\n",
        "if 'account.Contract' in df.columns:\n",
        "    dummies = pd.get_dummies(df['account.Contract'], prefix='account.Contract')\n",
        "    df = pd.concat([df.drop('account.Contract', axis=1), dummies], axis=1)\n",
        "\n",
        "# Verificación rápida:\n",
        "print(df.head())\n",
        "print(df.dtypes[df.dtypes == 'object'])  # no deberían quedar columnas object relacionadas a estas\n"
      ],
      "metadata": {
        "id": "aAR-c2Sph3Ta",
        "colab": {
          "base_uri": "https://localhost:8080/"
        },
        "outputId": "5169538e-a975-4064-ad6f-8dfb32e68d33"
      },
      "execution_count": 8,
      "outputs": [
        {
          "output_type": "stream",
          "name": "stdout",
          "text": [
            "   Churn  customer.gender  customer.SeniorCitizen  customer.Partner  \\\n",
            "0      0                0                       0                 1   \n",
            "1      0                1                       0                 0   \n",
            "2      1                1                       0                 0   \n",
            "3      1                1                       1                 1   \n",
            "4      1                0                       1                 1   \n",
            "\n",
            "   customer.Dependents  customer.tenure  phone.PhoneService  \\\n",
            "0                    1                9                   1   \n",
            "1                    0                9                   1   \n",
            "2                    0                4                   1   \n",
            "3                    0               13                   1   \n",
            "4                    0                3                   1   \n",
            "\n",
            "   phone.MultipleLines  internet.OnlineSecurity  internet.OnlineBackup  ...  \\\n",
            "0                    0                        0                      1  ...   \n",
            "1                    1                        0                      0  ...   \n",
            "2                    0                        0                      0  ...   \n",
            "3                    0                        0                      1  ...   \n",
            "4                    0                        0                      0  ...   \n",
            "\n",
            "   account.PaymentMethod  account.Charges.Monthly  account.Charges.Total  \\\n",
            "0           Mailed check                     65.6                 593.30   \n",
            "1           Mailed check                     59.9                 542.40   \n",
            "2       Electronic check                     73.9                 280.85   \n",
            "3       Electronic check                     98.0                1237.85   \n",
            "4           Mailed check                     83.9                 267.40   \n",
            "\n",
            "   Cuentas_Diarias  internet.InternetService_DSL  \\\n",
            "0         2.186667                          True   \n",
            "1         1.996667                          True   \n",
            "2         2.463333                         False   \n",
            "3         3.266667                         False   \n",
            "4         2.796667                         False   \n",
            "\n",
            "  internet.InternetService_Fiber optic  internet.InternetService_No  \\\n",
            "0                                False                        False   \n",
            "1                                False                        False   \n",
            "2                                 True                        False   \n",
            "3                                 True                        False   \n",
            "4                                 True                        False   \n",
            "\n",
            "   account.Contract_Month-to-month  account.Contract_One year  \\\n",
            "0                            False                       True   \n",
            "1                             True                      False   \n",
            "2                             True                      False   \n",
            "3                             True                      False   \n",
            "4                             True                      False   \n",
            "\n",
            "   account.Contract_Two year  \n",
            "0                      False  \n",
            "1                      False  \n",
            "2                      False  \n",
            "3                      False  \n",
            "4                      False  \n",
            "\n",
            "[5 rows x 25 columns]\n",
            "account.PaymentMethod    object\n",
            "dtype: object\n"
          ]
        },
        {
          "output_type": "stream",
          "name": "stderr",
          "text": [
            "/tmp/ipython-input-3746227361.py:15: FutureWarning: Downcasting behavior in `replace` is deprecated and will be removed in a future version. To retain the old behavior, explicitly call `result.infer_objects(copy=False)`. To opt-in to the future behavior, set `pd.set_option('future.no_silent_downcasting', True)`\n",
            "  df[col] = df[col].replace({'No': 0, 'Yes': 1, 'No phone service': 2})\n",
            "/tmp/ipython-input-3746227361.py:17: FutureWarning: Downcasting behavior in `replace` is deprecated and will be removed in a future version. To retain the old behavior, explicitly call `result.infer_objects(copy=False)`. To opt-in to the future behavior, set `pd.set_option('future.no_silent_downcasting', True)`\n",
            "  df[col] = df[col].replace({'No': 0, 'Yes': 1, 'No internet service': 2})\n"
          ]
        }
      ]
    },
    {
      "cell_type": "code",
      "source": [
        "df[col] = df[col].replace({'No': 0, 'Yes': 1, 'No phone service': 2}).astype(int)\n"
      ],
      "metadata": {
        "id": "Tu9MRQtiiLTx"
      },
      "execution_count": 9,
      "outputs": []
    },
    {
      "cell_type": "code",
      "source": [
        "df[col] = df[col].replace({'No': 0, 'Yes': 1, 'No internet service': 2}).astype(int)\n"
      ],
      "metadata": {
        "id": "L9OKNhfIiYEN"
      },
      "execution_count": 10,
      "outputs": []
    },
    {
      "cell_type": "code",
      "source": [
        "# Mostrar las primeras filas del DataFrame completo con todas las columnas\n",
        "print(df.head())\n",
        "\n",
        "# Opcional: para ver la lista completa de columnas transformadas\n",
        "print(\"Columnas del DataFrame:\")\n",
        "print(df.columns.tolist())\n",
        "\n",
        "# Si quieres un resumen más ordenado de tipos y valores únicos:\n",
        "for col in df.columns:\n",
        "    print(f\"{col}: dtype={df[col].dtype}, valores únicos={df[col].nunique()}\")\n"
      ],
      "metadata": {
        "id": "8x5w0a4sihBL",
        "colab": {
          "base_uri": "https://localhost:8080/"
        },
        "outputId": "36cc4046-4cda-4f2b-d36b-cfe20b46edc5"
      },
      "execution_count": 11,
      "outputs": [
        {
          "output_type": "stream",
          "name": "stdout",
          "text": [
            "   Churn  customer.gender  customer.SeniorCitizen  customer.Partner  \\\n",
            "0      0                0                       0                 1   \n",
            "1      0                1                       0                 0   \n",
            "2      1                1                       0                 0   \n",
            "3      1                1                       1                 1   \n",
            "4      1                0                       1                 1   \n",
            "\n",
            "   customer.Dependents  customer.tenure  phone.PhoneService  \\\n",
            "0                    1                9                   1   \n",
            "1                    0                9                   1   \n",
            "2                    0                4                   1   \n",
            "3                    0               13                   1   \n",
            "4                    0                3                   1   \n",
            "\n",
            "   phone.MultipleLines  internet.OnlineSecurity  internet.OnlineBackup  ...  \\\n",
            "0                    0                        0                      1  ...   \n",
            "1                    1                        0                      0  ...   \n",
            "2                    0                        0                      0  ...   \n",
            "3                    0                        0                      1  ...   \n",
            "4                    0                        0                      0  ...   \n",
            "\n",
            "   account.PaymentMethod  account.Charges.Monthly  account.Charges.Total  \\\n",
            "0           Mailed check                     65.6                 593.30   \n",
            "1           Mailed check                     59.9                 542.40   \n",
            "2       Electronic check                     73.9                 280.85   \n",
            "3       Electronic check                     98.0                1237.85   \n",
            "4           Mailed check                     83.9                 267.40   \n",
            "\n",
            "   Cuentas_Diarias  internet.InternetService_DSL  \\\n",
            "0         2.186667                          True   \n",
            "1         1.996667                          True   \n",
            "2         2.463333                         False   \n",
            "3         3.266667                         False   \n",
            "4         2.796667                         False   \n",
            "\n",
            "  internet.InternetService_Fiber optic  internet.InternetService_No  \\\n",
            "0                                False                        False   \n",
            "1                                False                        False   \n",
            "2                                 True                        False   \n",
            "3                                 True                        False   \n",
            "4                                 True                        False   \n",
            "\n",
            "   account.Contract_Month-to-month  account.Contract_One year  \\\n",
            "0                            False                       True   \n",
            "1                             True                      False   \n",
            "2                             True                      False   \n",
            "3                             True                      False   \n",
            "4                             True                      False   \n",
            "\n",
            "   account.Contract_Two year  \n",
            "0                      False  \n",
            "1                      False  \n",
            "2                      False  \n",
            "3                      False  \n",
            "4                      False  \n",
            "\n",
            "[5 rows x 25 columns]\n",
            "Columnas del DataFrame:\n",
            "['Churn', 'customer.gender', 'customer.SeniorCitizen', 'customer.Partner', 'customer.Dependents', 'customer.tenure', 'phone.PhoneService', 'phone.MultipleLines', 'internet.OnlineSecurity', 'internet.OnlineBackup', 'internet.DeviceProtection', 'internet.TechSupport', 'internet.StreamingTV', 'internet.StreamingMovies', 'account.PaperlessBilling', 'account.PaymentMethod', 'account.Charges.Monthly', 'account.Charges.Total', 'Cuentas_Diarias', 'internet.InternetService_DSL', 'internet.InternetService_Fiber optic', 'internet.InternetService_No', 'account.Contract_Month-to-month', 'account.Contract_One year', 'account.Contract_Two year']\n",
            "Churn: dtype=int64, valores únicos=2\n",
            "customer.gender: dtype=int64, valores únicos=2\n",
            "customer.SeniorCitizen: dtype=int64, valores únicos=2\n",
            "customer.Partner: dtype=int64, valores únicos=2\n",
            "customer.Dependents: dtype=int64, valores únicos=2\n",
            "customer.tenure: dtype=int64, valores únicos=73\n",
            "phone.PhoneService: dtype=int64, valores únicos=2\n",
            "phone.MultipleLines: dtype=int64, valores únicos=3\n",
            "internet.OnlineSecurity: dtype=int64, valores únicos=3\n",
            "internet.OnlineBackup: dtype=int64, valores únicos=3\n",
            "internet.DeviceProtection: dtype=int64, valores únicos=3\n",
            "internet.TechSupport: dtype=int64, valores únicos=3\n",
            "internet.StreamingTV: dtype=int64, valores únicos=3\n",
            "internet.StreamingMovies: dtype=int64, valores únicos=3\n",
            "account.PaperlessBilling: dtype=int64, valores únicos=2\n",
            "account.PaymentMethod: dtype=object, valores únicos=4\n",
            "account.Charges.Monthly: dtype=float64, valores únicos=1585\n",
            "account.Charges.Total: dtype=float64, valores únicos=6530\n",
            "Cuentas_Diarias: dtype=float64, valores únicos=1585\n",
            "internet.InternetService_DSL: dtype=bool, valores únicos=2\n",
            "internet.InternetService_Fiber optic: dtype=bool, valores únicos=2\n",
            "internet.InternetService_No: dtype=bool, valores únicos=2\n",
            "account.Contract_Month-to-month: dtype=bool, valores únicos=2\n",
            "account.Contract_One year: dtype=bool, valores únicos=2\n",
            "account.Contract_Two year: dtype=bool, valores únicos=2\n"
          ]
        }
      ]
    },
    {
      "cell_type": "code",
      "source": [
        "if 'account.PaymentMethod' in df.columns:\n",
        "    dummies = pd.get_dummies(df['account.PaymentMethod'], prefix='account.PaymentMethod')\n",
        "    df = pd.concat([df.drop('account.PaymentMethod', axis=1), dummies], axis=1)\n"
      ],
      "metadata": {
        "id": "96O9A2IIjIBG"
      },
      "execution_count": 12,
      "outputs": []
    },
    {
      "cell_type": "code",
      "source": [
        "bool_cols = df.select_dtypes(include='bool').columns\n",
        "df[bool_cols] = df[bool_cols].astype(int)\n"
      ],
      "metadata": {
        "id": "rFVSkTaWjKzg"
      },
      "execution_count": 13,
      "outputs": []
    },
    {
      "cell_type": "code",
      "source": [
        "# Aplicar one-hot encoding a 'account.PaymentMethod'\n",
        "if 'account.PaymentMethod' in df.columns:\n",
        "    dummies = pd.get_dummies(df['account.PaymentMethod'], prefix='account.PaymentMethod')\n",
        "    df = pd.concat([df.drop('account.PaymentMethod', axis=1), dummies], axis=1)\n",
        "\n",
        "# Convertir booleanos a enteros\n",
        "bool_cols = df.select_dtypes(include='bool').columns\n",
        "df[bool_cols] = df[bool_cols].astype(int)\n",
        "\n",
        "# Mostrar primeras filas y tipos de dato\n",
        "print(df.head())\n",
        "print(\"\\nTipos de datos en el DataFrame:\")\n",
        "print(df.dtypes)\n"
      ],
      "metadata": {
        "id": "iTJGSx5UjT3j",
        "colab": {
          "base_uri": "https://localhost:8080/"
        },
        "outputId": "153c476b-0de5-41e9-9c64-05adb9b6c877"
      },
      "execution_count": 14,
      "outputs": [
        {
          "output_type": "stream",
          "name": "stdout",
          "text": [
            "   Churn  customer.gender  customer.SeniorCitizen  customer.Partner  \\\n",
            "0      0                0                       0                 1   \n",
            "1      0                1                       0                 0   \n",
            "2      1                1                       0                 0   \n",
            "3      1                1                       1                 1   \n",
            "4      1                0                       1                 1   \n",
            "\n",
            "   customer.Dependents  customer.tenure  phone.PhoneService  \\\n",
            "0                    1                9                   1   \n",
            "1                    0                9                   1   \n",
            "2                    0                4                   1   \n",
            "3                    0               13                   1   \n",
            "4                    0                3                   1   \n",
            "\n",
            "   phone.MultipleLines  internet.OnlineSecurity  internet.OnlineBackup  ...  \\\n",
            "0                    0                        0                      1  ...   \n",
            "1                    1                        0                      0  ...   \n",
            "2                    0                        0                      0  ...   \n",
            "3                    0                        0                      1  ...   \n",
            "4                    0                        0                      0  ...   \n",
            "\n",
            "   internet.InternetService_DSL  internet.InternetService_Fiber optic  \\\n",
            "0                             1                                     0   \n",
            "1                             1                                     0   \n",
            "2                             0                                     1   \n",
            "3                             0                                     1   \n",
            "4                             0                                     1   \n",
            "\n",
            "   internet.InternetService_No  account.Contract_Month-to-month  \\\n",
            "0                            0                                0   \n",
            "1                            0                                1   \n",
            "2                            0                                1   \n",
            "3                            0                                1   \n",
            "4                            0                                1   \n",
            "\n",
            "   account.Contract_One year  account.Contract_Two year  \\\n",
            "0                          1                          0   \n",
            "1                          0                          0   \n",
            "2                          0                          0   \n",
            "3                          0                          0   \n",
            "4                          0                          0   \n",
            "\n",
            "   account.PaymentMethod_Bank transfer (automatic)  \\\n",
            "0                                                0   \n",
            "1                                                0   \n",
            "2                                                0   \n",
            "3                                                0   \n",
            "4                                                0   \n",
            "\n",
            "   account.PaymentMethod_Credit card (automatic)  \\\n",
            "0                                              0   \n",
            "1                                              0   \n",
            "2                                              0   \n",
            "3                                              0   \n",
            "4                                              0   \n",
            "\n",
            "   account.PaymentMethod_Electronic check  account.PaymentMethod_Mailed check  \n",
            "0                                       0                                   1  \n",
            "1                                       0                                   1  \n",
            "2                                       1                                   0  \n",
            "3                                       1                                   0  \n",
            "4                                       0                                   1  \n",
            "\n",
            "[5 rows x 28 columns]\n",
            "\n",
            "Tipos de datos en el DataFrame:\n",
            "Churn                                                int64\n",
            "customer.gender                                      int64\n",
            "customer.SeniorCitizen                               int64\n",
            "customer.Partner                                     int64\n",
            "customer.Dependents                                  int64\n",
            "customer.tenure                                      int64\n",
            "phone.PhoneService                                   int64\n",
            "phone.MultipleLines                                  int64\n",
            "internet.OnlineSecurity                              int64\n",
            "internet.OnlineBackup                                int64\n",
            "internet.DeviceProtection                            int64\n",
            "internet.TechSupport                                 int64\n",
            "internet.StreamingTV                                 int64\n",
            "internet.StreamingMovies                             int64\n",
            "account.PaperlessBilling                             int64\n",
            "account.Charges.Monthly                            float64\n",
            "account.Charges.Total                              float64\n",
            "Cuentas_Diarias                                    float64\n",
            "internet.InternetService_DSL                         int64\n",
            "internet.InternetService_Fiber optic                 int64\n",
            "internet.InternetService_No                          int64\n",
            "account.Contract_Month-to-month                      int64\n",
            "account.Contract_One year                            int64\n",
            "account.Contract_Two year                            int64\n",
            "account.PaymentMethod_Bank transfer (automatic)      int64\n",
            "account.PaymentMethod_Credit card (automatic)        int64\n",
            "account.PaymentMethod_Electronic check               int64\n",
            "account.PaymentMethod_Mailed check                   int64\n",
            "dtype: object\n"
          ]
        }
      ]
    },
    {
      "cell_type": "code",
      "source": [
        "import pandas as pd\n",
        "\n",
        "# --- Suponiendo que ya tienes cargado tu DataFrame df ---\n",
        "\n",
        "# 1. Convertir columnas binarias Yes/No a 0/1\n",
        "cols_binarias = [\n",
        "    'Churn',\n",
        "    'customer.gender',\n",
        "    'customer.Partner',\n",
        "    'customer.Dependents',\n",
        "    'phone.PhoneService',\n",
        "    'account.PaperlessBilling'\n",
        "]\n",
        "\n",
        "for col in cols_binarias:\n",
        "    if col in df.columns:\n",
        "        df[col] = df[col].replace({'Yes': 1, 'No': 0, 'Female': 0, 'Male': 1})\n",
        "\n",
        "# 2. Convertir columnas con 3 valores a 0/1/2\n",
        "cols_3vals_map_012 = [\n",
        "    'phone.MultipleLines',\n",
        "    'internet.OnlineSecurity',\n",
        "    'internet.OnlineBackup',\n",
        "    'internet.DeviceProtection',\n",
        "    'internet.TechSupport',\n",
        "    'internet.StreamingTV',\n",
        "    'internet.StreamingMovies'\n",
        "]\n",
        "\n",
        "for col in cols_3vals_map_012:\n",
        "    if col in df.columns:\n",
        "        if col == 'phone.MultipleLines':\n",
        "            df[col] = df[col].replace({'No': 0, 'Yes': 1, 'No phone service': 2}).astype(int)\n",
        "        else:\n",
        "            df[col] = df[col].replace({'No': 0, 'Yes': 1, 'No internet service': 2}).astype(int)\n",
        "\n",
        "# 3. One-hot encoding para 'internet.InternetService'\n",
        "if 'internet.InternetService' in df.columns:\n",
        "    dummies = pd.get_dummies(df['internet.InternetService'], prefix='internet.InternetService')\n",
        "    df = pd.concat([df.drop('internet.InternetService', axis=1), dummies], axis=1)\n",
        "\n",
        "# 4. One-hot encoding para 'account.Contract'\n",
        "if 'account.Contract' in df.columns:\n",
        "    dummies = pd.get_dummies(df['account.Contract'], prefix='account.Contract')\n",
        "    df = pd.concat([df.drop('account.Contract', axis=1), dummies], axis=1)\n",
        "\n",
        "# 5. One-hot encoding para 'account.PaymentMethod'\n",
        "if 'account.PaymentMethod' in df.columns:\n",
        "    dummies = pd.get_dummies(df['account.PaymentMethod'], prefix='account.PaymentMethod')\n",
        "    df = pd.concat([df.drop('account.PaymentMethod', axis=1), dummies], axis=1)\n",
        "\n",
        "# 6. Convertir booleanos a enteros para evitar True/False\n",
        "bool_cols = df.select_dtypes(include='bool').columns\n",
        "df[bool_cols] = df[bool_cols].astype(int)\n",
        "\n",
        "# 7. Mostrar primeras filas y tipos para verificar\n",
        "print(df.head())\n",
        "print(\"\\nTipos de datos en el DataFrame:\")\n",
        "print(df.dtypes)\n",
        "\n",
        "# 8. Guardar DataFrame limpio en CSV\n",
        "df.to_csv(\"df_transformado.csv\", index=False, encoding=\"utf-8-sig\")\n",
        "print(\"\\nArchivo df_transformado.csv guardado correctamente.\")\n"
      ],
      "metadata": {
        "id": "_6IE0WG4jt6f",
        "colab": {
          "base_uri": "https://localhost:8080/"
        },
        "outputId": "5f1e0e09-54bd-4548-f959-832cd525794f"
      },
      "execution_count": 15,
      "outputs": [
        {
          "output_type": "stream",
          "name": "stdout",
          "text": [
            "   Churn  customer.gender  customer.SeniorCitizen  customer.Partner  \\\n",
            "0      0                0                       0                 1   \n",
            "1      0                1                       0                 0   \n",
            "2      1                1                       0                 0   \n",
            "3      1                1                       1                 1   \n",
            "4      1                0                       1                 1   \n",
            "\n",
            "   customer.Dependents  customer.tenure  phone.PhoneService  \\\n",
            "0                    1                9                   1   \n",
            "1                    0                9                   1   \n",
            "2                    0                4                   1   \n",
            "3                    0               13                   1   \n",
            "4                    0                3                   1   \n",
            "\n",
            "   phone.MultipleLines  internet.OnlineSecurity  internet.OnlineBackup  ...  \\\n",
            "0                    0                        0                      1  ...   \n",
            "1                    1                        0                      0  ...   \n",
            "2                    0                        0                      0  ...   \n",
            "3                    0                        0                      1  ...   \n",
            "4                    0                        0                      0  ...   \n",
            "\n",
            "   internet.InternetService_DSL  internet.InternetService_Fiber optic  \\\n",
            "0                             1                                     0   \n",
            "1                             1                                     0   \n",
            "2                             0                                     1   \n",
            "3                             0                                     1   \n",
            "4                             0                                     1   \n",
            "\n",
            "   internet.InternetService_No  account.Contract_Month-to-month  \\\n",
            "0                            0                                0   \n",
            "1                            0                                1   \n",
            "2                            0                                1   \n",
            "3                            0                                1   \n",
            "4                            0                                1   \n",
            "\n",
            "   account.Contract_One year  account.Contract_Two year  \\\n",
            "0                          1                          0   \n",
            "1                          0                          0   \n",
            "2                          0                          0   \n",
            "3                          0                          0   \n",
            "4                          0                          0   \n",
            "\n",
            "   account.PaymentMethod_Bank transfer (automatic)  \\\n",
            "0                                                0   \n",
            "1                                                0   \n",
            "2                                                0   \n",
            "3                                                0   \n",
            "4                                                0   \n",
            "\n",
            "   account.PaymentMethod_Credit card (automatic)  \\\n",
            "0                                              0   \n",
            "1                                              0   \n",
            "2                                              0   \n",
            "3                                              0   \n",
            "4                                              0   \n",
            "\n",
            "   account.PaymentMethod_Electronic check  account.PaymentMethod_Mailed check  \n",
            "0                                       0                                   1  \n",
            "1                                       0                                   1  \n",
            "2                                       1                                   0  \n",
            "3                                       1                                   0  \n",
            "4                                       0                                   1  \n",
            "\n",
            "[5 rows x 28 columns]\n",
            "\n",
            "Tipos de datos en el DataFrame:\n",
            "Churn                                                int64\n",
            "customer.gender                                      int64\n",
            "customer.SeniorCitizen                               int64\n",
            "customer.Partner                                     int64\n",
            "customer.Dependents                                  int64\n",
            "customer.tenure                                      int64\n",
            "phone.PhoneService                                   int64\n",
            "phone.MultipleLines                                  int64\n",
            "internet.OnlineSecurity                              int64\n",
            "internet.OnlineBackup                                int64\n",
            "internet.DeviceProtection                            int64\n",
            "internet.TechSupport                                 int64\n",
            "internet.StreamingTV                                 int64\n",
            "internet.StreamingMovies                             int64\n",
            "account.PaperlessBilling                             int64\n",
            "account.Charges.Monthly                            float64\n",
            "account.Charges.Total                              float64\n",
            "Cuentas_Diarias                                    float64\n",
            "internet.InternetService_DSL                         int64\n",
            "internet.InternetService_Fiber optic                 int64\n",
            "internet.InternetService_No                          int64\n",
            "account.Contract_Month-to-month                      int64\n",
            "account.Contract_One year                            int64\n",
            "account.Contract_Two year                            int64\n",
            "account.PaymentMethod_Bank transfer (automatic)      int64\n",
            "account.PaymentMethod_Credit card (automatic)        int64\n",
            "account.PaymentMethod_Electronic check               int64\n",
            "account.PaymentMethod_Mailed check                   int64\n",
            "dtype: object\n",
            "\n",
            "Archivo df_transformado.csv guardado correctamente.\n"
          ]
        }
      ]
    },
    {
      "cell_type": "code",
      "source": [
        "# Ver proporción de valores únicos en la columna 'Churn'\n",
        "print(\"Distribución de la variable Churn:\")\n",
        "print(df['Churn'].value_counts())\n",
        "\n",
        "print(\"\\nProporción relativa (porcentaje) de cada clase:\")\n",
        "print(df['Churn'].value_counts(normalize=True) * 100)\n"
      ],
      "metadata": {
        "id": "JMIpkHh3kGIw",
        "colab": {
          "base_uri": "https://localhost:8080/"
        },
        "outputId": "374e3263-8f90-4927-8861-ebaa6cf5396f"
      },
      "execution_count": 16,
      "outputs": [
        {
          "output_type": "stream",
          "name": "stdout",
          "text": [
            "Distribución de la variable Churn:\n",
            "Churn\n",
            "0    5174\n",
            "1    1869\n",
            "Name: count, dtype: int64\n",
            "\n",
            "Proporción relativa (porcentaje) de cada clase:\n",
            "Churn\n",
            "0    73.463013\n",
            "1    26.536987\n",
            "Name: proportion, dtype: float64\n"
          ]
        }
      ]
    },
    {
      "cell_type": "markdown",
      "source": [
        "Esto nos muestra:\n",
        "Cuántos clientes cancelaron (Churn = 1) y cuántos no (Churn = 0).\n",
        "El porcentaje de cada clase en el dataset para entender si hay desbalance."
      ],
      "metadata": {
        "id": "Uo4Vt8J3kTKE"
      }
    },
    {
      "cell_type": "code",
      "source": [
        "# Ver cuántos valores NaN hay en cada columna\n",
        "print(df.isna().sum())"
      ],
      "metadata": {
        "id": "tLGXqml8lLvK",
        "colab": {
          "base_uri": "https://localhost:8080/"
        },
        "outputId": "a67b84d7-c1a4-4394-ed8c-5bd984d55c63"
      },
      "execution_count": 17,
      "outputs": [
        {
          "output_type": "stream",
          "name": "stdout",
          "text": [
            "Churn                                               0\n",
            "customer.gender                                     0\n",
            "customer.SeniorCitizen                              0\n",
            "customer.Partner                                    0\n",
            "customer.Dependents                                 0\n",
            "customer.tenure                                     0\n",
            "phone.PhoneService                                  0\n",
            "phone.MultipleLines                                 0\n",
            "internet.OnlineSecurity                             0\n",
            "internet.OnlineBackup                               0\n",
            "internet.DeviceProtection                           0\n",
            "internet.TechSupport                                0\n",
            "internet.StreamingTV                                0\n",
            "internet.StreamingMovies                            0\n",
            "account.PaperlessBilling                            0\n",
            "account.Charges.Monthly                             0\n",
            "account.Charges.Total                              11\n",
            "Cuentas_Diarias                                     0\n",
            "internet.InternetService_DSL                        0\n",
            "internet.InternetService_Fiber optic                0\n",
            "internet.InternetService_No                         0\n",
            "account.Contract_Month-to-month                     0\n",
            "account.Contract_One year                           0\n",
            "account.Contract_Two year                           0\n",
            "account.PaymentMethod_Bank transfer (automatic)     0\n",
            "account.PaymentMethod_Credit card (automatic)       0\n",
            "account.PaymentMethod_Electronic check              0\n",
            "account.PaymentMethod_Mailed check                  0\n",
            "dtype: int64\n"
          ]
        }
      ]
    },
    {
      "cell_type": "code",
      "source": [
        "from sklearn.impute import SimpleImputer\n",
        "from imblearn.over_sampling import SMOTE\n",
        "import pandas as pd\n",
        "\n",
        "# Imputar valores faltantes con la media en columnas numéricas\n",
        "imputer = SimpleImputer(strategy='mean')\n",
        "\n",
        "# Separar características y etiqueta\n",
        "X = df.drop('Churn', axis=1)\n",
        "y = df['Churn']\n",
        "\n",
        "# Imputar solo en columnas numéricas, pero para evitar problemas con dummies (bool), vamos a imputar todo\n",
        "X_imputed = pd.DataFrame(imputer.fit_transform(X), columns=X.columns)\n",
        "\n",
        "# Ahora aplicar SMOTE\n",
        "smote = SMOTE(random_state=42)\n",
        "X_res, y_res = smote.fit_resample(X_imputed, y)\n",
        "\n",
        "print(\"Distribución original de Churn:\")\n",
        "print(y.value_counts())\n",
        "\n",
        "print(\"\\nDistribución después de aplicar SMOTE:\")\n",
        "print(y_res.value_counts())\n",
        "\n",
        "# Crear nuevo dataframe balanceado\n",
        "df_resampled = X_res.copy()\n",
        "df_resampled['Churn'] = y_res\n"
      ],
      "metadata": {
        "id": "QCVtNvf_laX6",
        "colab": {
          "base_uri": "https://localhost:8080/"
        },
        "outputId": "3db83d7e-2e31-4dcd-b199-01d150db2cc6"
      },
      "execution_count": 18,
      "outputs": [
        {
          "output_type": "stream",
          "name": "stdout",
          "text": [
            "Distribución original de Churn:\n",
            "Churn\n",
            "0    5174\n",
            "1    1869\n",
            "Name: count, dtype: int64\n",
            "\n",
            "Distribución después de aplicar SMOTE:\n",
            "Churn\n",
            "0    5174\n",
            "1    5174\n",
            "Name: count, dtype: int64\n"
          ]
        }
      ]
    },
    {
      "cell_type": "markdown",
      "source": [
        "¡Perfecto! Ahora el dataset está balanceado: tienen igual cantidad de clientes que no cancelaron (0) y que sí cancelaron (1), ambos con 5174 registros.\n",
        "\n",
        "Esto es muy útil para entrenar modelos que no se sesguen hacia la clase mayoritaria."
      ],
      "metadata": {
        "id": "3w0S1X7ulvPh"
      }
    },
    {
      "cell_type": "markdown",
      "source": [
        "En este contexto, \"churn\" generalmente significa que el cliente canceló o se fue (es decir, abandonó el servicio).\n",
        "\n",
        "Churn = 1 → El cliente sí canceló el servicio (evadió o dejó de usarlo).\n",
        "\n",
        "Churn = 0 → El cliente no canceló (se mantuvo activo).\n",
        "\n",
        "Si en tu dataset o negocio usas \"churn\" con otro significado, sería bueno aclararlo, pero por convención \"churn\" es abandono o pérdida de cliente."
      ],
      "metadata": {
        "id": "7TpdBefRmhlv"
      }
    },
    {
      "cell_type": "code",
      "source": [
        "import pandas as pd\n",
        "import seaborn as sns\n",
        "import matplotlib.pyplot as plt\n",
        "\n",
        "# Supongamos que tu dataframe balanceado se llama df_resampled\n",
        "# Para correlación, sólo consideramos variables numéricas\n",
        "corr_matrix = df_resampled.corr()\n",
        "\n",
        "# Mostrar matriz de correlación\n",
        "print(corr_matrix)\n",
        "\n",
        "# Visualizar la matriz con un mapa de calor\n",
        "plt.figure(figsize=(12,10))\n",
        "sns.heatmap(corr_matrix, annot=True, fmt=\".2f\", cmap=\"coolwarm\", cbar=True)\n",
        "plt.title(\"Matriz de correlación\")\n",
        "plt.show()\n"
      ],
      "metadata": {
        "id": "T2Sbzam0lusZ",
        "colab": {
          "base_uri": "https://localhost:8080/",
          "height": 1000
        },
        "outputId": "36bd906a-c96f-4f6d-b2f4-f97d842e4b07"
      },
      "execution_count": 19,
      "outputs": [
        {
          "output_type": "stream",
          "name": "stdout",
          "text": [
            "                                                 customer.gender  \\\n",
            "customer.gender                                         1.000000   \n",
            "customer.SeniorCitizen                                 -0.004667   \n",
            "customer.Partner                                        0.012672   \n",
            "customer.Dependents                                     0.009302   \n",
            "customer.tenure                                         0.016083   \n",
            "phone.PhoneService                                     -0.015574   \n",
            "phone.MultipleLines                                     0.008032   \n",
            "internet.OnlineSecurity                                -0.002667   \n",
            "internet.OnlineBackup                                   0.000588   \n",
            "internet.DeviceProtection                               0.010543   \n",
            "internet.TechSupport                                    0.002415   \n",
            "internet.StreamingTV                                    0.010661   \n",
            "internet.StreamingMovies                                0.005677   \n",
            "account.PaperlessBilling                               -0.014035   \n",
            "account.Charges.Monthly                                -0.019848   \n",
            "account.Charges.Total                                   0.013057   \n",
            "Cuentas_Diarias                                        -0.019848   \n",
            "internet.InternetService_DSL                            0.021755   \n",
            "internet.InternetService_Fiber optic                   -0.026084   \n",
            "internet.InternetService_No                             0.008004   \n",
            "account.Contract_Month-to-month                        -0.012518   \n",
            "account.Contract_One year                               0.016955   \n",
            "account.Contract_Two year                              -0.001015   \n",
            "account.PaymentMethod_Bank transfer (automatic)        -0.009137   \n",
            "account.PaymentMethod_Credit card (automatic)          -0.009227   \n",
            "account.PaymentMethod_Electronic check                 -0.001262   \n",
            "account.PaymentMethod_Mailed check                      0.019098   \n",
            "Churn                                                  -0.004809   \n",
            "\n",
            "                                                 customer.SeniorCitizen  \\\n",
            "customer.gender                                               -0.004667   \n",
            "customer.SeniorCitizen                                         1.000000   \n",
            "customer.Partner                                               0.022816   \n",
            "customer.Dependents                                           -0.216753   \n",
            "customer.tenure                                                0.005765   \n",
            "phone.PhoneService                                             0.013943   \n",
            "phone.MultipleLines                                            0.112327   \n",
            "internet.OnlineSecurity                                       -0.211725   \n",
            "internet.OnlineBackup                                         -0.152415   \n",
            "internet.DeviceProtection                                     -0.156096   \n",
            "internet.TechSupport                                          -0.225479   \n",
            "internet.StreamingTV                                          -0.121380   \n",
            "internet.StreamingMovies                                      -0.110499   \n",
            "account.PaperlessBilling                                       0.171309   \n",
            "account.Charges.Monthly                                        0.227675   \n",
            "account.Charges.Total                                          0.086501   \n",
            "Cuentas_Diarias                                                0.227675   \n",
            "internet.InternetService_DSL                                  -0.128133   \n",
            "internet.InternetService_Fiber optic                           0.258476   \n",
            "internet.InternetService_No                                   -0.187381   \n",
            "account.Contract_Month-to-month                                0.145636   \n",
            "account.Contract_One year                                     -0.055861   \n",
            "account.Contract_Two year                                     -0.126993   \n",
            "account.PaymentMethod_Bank transfer (automatic)               -0.027277   \n",
            "account.PaymentMethod_Credit card (automatic)                 -0.027850   \n",
            "account.PaymentMethod_Electronic check                         0.175988   \n",
            "account.PaymentMethod_Mailed check                            -0.157699   \n",
            "Churn                                                          0.167994   \n",
            "\n",
            "                                                 customer.Partner  \\\n",
            "customer.gender                                          0.012672   \n",
            "customer.SeniorCitizen                                   0.022816   \n",
            "customer.Partner                                         1.000000   \n",
            "customer.Dependents                                      0.458226   \n",
            "customer.tenure                                          0.401016   \n",
            "phone.PhoneService                                       0.020335   \n",
            "phone.MultipleLines                                      0.098247   \n",
            "internet.OnlineSecurity                                  0.101605   \n",
            "internet.OnlineBackup                                    0.111202   \n",
            "internet.DeviceProtection                                0.120691   \n",
            "internet.TechSupport                                     0.091020   \n",
            "internet.StreamingTV                                     0.101683   \n",
            "internet.StreamingMovies                                 0.102420   \n",
            "account.PaperlessBilling                                -0.028043   \n",
            "account.Charges.Monthly                                  0.103632   \n",
            "account.Charges.Total                                    0.346442   \n",
            "Cuentas_Diarias                                          0.103632   \n",
            "internet.InternetService_DSL                            -0.018115   \n",
            "internet.InternetService_Fiber optic                     0.005778   \n",
            "internet.InternetService_No                              0.014656   \n",
            "account.Contract_Month-to-month                         -0.298541   \n",
            "account.Contract_One year                                0.127319   \n",
            "account.Contract_Two year                                0.247751   \n",
            "account.PaymentMethod_Bank transfer (automatic)          0.127303   \n",
            "account.PaymentMethod_Credit card (automatic)            0.092228   \n",
            "account.PaymentMethod_Electronic check                  -0.097058   \n",
            "account.PaymentMethod_Mailed check                      -0.094356   \n",
            "Churn                                                   -0.182335   \n",
            "\n",
            "                                                 customer.Dependents  \\\n",
            "customer.gender                                             0.009302   \n",
            "customer.SeniorCitizen                                     -0.216753   \n",
            "customer.Partner                                            0.458226   \n",
            "customer.Dependents                                         1.000000   \n",
            "customer.tenure                                             0.192928   \n",
            "phone.PhoneService                                         -0.000529   \n",
            "phone.MultipleLines                                        -0.016805   \n",
            "internet.OnlineSecurity                                     0.201070   \n",
            "internet.OnlineBackup                                       0.173957   \n",
            "internet.DeviceProtection                                   0.169633   \n",
            "internet.TechSupport                                        0.196700   \n",
            "internet.StreamingTV                                        0.143140   \n",
            "internet.StreamingMovies                                    0.133813   \n",
            "account.PaperlessBilling                                   -0.125437   \n",
            "account.Charges.Monthly                                    -0.111002   \n",
            "account.Charges.Total                                       0.101914   \n",
            "Cuentas_Diarias                                            -0.111002   \n",
            "internet.InternetService_DSL                                0.062395   \n",
            "internet.InternetService_Fiber optic                       -0.168220   \n",
            "internet.InternetService_No                                 0.147893   \n",
            "account.Contract_Month-to-month                            -0.255185   \n",
            "account.Contract_One year                                   0.100629   \n",
            "account.Contract_Two year                                   0.219821   \n",
            "account.PaymentMethod_Bank transfer (automatic)             0.071149   \n",
            "account.PaymentMethod_Credit card (automatic)               0.073499   \n",
            "account.PaymentMethod_Electronic check                     -0.170194   \n",
            "account.PaymentMethod_Mailed check                          0.065033   \n",
            "Churn                                                      -0.199732   \n",
            "\n",
            "                                                 customer.tenure  \\\n",
            "customer.gender                                         0.016083   \n",
            "customer.SeniorCitizen                                  0.005765   \n",
            "customer.Partner                                        0.401016   \n",
            "customer.Dependents                                     0.192928   \n",
            "customer.tenure                                         1.000000   \n",
            "phone.PhoneService                                      0.018132   \n",
            "phone.MultipleLines                                     0.241202   \n",
            "internet.OnlineSecurity                                 0.197550   \n",
            "internet.OnlineBackup                                   0.241722   \n",
            "internet.DeviceProtection                               0.238840   \n",
            "internet.TechSupport                                    0.197459   \n",
            "internet.StreamingTV                                    0.194498   \n",
            "internet.StreamingMovies                                0.199334   \n",
            "account.PaperlessBilling                               -0.025074   \n",
            "account.Charges.Monthly                                 0.234336   \n",
            "account.Charges.Total                                   0.857266   \n",
            "Cuentas_Diarias                                         0.234336   \n",
            "internet.InternetService_DSL                           -0.001335   \n",
            "internet.InternetService_Fiber optic                   -0.002309   \n",
            "internet.InternetService_No                             0.004738   \n",
            "account.Contract_Month-to-month                        -0.674204   \n",
            "account.Contract_One year                               0.289997   \n",
            "account.Contract_Two year                               0.557081   \n",
            "account.PaymentMethod_Bank transfer (automatic)         0.259622   \n",
            "account.PaymentMethod_Credit card (automatic)           0.250335   \n",
            "account.PaymentMethod_Electronic check                 -0.236295   \n",
            "account.PaymentMethod_Mailed check                     -0.205861   \n",
            "Churn                                                  -0.409793   \n",
            "\n",
            "                                                 phone.PhoneService  \\\n",
            "customer.gender                                           -0.015574   \n",
            "customer.SeniorCitizen                                     0.013943   \n",
            "customer.Partner                                           0.020335   \n",
            "customer.Dependents                                       -0.000529   \n",
            "customer.tenure                                            0.018132   \n",
            "phone.PhoneService                                         1.000000   \n",
            "phone.MultipleLines                                       -0.681624   \n",
            "internet.OnlineSecurity                                    0.095404   \n",
            "internet.OnlineBackup                                      0.113784   \n",
            "internet.DeviceProtection                                  0.114336   \n",
            "internet.TechSupport                                       0.097950   \n",
            "internet.StreamingTV                                       0.150204   \n",
            "internet.StreamingMovies                                   0.144935   \n",
            "account.PaperlessBilling                                   0.030287   \n",
            "account.Charges.Monthly                                    0.307701   \n",
            "account.Charges.Total                                      0.120503   \n",
            "Cuentas_Diarias                                            0.307701   \n",
            "internet.InternetService_DSL                              -0.478818   \n",
            "internet.InternetService_Fiber optic                       0.338942   \n",
            "internet.InternetService_No                                0.138325   \n",
            "account.Contract_Month-to-month                            0.000419   \n",
            "account.Contract_One year                                 -0.000108   \n",
            "account.Contract_Two year                                 -0.000416   \n",
            "account.PaymentMethod_Bank transfer (automatic)            0.011408   \n",
            "account.PaymentMethod_Credit card (automatic)             -0.004662   \n",
            "account.PaymentMethod_Electronic check                     0.013832   \n",
            "account.PaymentMethod_Mailed check                        -0.023087   \n",
            "Churn                                                      0.024519   \n",
            "\n",
            "                                                 phone.MultipleLines  \\\n",
            "customer.gender                                             0.008032   \n",
            "customer.SeniorCitizen                                      0.112327   \n",
            "customer.Partner                                            0.098247   \n",
            "customer.Dependents                                        -0.016805   \n",
            "customer.tenure                                             0.241202   \n",
            "phone.PhoneService                                         -0.681624   \n",
            "phone.MultipleLines                                         1.000000   \n",
            "internet.OnlineSecurity                                    -0.208621   \n",
            "internet.OnlineBackup                                      -0.167569   \n",
            "internet.DeviceProtection                                  -0.165454   \n",
            "internet.TechSupport                                       -0.207191   \n",
            "internet.StreamingTV                                       -0.161785   \n",
            "internet.StreamingMovies                                   -0.149178   \n",
            "account.PaperlessBilling                                    0.110408   \n",
            "account.Charges.Monthly                                     0.118585   \n",
            "account.Charges.Total                                       0.248291   \n",
            "Cuentas_Diarias                                             0.118585   \n",
            "internet.InternetService_DSL                                0.241384   \n",
            "internet.InternetService_Fiber optic                       -0.008509   \n",
            "internet.InternetService_No                                -0.286889   \n",
            "account.Contract_Month-to-month                            -0.068643   \n",
            "account.Contract_One year                                   0.018561   \n",
            "account.Contract_Two year                                   0.067482   \n",
            "account.PaymentMethod_Bank transfer (automatic)             0.050011   \n",
            "account.PaymentMethod_Credit card (automatic)               0.051175   \n",
            "account.PaymentMethod_Electronic check                      0.058433   \n",
            "account.PaymentMethod_Mailed check                         -0.166802   \n",
            "Churn                                                       0.017953   \n",
            "\n",
            "                                                 internet.OnlineSecurity  \\\n",
            "customer.gender                                                -0.002667   \n",
            "customer.SeniorCitizen                                         -0.211725   \n",
            "customer.Partner                                                0.101605   \n",
            "customer.Dependents                                             0.201070   \n",
            "customer.tenure                                                 0.197550   \n",
            "phone.PhoneService                                              0.095404   \n",
            "phone.MultipleLines                                            -0.208621   \n",
            "internet.OnlineSecurity                                         1.000000   \n",
            "internet.OnlineBackup                                           0.750375   \n",
            "internet.DeviceProtection                                       0.744651   \n",
            "internet.TechSupport                                            0.796491   \n",
            "internet.StreamingTV                                            0.681487   \n",
            "internet.StreamingMovies                                        0.683710   \n",
            "account.PaperlessBilling                                       -0.352319   \n",
            "account.Charges.Monthly                                        -0.593224   \n",
            "account.Charges.Total                                          -0.067738   \n",
            "Cuentas_Diarias                                                -0.593224   \n",
            "internet.InternetService_DSL                                   -0.137881   \n",
            "internet.InternetService_Fiber optic                           -0.504585   \n",
            "internet.InternetService_No                                     0.845254   \n",
            "account.Contract_Month-to-month                                -0.398700   \n",
            "account.Contract_One year                                       0.139065   \n",
            "account.Contract_Two year                                       0.361271   \n",
            "account.PaymentMethod_Bank transfer (automatic)                 0.078465   \n",
            "account.PaymentMethod_Credit card (automatic)                   0.089631   \n",
            "account.PaymentMethod_Electronic check                         -0.386372   \n",
            "account.PaymentMethod_Mailed check                              0.301187   \n",
            "Churn                                                          -0.408549   \n",
            "\n",
            "                                                 internet.OnlineBackup  \\\n",
            "customer.gender                                               0.000588   \n",
            "customer.SeniorCitizen                                       -0.152415   \n",
            "customer.Partner                                              0.111202   \n",
            "customer.Dependents                                           0.173957   \n",
            "customer.tenure                                               0.241722   \n",
            "phone.PhoneService                                            0.113784   \n",
            "phone.MultipleLines                                          -0.167569   \n",
            "internet.OnlineSecurity                                       0.750375   \n",
            "internet.OnlineBackup                                         1.000000   \n",
            "internet.DeviceProtection                                     0.733384   \n",
            "internet.TechSupport                                          0.749021   \n",
            "internet.StreamingTV                                          0.698133   \n",
            "internet.StreamingMovies                                      0.694137   \n",
            "account.PaperlessBilling                                     -0.274301   \n",
            "account.Charges.Monthly                                      -0.490250   \n",
            "account.Charges.Total                                         0.014216   \n",
            "Cuentas_Diarias                                              -0.490250   \n",
            "internet.InternetService_DSL                                 -0.238792   \n",
            "internet.InternetService_Fiber optic                         -0.387121   \n",
            "internet.InternetService_No                                   0.812839   \n",
            "account.Contract_Month-to-month                              -0.364370   \n",
            "account.Contract_One year                                     0.135024   \n",
            "account.Contract_Two year                                     0.322377   \n",
            "account.PaymentMethod_Bank transfer (automatic)               0.078959   \n",
            "account.PaymentMethod_Credit card (automatic)                 0.078981   \n",
            "account.PaymentMethod_Electronic check                       -0.327673   \n",
            "account.PaymentMethod_Mailed check                            0.240648   \n",
            "Churn                                                        -0.353593   \n",
            "\n",
            "                                                 internet.DeviceProtection  \\\n",
            "customer.gender                                                   0.010543   \n",
            "customer.SeniorCitizen                                           -0.156096   \n",
            "customer.Partner                                                  0.120691   \n",
            "customer.Dependents                                               0.169633   \n",
            "customer.tenure                                                   0.238840   \n",
            "phone.PhoneService                                                0.114336   \n",
            "phone.MultipleLines                                              -0.165454   \n",
            "internet.OnlineSecurity                                           0.744651   \n",
            "internet.OnlineBackup                                             0.733384   \n",
            "internet.DeviceProtection                                         1.000000   \n",
            "internet.TechSupport                                              0.762477   \n",
            "internet.StreamingTV                                              0.745477   \n",
            "internet.StreamingMovies                                          0.745801   \n",
            "account.PaperlessBilling                                         -0.283464   \n",
            "account.Charges.Monthly                                          -0.461422   \n",
            "account.Charges.Total                                             0.020150   \n",
            "Cuentas_Diarias                                                  -0.461422   \n",
            "internet.InternetService_DSL                                     -0.247931   \n",
            "internet.InternetService_Fiber optic                             -0.378873   \n",
            "internet.InternetService_No                                       0.813101   \n",
            "account.Contract_Month-to-month                                  -0.397011   \n",
            "account.Contract_One year                                         0.147381   \n",
            "account.Contract_Two year                                         0.351000   \n",
            "account.PaymentMethod_Bank transfer (automatic)                   0.080624   \n",
            "account.PaymentMethod_Credit card (automatic)                     0.085734   \n",
            "account.PaymentMethod_Electronic check                           -0.331203   \n",
            "account.PaymentMethod_Mailed check                                0.236835   \n",
            "Churn                                                            -0.343283   \n",
            "\n",
            "                                                 ...  \\\n",
            "customer.gender                                  ...   \n",
            "customer.SeniorCitizen                           ...   \n",
            "customer.Partner                                 ...   \n",
            "customer.Dependents                              ...   \n",
            "customer.tenure                                  ...   \n",
            "phone.PhoneService                               ...   \n",
            "phone.MultipleLines                              ...   \n",
            "internet.OnlineSecurity                          ...   \n",
            "internet.OnlineBackup                            ...   \n",
            "internet.DeviceProtection                        ...   \n",
            "internet.TechSupport                             ...   \n",
            "internet.StreamingTV                             ...   \n",
            "internet.StreamingMovies                         ...   \n",
            "account.PaperlessBilling                         ...   \n",
            "account.Charges.Monthly                          ...   \n",
            "account.Charges.Total                            ...   \n",
            "Cuentas_Diarias                                  ...   \n",
            "internet.InternetService_DSL                     ...   \n",
            "internet.InternetService_Fiber optic             ...   \n",
            "internet.InternetService_No                      ...   \n",
            "account.Contract_Month-to-month                  ...   \n",
            "account.Contract_One year                        ...   \n",
            "account.Contract_Two year                        ...   \n",
            "account.PaymentMethod_Bank transfer (automatic)  ...   \n",
            "account.PaymentMethod_Credit card (automatic)    ...   \n",
            "account.PaymentMethod_Electronic check           ...   \n",
            "account.PaymentMethod_Mailed check               ...   \n",
            "Churn                                            ...   \n",
            "\n",
            "                                                 internet.InternetService_Fiber optic  \\\n",
            "customer.gender                                                             -0.026084   \n",
            "customer.SeniorCitizen                                                       0.258476   \n",
            "customer.Partner                                                             0.005778   \n",
            "customer.Dependents                                                         -0.168220   \n",
            "customer.tenure                                                             -0.002309   \n",
            "phone.PhoneService                                                           0.338942   \n",
            "phone.MultipleLines                                                         -0.008509   \n",
            "internet.OnlineSecurity                                                     -0.504585   \n",
            "internet.OnlineBackup                                                       -0.387121   \n",
            "internet.DeviceProtection                                                   -0.378873   \n",
            "internet.TechSupport                                                        -0.496582   \n",
            "internet.StreamingTV                                                        -0.262840   \n",
            "internet.StreamingMovies                                                    -0.268338   \n",
            "account.PaperlessBilling                                                     0.354600   \n",
            "account.Charges.Monthly                                                      0.808878   \n",
            "account.Charges.Total                                                        0.300489   \n",
            "Cuentas_Diarias                                                              0.808878   \n",
            "internet.InternetService_DSL                                                -0.700601   \n",
            "internet.InternetService_Fiber optic                                         1.000000   \n",
            "internet.InternetService_No                                                 -0.471787   \n",
            "account.Contract_Month-to-month                                              0.255993   \n",
            "account.Contract_One year                                                   -0.092785   \n",
            "account.Contract_Two year                                                   -0.228530   \n",
            "account.PaymentMethod_Bank transfer (automatic)                             -0.027791   \n",
            "account.PaymentMethod_Credit card (automatic)                               -0.075260   \n",
            "account.PaymentMethod_Electronic check                                       0.366726   \n",
            "account.PaymentMethod_Mailed check                                          -0.340173   \n",
            "Churn                                                                        0.354772   \n",
            "\n",
            "                                                 internet.InternetService_No  \\\n",
            "customer.gender                                                     0.008004   \n",
            "customer.SeniorCitizen                                             -0.187381   \n",
            "customer.Partner                                                    0.014656   \n",
            "customer.Dependents                                                 0.147893   \n",
            "customer.tenure                                                     0.004738   \n",
            "phone.PhoneService                                                  0.138325   \n",
            "phone.MultipleLines                                                -0.286889   \n",
            "internet.OnlineSecurity                                             0.845254   \n",
            "internet.OnlineBackup                                               0.812839   \n",
            "internet.DeviceProtection                                           0.813101   \n",
            "internet.TechSupport                                                0.842139   \n",
            "internet.StreamingTV                                                0.787558   \n",
            "internet.StreamingMovies                                            0.786044   \n",
            "account.PaperlessBilling                                           -0.336514   \n",
            "account.Charges.Monthly                                            -0.730231   \n",
            "account.Charges.Total                                              -0.292792   \n",
            "Cuentas_Diarias                                                    -0.730231   \n",
            "internet.InternetService_DSL                                       -0.298615   \n",
            "internet.InternetService_Fiber optic                               -0.471787   \n",
            "internet.InternetService_No                                         1.000000   \n",
            "account.Contract_Month-to-month                                    -0.242874   \n",
            "account.Contract_One year                                           0.060560   \n",
            "account.Contract_Two year                                           0.243784   \n",
            "account.PaymentMethod_Bank transfer (automatic)                     0.018523   \n",
            "account.PaymentMethod_Credit card (automatic)                       0.017724   \n",
            "account.PaymentMethod_Electronic check                             -0.312402   \n",
            "account.PaymentMethod_Mailed check                                  0.338939   \n",
            "Churn                                                              -0.290955   \n",
            "\n",
            "                                                 account.Contract_Month-to-month  \\\n",
            "customer.gender                                                        -0.012518   \n",
            "customer.SeniorCitizen                                                  0.145636   \n",
            "customer.Partner                                                       -0.298541   \n",
            "customer.Dependents                                                    -0.255185   \n",
            "customer.tenure                                                        -0.674204   \n",
            "phone.PhoneService                                                      0.000419   \n",
            "phone.MultipleLines                                                    -0.068643   \n",
            "internet.OnlineSecurity                                                -0.398700   \n",
            "internet.OnlineBackup                                                  -0.364370   \n",
            "internet.DeviceProtection                                              -0.397011   \n",
            "internet.TechSupport                                                   -0.419761   \n",
            "internet.StreamingTV                                                   -0.327955   \n",
            "internet.StreamingMovies                                               -0.332746   \n",
            "account.PaperlessBilling                                                0.188197   \n",
            "account.Charges.Monthly                                                 0.064269   \n",
            "account.Charges.Total                                                  -0.495158   \n",
            "Cuentas_Diarias                                                         0.064269   \n",
            "internet.InternetService_DSL                                           -0.080536   \n",
            "internet.InternetService_Fiber optic                                    0.255993   \n",
            "internet.InternetService_No                                            -0.242874   \n",
            "account.Contract_Month-to-month                                         1.000000   \n",
            "account.Contract_One year                                              -0.621098   \n",
            "account.Contract_Two year                                              -0.638817   \n",
            "account.PaymentMethod_Bank transfer (automatic)                        -0.204526   \n",
            "account.PaymentMethod_Credit card (automatic)                          -0.222747   \n",
            "account.PaymentMethod_Electronic check                                  0.350934   \n",
            "account.PaymentMethod_Mailed check                                     -0.010592   \n",
            "Churn                                                                   0.486112   \n",
            "\n",
            "                                                 account.Contract_One year  \\\n",
            "customer.gender                                                   0.016955   \n",
            "customer.SeniorCitizen                                           -0.055861   \n",
            "customer.Partner                                                  0.127319   \n",
            "customer.Dependents                                               0.100629   \n",
            "customer.tenure                                                   0.289997   \n",
            "phone.PhoneService                                               -0.000108   \n",
            "phone.MultipleLines                                               0.018561   \n",
            "internet.OnlineSecurity                                           0.139065   \n",
            "internet.OnlineBackup                                             0.135024   \n",
            "internet.DeviceProtection                                         0.147381   \n",
            "internet.TechSupport                                              0.140084   \n",
            "internet.StreamingTV                                              0.120178   \n",
            "internet.StreamingMovies                                          0.125455   \n",
            "account.PaperlessBilling                                         -0.064962   \n",
            "account.Charges.Monthly                                           0.013447   \n",
            "account.Charges.Total                                             0.254246   \n",
            "Cuentas_Diarias                                                   0.013447   \n",
            "internet.InternetService_DSL                                      0.051422   \n",
            "internet.InternetService_Fiber optic                             -0.092785   \n",
            "internet.InternetService_No                                       0.060560   \n",
            "account.Contract_Month-to-month                                  -0.621098   \n",
            "account.Contract_One year                                         1.000000   \n",
            "account.Contract_Two year                                        -0.206205   \n",
            "account.PaymentMethod_Bank transfer (automatic)                   0.083590   \n",
            "account.PaymentMethod_Credit card (automatic)                     0.094818   \n",
            "account.PaymentMethod_Electronic check                           -0.143951   \n",
            "account.PaymentMethod_Mailed check                                0.001353   \n",
            "Churn                                                            -0.219546   \n",
            "\n",
            "                                                 account.Contract_Two year  \\\n",
            "customer.gender                                                  -0.001015   \n",
            "customer.SeniorCitizen                                           -0.126993   \n",
            "customer.Partner                                                  0.247751   \n",
            "customer.Dependents                                               0.219821   \n",
            "customer.tenure                                                   0.557081   \n",
            "phone.PhoneService                                               -0.000416   \n",
            "phone.MultipleLines                                               0.067482   \n",
            "internet.OnlineSecurity                                           0.361271   \n",
            "internet.OnlineBackup                                             0.322377   \n",
            "internet.DeviceProtection                                         0.351000   \n",
            "internet.TechSupport                                              0.386567   \n",
            "internet.StreamingTV                                              0.291486   \n",
            "internet.StreamingMovies                                          0.292287   \n",
            "account.PaperlessBilling                                         -0.171197   \n",
            "account.Charges.Monthly                                          -0.093442   \n",
            "account.Charges.Total                                             0.368632   \n",
            "Cuentas_Diarias                                                  -0.093442   \n",
            "internet.InternetService_DSL                                      0.050073   \n",
            "internet.InternetService_Fiber optic                             -0.228530   \n",
            "internet.InternetService_No                                       0.243784   \n",
            "account.Contract_Month-to-month                                  -0.638817   \n",
            "account.Contract_One year                                        -0.206205   \n",
            "account.Contract_Two year                                         1.000000   \n",
            "account.PaymentMethod_Bank transfer (automatic)                   0.173298   \n",
            "account.PaymentMethod_Credit card (automatic)                     0.185026   \n",
            "account.PaymentMethod_Electronic check                           -0.296839   \n",
            "account.PaymentMethod_Mailed check                                0.011897   \n",
            "Churn                                                            -0.391403   \n",
            "\n",
            "                                                 account.PaymentMethod_Bank transfer (automatic)  \\\n",
            "customer.gender                                                                        -0.009137   \n",
            "customer.SeniorCitizen                                                                 -0.027277   \n",
            "customer.Partner                                                                        0.127303   \n",
            "customer.Dependents                                                                     0.071149   \n",
            "customer.tenure                                                                         0.259622   \n",
            "phone.PhoneService                                                                      0.011408   \n",
            "phone.MultipleLines                                                                     0.050011   \n",
            "internet.OnlineSecurity                                                                 0.078465   \n",
            "internet.OnlineBackup                                                                   0.078959   \n",
            "internet.DeviceProtection                                                               0.080624   \n",
            "internet.TechSupport                                                                    0.080592   \n",
            "internet.StreamingTV                                                                    0.052474   \n",
            "internet.StreamingMovies                                                                0.057613   \n",
            "account.PaperlessBilling                                                               -0.030491   \n",
            "account.Charges.Monthly                                                                 0.040326   \n",
            "account.Charges.Total                                                                   0.205053   \n",
            "Cuentas_Diarias                                                                         0.040326   \n",
            "internet.InternetService_DSL                                                            0.015091   \n",
            "internet.InternetService_Fiber optic                                                   -0.027791   \n",
            "internet.InternetService_No                                                             0.018523   \n",
            "account.Contract_Month-to-month                                                        -0.204526   \n",
            "account.Contract_One year                                                               0.083590   \n",
            "account.Contract_Two year                                                               0.173298   \n",
            "account.PaymentMethod_Bank transfer (automatic)                                         1.000000   \n",
            "account.PaymentMethod_Credit card (automatic)                                          -0.237716   \n",
            "account.PaymentMethod_Electronic check                                                 -0.401967   \n",
            "account.PaymentMethod_Mailed check                                                     -0.255580   \n",
            "Churn                                                                                  -0.151590   \n",
            "\n",
            "                                                 account.PaymentMethod_Credit card (automatic)  \\\n",
            "customer.gender                                                                      -0.009227   \n",
            "customer.SeniorCitizen                                                               -0.027850   \n",
            "customer.Partner                                                                      0.092228   \n",
            "customer.Dependents                                                                   0.073499   \n",
            "customer.tenure                                                                       0.250335   \n",
            "phone.PhoneService                                                                   -0.004662   \n",
            "phone.MultipleLines                                                                   0.051175   \n",
            "internet.OnlineSecurity                                                               0.089631   \n",
            "internet.OnlineBackup                                                                 0.078981   \n",
            "internet.DeviceProtection                                                             0.085734   \n",
            "internet.TechSupport                                                                  0.090664   \n",
            "internet.StreamingTV                                                                  0.037223   \n",
            "internet.StreamingMovies                                                              0.047880   \n",
            "account.PaperlessBilling                                                             -0.035633   \n",
            "account.Charges.Monthly                                                               0.013390   \n",
            "account.Charges.Total                                                                 0.196928   \n",
            "Cuentas_Diarias                                                                       0.013390   \n",
            "internet.InternetService_DSL                                                          0.067119   \n",
            "internet.InternetService_Fiber optic                                                 -0.075260   \n",
            "internet.InternetService_No                                                           0.017724   \n",
            "account.Contract_Month-to-month                                                      -0.222747   \n",
            "account.Contract_One year                                                             0.094818   \n",
            "account.Contract_Two year                                                             0.185026   \n",
            "account.PaymentMethod_Bank transfer (automatic)                                      -0.237716   \n",
            "account.PaymentMethod_Credit card (automatic)                                         1.000000   \n",
            "account.PaymentMethod_Electronic check                                               -0.396402   \n",
            "account.PaymentMethod_Mailed check                                                   -0.249751   \n",
            "Churn                                                                                -0.169788   \n",
            "\n",
            "                                                 account.PaymentMethod_Electronic check  \\\n",
            "customer.gender                                                               -0.001262   \n",
            "customer.SeniorCitizen                                                         0.175988   \n",
            "customer.Partner                                                              -0.097058   \n",
            "customer.Dependents                                                           -0.170194   \n",
            "customer.tenure                                                               -0.236295   \n",
            "phone.PhoneService                                                             0.013832   \n",
            "phone.MultipleLines                                                            0.058433   \n",
            "internet.OnlineSecurity                                                       -0.386372   \n",
            "internet.OnlineBackup                                                         -0.327673   \n",
            "internet.DeviceProtection                                                     -0.331203   \n",
            "internet.TechSupport                                                          -0.390654   \n",
            "internet.StreamingTV                                                          -0.227950   \n",
            "internet.StreamingMovies                                                      -0.236267   \n",
            "account.PaperlessBilling                                                       0.239821   \n",
            "account.Charges.Monthly                                                        0.290746   \n",
            "account.Charges.Total                                                         -0.096056   \n",
            "Cuentas_Diarias                                                                0.290746   \n",
            "internet.InternetService_DSL                                                  -0.144126   \n",
            "internet.InternetService_Fiber optic                                           0.366726   \n",
            "internet.InternetService_No                                                   -0.312402   \n",
            "account.Contract_Month-to-month                                                0.350934   \n",
            "account.Contract_One year                                                     -0.143951   \n",
            "account.Contract_Two year                                                     -0.296839   \n",
            "account.PaymentMethod_Bank transfer (automatic)                               -0.401967   \n",
            "account.PaymentMethod_Credit card (automatic)                                 -0.396402   \n",
            "account.PaymentMethod_Electronic check                                         1.000000   \n",
            "account.PaymentMethod_Mailed check                                            -0.431371   \n",
            "Churn                                                                          0.350262   \n",
            "\n",
            "                                                 account.PaymentMethod_Mailed check  \\\n",
            "customer.gender                                                            0.019098   \n",
            "customer.SeniorCitizen                                                    -0.157699   \n",
            "customer.Partner                                                          -0.094356   \n",
            "customer.Dependents                                                        0.065033   \n",
            "customer.tenure                                                           -0.205861   \n",
            "phone.PhoneService                                                        -0.023087   \n",
            "phone.MultipleLines                                                       -0.166802   \n",
            "internet.OnlineSecurity                                                    0.301187   \n",
            "internet.OnlineBackup                                                      0.240648   \n",
            "internet.DeviceProtection                                                  0.236835   \n",
            "internet.TechSupport                                                       0.303277   \n",
            "internet.StreamingTV                                                       0.186658   \n",
            "internet.StreamingMovies                                                   0.181505   \n",
            "account.PaperlessBilling                                                  -0.223538   \n",
            "account.Charges.Monthly                                                   -0.399344   \n",
            "account.Charges.Total                                                     -0.270173   \n",
            "Cuentas_Diarias                                                           -0.399344   \n",
            "internet.InternetService_DSL                                               0.093909   \n",
            "internet.InternetService_Fiber optic                                      -0.340173   \n",
            "internet.InternetService_No                                                0.338939   \n",
            "account.Contract_Month-to-month                                           -0.010592   \n",
            "account.Contract_One year                                                  0.001353   \n",
            "account.Contract_Two year                                                  0.011897   \n",
            "account.PaymentMethod_Bank transfer (automatic)                           -0.255580   \n",
            "account.PaymentMethod_Credit card (automatic)                             -0.249751   \n",
            "account.PaymentMethod_Electronic check                                    -0.431371   \n",
            "account.PaymentMethod_Mailed check                                         1.000000   \n",
            "Churn                                                                     -0.111216   \n",
            "\n",
            "                                                    Churn  \n",
            "customer.gender                                 -0.004809  \n",
            "customer.SeniorCitizen                           0.167994  \n",
            "customer.Partner                                -0.182335  \n",
            "customer.Dependents                             -0.199732  \n",
            "customer.tenure                                 -0.409793  \n",
            "phone.PhoneService                               0.024519  \n",
            "phone.MultipleLines                              0.017953  \n",
            "internet.OnlineSecurity                         -0.408549  \n",
            "internet.OnlineBackup                           -0.353593  \n",
            "internet.DeviceProtection                       -0.343283  \n",
            "internet.TechSupport                            -0.400945  \n",
            "internet.StreamingTV                            -0.252825  \n",
            "internet.StreamingMovies                        -0.254350  \n",
            "account.PaperlessBilling                         0.241414  \n",
            "account.Charges.Monthly                          0.235715  \n",
            "account.Charges.Total                           -0.231258  \n",
            "Cuentas_Diarias                                  0.235715  \n",
            "internet.InternetService_DSL                    -0.148544  \n",
            "internet.InternetService_Fiber optic             0.354772  \n",
            "internet.InternetService_No                     -0.290955  \n",
            "account.Contract_Month-to-month                  0.486112  \n",
            "account.Contract_One year                       -0.219546  \n",
            "account.Contract_Two year                       -0.391403  \n",
            "account.PaymentMethod_Bank transfer (automatic) -0.151590  \n",
            "account.PaymentMethod_Credit card (automatic)   -0.169788  \n",
            "account.PaymentMethod_Electronic check           0.350262  \n",
            "account.PaymentMethod_Mailed check              -0.111216  \n",
            "Churn                                            1.000000  \n",
            "\n",
            "[28 rows x 28 columns]\n"
          ]
        },
        {
          "output_type": "display_data",
          "data": {
            "text/plain": [
              "<Figure size 1200x1000 with 2 Axes>"
            ],
            "image/png": "[encoded data removed]"
          },
          "metadata": {}
        }
      ]
    },
    {
      "cell_type": "markdown",
      "source": [
        "Interpretación rápida:\n",
        "\n",
        "Valores cercanos a +1 o -1 indican alta correlación positiva o negativa.\n",
        "Valores cerca de 0 indican poca o ninguna correlación.\n",
        "Puedes identificar variables muy correlacionadas entre sí (posible multicolinealidad).\n",
        "\n",
        "Observar qué variables tienen mayor correlación con Churn (variable objetivo)."
      ],
      "metadata": {
        "id": "dwBrhG9vm-qb"
      }
    },
    {
      "cell_type": "code",
      "source": [
        "# Correlación absoluta con Churn, ordenada de mayor a menor\n",
        "corr_with_target = corr_matrix['Churn'].abs().sort_values(ascending=False)\n",
        "\n",
        "print(\"Correlación absoluta de variables con Churn:\")\n",
        "print(corr_with_target)\n",
        "\n",
        "# Fijar un umbral mínimo para seleccionar variables importantes\n",
        "umbral = 0.1  # Puedes ajustar según necesidad\n",
        "\n",
        "variables_relevantes = corr_with_target[corr_with_target > umbral].index.tolist()\n",
        "\n",
        "print(\"\\nVariables seleccionadas (correlación > {}):\".format(umbral))\n",
        "print(variables_relevantes)\n",
        "\n",
        "# Crear nuevo dataframe solo con variables seleccionadas (incluyendo Churn)\n",
        "df_seleccionado = df_resampled[variables_relevantes]\n",
        "\n",
        "print(\"\\nDataframe reducido con variables seleccionadas:\")\n",
        "print(df_seleccionado.head())\n"
      ],
      "metadata": {
        "id": "kapcGpkUnbA7",
        "colab": {
          "base_uri": "https://localhost:8080/"
        },
        "outputId": "86c86e96-d119-4a9a-caaf-dc029605cecd"
      },
      "execution_count": 20,
      "outputs": [
        {
          "output_type": "stream",
          "name": "stdout",
          "text": [
            "Correlación absoluta de variables con Churn:\n",
            "Churn                                              1.000000\n",
            "account.Contract_Month-to-month                    0.486112\n",
            "customer.tenure                                    0.409793\n",
            "internet.OnlineSecurity                            0.408549\n",
            "internet.TechSupport                               0.400945\n",
            "account.Contract_Two year                          0.391403\n",
            "internet.InternetService_Fiber optic               0.354772\n",
            "internet.OnlineBackup                              0.353593\n",
            "account.PaymentMethod_Electronic check             0.350262\n",
            "internet.DeviceProtection                          0.343283\n",
            "internet.InternetService_No                        0.290955\n",
            "internet.StreamingMovies                           0.254350\n",
            "internet.StreamingTV                               0.252825\n",
            "account.PaperlessBilling                           0.241414\n",
            "account.Charges.Monthly                            0.235715\n",
            "Cuentas_Diarias                                    0.235715\n",
            "account.Charges.Total                              0.231258\n",
            "account.Contract_One year                          0.219546\n",
            "customer.Dependents                                0.199732\n",
            "customer.Partner                                   0.182335\n",
            "account.PaymentMethod_Credit card (automatic)      0.169788\n",
            "customer.SeniorCitizen                             0.167994\n",
            "account.PaymentMethod_Bank transfer (automatic)    0.151590\n",
            "internet.InternetService_DSL                       0.148544\n",
            "account.PaymentMethod_Mailed check                 0.111216\n",
            "phone.PhoneService                                 0.024519\n",
            "phone.MultipleLines                                0.017953\n",
            "customer.gender                                    0.004809\n",
            "Name: Churn, dtype: float64\n",
            "\n",
            "Variables seleccionadas (correlación > 0.1):\n",
            "['Churn', 'account.Contract_Month-to-month', 'customer.tenure', 'internet.OnlineSecurity', 'internet.TechSupport', 'account.Contract_Two year', 'internet.InternetService_Fiber optic', 'internet.OnlineBackup', 'account.PaymentMethod_Electronic check', 'internet.DeviceProtection', 'internet.InternetService_No', 'internet.StreamingMovies', 'internet.StreamingTV', 'account.PaperlessBilling', 'account.Charges.Monthly', 'Cuentas_Diarias', 'account.Charges.Total', 'account.Contract_One year', 'customer.Dependents', 'customer.Partner', 'account.PaymentMethod_Credit card (automatic)', 'customer.SeniorCitizen', 'account.PaymentMethod_Bank transfer (automatic)', 'internet.InternetService_DSL', 'account.PaymentMethod_Mailed check']\n",
            "\n",
            "Dataframe reducido con variables seleccionadas:\n",
            "   Churn  account.Contract_Month-to-month  customer.tenure  \\\n",
            "0      0                              0.0              9.0   \n",
            "1      0                              1.0              9.0   \n",
            "2      1                              1.0              4.0   \n",
            "3      1                              1.0             13.0   \n",
            "4      1                              1.0              3.0   \n",
            "\n",
            "   internet.OnlineSecurity  internet.TechSupport  account.Contract_Two year  \\\n",
            "0                      0.0                   1.0                        0.0   \n",
            "1                      0.0                   0.0                        0.0   \n",
            "2                      0.0                   0.0                        0.0   \n",
            "3                      0.0                   0.0                        0.0   \n",
            "4                      0.0                   1.0                        0.0   \n",
            "\n",
            "   internet.InternetService_Fiber optic  internet.OnlineBackup  \\\n",
            "0                                   0.0                    1.0   \n",
            "1                                   0.0                    0.0   \n",
            "2                                   1.0                    0.0   \n",
            "3                                   1.0                    1.0   \n",
            "4                                   1.0                    0.0   \n",
            "\n",
            "   account.PaymentMethod_Electronic check  internet.DeviceProtection  ...  \\\n",
            "0                                     0.0                        0.0  ...   \n",
            "1                                     0.0                        0.0  ...   \n",
            "2                                     1.0                        1.0  ...   \n",
            "3                                     1.0                        1.0  ...   \n",
            "4                                     0.0                        0.0  ...   \n",
            "\n",
            "   Cuentas_Diarias  account.Charges.Total  account.Contract_One year  \\\n",
            "0         2.186667                 593.30                        1.0   \n",
            "1         1.996667                 542.40                        0.0   \n",
            "2         2.463333                 280.85                        0.0   \n",
            "3         3.266667                1237.85                        0.0   \n",
            "4         2.796667                 267.40                        0.0   \n",
            "\n",
            "   customer.Dependents  customer.Partner  \\\n",
            "0                  1.0               1.0   \n",
            "1                  0.0               0.0   \n",
            "2                  0.0               0.0   \n",
            "3                  0.0               1.0   \n",
            "4                  0.0               1.0   \n",
            "\n",
            "   account.PaymentMethod_Credit card (automatic)  customer.SeniorCitizen  \\\n",
            "0                                            0.0                     0.0   \n",
            "1                                            0.0                     0.0   \n",
            "2                                            0.0                     0.0   \n",
            "3                                            0.0                     1.0   \n",
            "4                                            0.0                     1.0   \n",
            "\n",
            "   account.PaymentMethod_Bank transfer (automatic)  \\\n",
            "0                                              0.0   \n",
            "1                                              0.0   \n",
            "2                                              0.0   \n",
            "3                                              0.0   \n",
            "4                                              0.0   \n",
            "\n",
            "   internet.InternetService_DSL  account.PaymentMethod_Mailed check  \n",
            "0                           1.0                                 1.0  \n",
            "1                           1.0                                 1.0  \n",
            "2                           0.0                                 0.0  \n",
            "3                           0.0                                 0.0  \n",
            "4                           0.0                                 1.0  \n",
            "\n",
            "[5 rows x 25 columns]\n"
          ]
        }
      ]
    },
    {
      "cell_type": "code",
      "source": [
        "variables = ['Churn', 'account.Contract_Month-to-month', 'customer.tenure', 'internet.OnlineSecurity', 'internet.TechSupport', 'account.Contract_Two year', 'internet.InternetService_Fiber optic', 'internet.OnlineBackup', 'account.PaymentMethod_Electronic check', 'internet.DeviceProtection', 'internet.InternetService_No', 'internet.StreamingMovies', 'internet.StreamingTV', 'account.PaperlessBilling', 'account.Charges.Monthly', 'Cuentas_Diarias', 'account.Charges.Total', 'account.Contract_One year', 'customer.Dependents', 'customer.Partner', 'account.PaymentMethod_Credit card (automatic)', 'customer.SeniorCitizen', 'account.PaymentMethod_Bank transfer (automatic)', 'internet.InternetService_DSL', 'account.PaymentMethod_Mailed check']\n",
        "\n",
        "print(\"Número total de variables seleccionadas:\", len(variables))\n"
      ],
      "metadata": {
        "id": "KfeN0RDfn7R8",
        "colab": {
          "base_uri": "https://localhost:8080/"
        },
        "outputId": "290486a4-db5a-4364-ed03-ed2d298889b8"
      },
      "execution_count": 21,
      "outputs": [
        {
          "output_type": "stream",
          "name": "stdout",
          "text": [
            "Número total de variables seleccionadas: 25\n"
          ]
        }
      ]
    },
    {
      "cell_type": "code",
      "source": [
        "import numpy as np\n",
        "\n",
        "# Subconjunto con las variables relevantes (sin incluir 'Churn' porque es la variable objetivo)\n",
        "vars_sin_churn = [v for v in variables if v != 'Churn']\n",
        "\n",
        "# Matriz de correlación para esas variables\n",
        "corr_sub = df_resampled[vars_sin_churn].corr().abs()\n",
        "\n",
        "# Máscara para la parte superior de la matriz (sin diagonal)\n",
        "upper_tri = corr_sub.where(np.triu(np.ones(corr_sub.shape), k=1).astype(bool))\n",
        "\n",
        "# Encuentra pares con correlación mayor a 0.8\n",
        "alta_corr = [(col, row, corr_sub.loc[row, col])\n",
        "             for col in upper_tri.columns\n",
        "             for row in upper_tri.index\n",
        "             if upper_tri.loc[row, col] > 0.8]\n",
        "\n",
        "if alta_corr:\n",
        "    print(\"Pares de variables con correlación mayor a 0.8:\")\n",
        "    for col1, col2, corr_val in alta_corr:\n",
        "        print(f\"{col1} y {col2}: correlación = {corr_val:.2f}\")\n",
        "else:\n",
        "    print(\"No se encontraron pares con correlación mayor a 0.8.\")\n"
      ],
      "metadata": {
        "id": "cYM0anENoVNn",
        "colab": {
          "base_uri": "https://localhost:8080/"
        },
        "outputId": "1ba31251-dea0-4594-ce03-e0aff750b146"
      },
      "execution_count": 22,
      "outputs": [
        {
          "output_type": "stream",
          "name": "stdout",
          "text": [
            "Pares de variables con correlación mayor a 0.8:\n",
            "internet.InternetService_No y internet.OnlineSecurity: correlación = 0.85\n",
            "internet.InternetService_No y internet.TechSupport: correlación = 0.84\n",
            "internet.InternetService_No y internet.OnlineBackup: correlación = 0.81\n",
            "internet.InternetService_No y internet.DeviceProtection: correlación = 0.81\n",
            "account.Charges.Monthly y internet.InternetService_Fiber optic: correlación = 0.81\n",
            "Cuentas_Diarias y internet.InternetService_Fiber optic: correlación = 0.81\n",
            "Cuentas_Diarias y account.Charges.Monthly: correlación = 1.00\n",
            "account.Charges.Total y customer.tenure: correlación = 0.86\n"
          ]
        }
      ]
    },
    {
      "cell_type": "markdown",
      "source": [
        "1. Variables altamente correlacionadas:\n",
        "internet.InternetService_No tiene correlación alta (>0.8) con varias variables de servicios de internet:\n",
        "\n",
        "internet.OnlineSecurity (0.85)\n",
        "\n",
        "internet.TechSupport (0.84)\n",
        "\n",
        "internet.OnlineBackup (0.81)\n",
        "\n",
        "internet.DeviceProtection (0.81)\n",
        "\n",
        "Interpretación:\n",
        "Estas variables probablemente indican que cuando no tienes servicio de internet (InternetService_No=1), entonces no tienes ninguno de esos servicios extra, por eso la alta correlación. Son en la práctica redundantes.\n",
        "\n",
        "2. Relación entre cargos y servicios de internet:\n",
        "account.Charges.Monthly y internet.InternetService_Fiber optic: 0.81\n",
        "\n",
        "Cuentas_Diarias y internet.InternetService_Fiber optic: 0.81\n",
        "\n",
        "Cuentas_Diarias y account.Charges.Monthly: 1.00 (correlación perfecta)\n",
        "\n",
        "Interpretación:\n",
        "Los cargos mensuales y las cuentas diarias están muy relacionados con tener fibra óptica, lo que tiene sentido: fibra suele ser un servicio más caro.\n",
        "\n",
        "Además, Cuentas_Diarias es un cálculo derivado de account.Charges.Monthly (probablemente), por eso tienen correlación perfecta.\n",
        "\n",
        "3. Correlación entre total facturado y tiempo de cliente:\n",
        "account.Charges.Total y customer.tenure: 0.86\n",
        "\n",
        "Interpretación:\n",
        "Total facturado (Charges.Total) se acumula en el tiempo (tenure). Esto es lógico: mientras más tiempo lleva un cliente, más ha pagado.\n",
        "\n",
        "¿Qué puedes hacer?\n",
        "Eliminar o combinar variables redundantes:\n",
        "\n",
        "Dado que internet.InternetService_No indica ausencia total de internet, y las otras columnas OnlineSecurity, TechSupport, etc., son casi redundantes para clientes sin servicio, podrías:\n",
        "\n",
        "Mantener solo internet.InternetService_No y eliminar esas otras variables, o\n",
        "\n",
        "Mantener las otras variables y eliminar internet.InternetService_No (más detallado).\n",
        "\n",
        "Eliminar una de las variables perfectamente correlacionadas:\n",
        "\n",
        "Cuentas_Diarias y account.Charges.Monthly son redundantes. Puedes eliminar una (por ejemplo, Cuentas_Diarias) para evitar multicolinealidad.\n",
        "\n",
        "Cuidado con la correlación entre account.Charges.Total y customer.tenure:\n",
        "\n",
        "Como están muy correlacionadas, puede que ambas aporten información similar. Puedes probar modelos con ambas, o eliminar una."
      ],
      "metadata": {
        "id": "bdjN-m3Op3sn"
      }
    },
    {
      "cell_type": "code",
      "source": [
        "cols_a_eliminar = ['internet.OnlineSecurity', 'internet.TechSupport', 'Cuentas_Diarias']\n",
        "\n",
        "df = df.drop(columns=cols_a_eliminar)\n",
        "\n",
        "print(\"Columnas eliminadas:\", cols_a_eliminar)\n",
        "print(\"Columnas actuales:\")\n",
        "print(df.columns)\n"
      ],
      "metadata": {
        "id": "vHBB6IDTp29i",
        "colab": {
          "base_uri": "https://localhost:8080/"
        },
        "outputId": "78e0c64f-bb87-407c-ef50-8555cd9231ff"
      },
      "execution_count": 23,
      "outputs": [
        {
          "output_type": "stream",
          "name": "stdout",
          "text": [
            "Columnas eliminadas: ['internet.OnlineSecurity', 'internet.TechSupport', 'Cuentas_Diarias']\n",
            "Columnas actuales:\n",
            "Index(['Churn', 'customer.gender', 'customer.SeniorCitizen',\n",
            "       'customer.Partner', 'customer.Dependents', 'customer.tenure',\n",
            "       'phone.PhoneService', 'phone.MultipleLines', 'internet.OnlineBackup',\n",
            "       'internet.DeviceProtection', 'internet.StreamingTV',\n",
            "       'internet.StreamingMovies', 'account.PaperlessBilling',\n",
            "       'account.Charges.Monthly', 'account.Charges.Total',\n",
            "       'internet.InternetService_DSL', 'internet.InternetService_Fiber optic',\n",
            "       'internet.InternetService_No', 'account.Contract_Month-to-month',\n",
            "       'account.Contract_One year', 'account.Contract_Two year',\n",
            "       'account.PaymentMethod_Bank transfer (automatic)',\n",
            "       'account.PaymentMethod_Credit card (automatic)',\n",
            "       'account.PaymentMethod_Electronic check',\n",
            "       'account.PaymentMethod_Mailed check'],\n",
            "      dtype='object')\n"
          ]
        }
      ]
    },
    {
      "cell_type": "code",
      "source": [
        "# Mostrar total de columnas\n",
        "print(\"Total columnas actuales:\", len(df.columns))"
      ],
      "metadata": {
        "id": "MKJCLKlLrJ7I",
        "colab": {
          "base_uri": "https://localhost:8080/"
        },
        "outputId": "b7f45e53-0294-4761-982c-8d9bbf684791"
      },
      "execution_count": 24,
      "outputs": [
        {
          "output_type": "stream",
          "name": "stdout",
          "text": [
            "Total columnas actuales: 25\n"
          ]
        }
      ]
    },
    {
      "cell_type": "code",
      "source": [
        "# Mostrar total de columnas\n",
        "print(\"Total columnas actuales:\", len(df.columns))\n",
        "\n",
        "# Guardar copia actualizada en CSV\n",
        "df.to_csv(\"df_actualizado_sin_columnas.csv\", index=False, encoding=\"utf-8-sig\")\n"
      ],
      "metadata": {
        "id": "k9RUHCtjrOX5",
        "colab": {
          "base_uri": "https://localhost:8080/"
        },
        "outputId": "2b5ec8c3-ea34-4dab-b2ca-efc567bcbf94"
      },
      "execution_count": 25,
      "outputs": [
        {
          "output_type": "stream",
          "name": "stdout",
          "text": [
            "Total columnas actuales: 25\n"
          ]
        }
      ]
    },
    {
      "cell_type": "code",
      "source": [
        "df = df.drop(columns=['customer.tenure'])\n",
        "\n",
        "print(\"Columna 'customer.tenure' eliminada.\")\n",
        "print(\"Columnas actuales:\")\n",
        "print(df.columns)\n"
      ],
      "metadata": {
        "id": "rvbqonVEroGd",
        "colab": {
          "base_uri": "https://localhost:8080/"
        },
        "outputId": "fd92a784-db0f-49bf-b507-3b71c9a366c9"
      },
      "execution_count": 26,
      "outputs": [
        {
          "output_type": "stream",
          "name": "stdout",
          "text": [
            "Columna 'customer.tenure' eliminada.\n",
            "Columnas actuales:\n",
            "Index(['Churn', 'customer.gender', 'customer.SeniorCitizen',\n",
            "       'customer.Partner', 'customer.Dependents', 'phone.PhoneService',\n",
            "       'phone.MultipleLines', 'internet.OnlineBackup',\n",
            "       'internet.DeviceProtection', 'internet.StreamingTV',\n",
            "       'internet.StreamingMovies', 'account.PaperlessBilling',\n",
            "       'account.Charges.Monthly', 'account.Charges.Total',\n",
            "       'internet.InternetService_DSL', 'internet.InternetService_Fiber optic',\n",
            "       'internet.InternetService_No', 'account.Contract_Month-to-month',\n",
            "       'account.Contract_One year', 'account.Contract_Two year',\n",
            "       'account.PaymentMethod_Bank transfer (automatic)',\n",
            "       'account.PaymentMethod_Credit card (automatic)',\n",
            "       'account.PaymentMethod_Electronic check',\n",
            "       'account.PaymentMethod_Mailed check'],\n",
            "      dtype='object')\n"
          ]
        }
      ]
    },
    {
      "cell_type": "code",
      "source": [
        "print(df.columns.tolist())\n"
      ],
      "metadata": {
        "id": "M0Lc-PyJsGHA",
        "colab": {
          "base_uri": "https://localhost:8080/"
        },
        "outputId": "1e74fc8b-b307-4b51-c04d-994f6c2ebca0"
      },
      "execution_count": 27,
      "outputs": [
        {
          "output_type": "stream",
          "name": "stdout",
          "text": [
            "['Churn', 'customer.gender', 'customer.SeniorCitizen', 'customer.Partner', 'customer.Dependents', 'phone.PhoneService', 'phone.MultipleLines', 'internet.OnlineBackup', 'internet.DeviceProtection', 'internet.StreamingTV', 'internet.StreamingMovies', 'account.PaperlessBilling', 'account.Charges.Monthly', 'account.Charges.Total', 'internet.InternetService_DSL', 'internet.InternetService_Fiber optic', 'internet.InternetService_No', 'account.Contract_Month-to-month', 'account.Contract_One year', 'account.Contract_Two year', 'account.PaymentMethod_Bank transfer (automatic)', 'account.PaymentMethod_Credit card (automatic)', 'account.PaymentMethod_Electronic check', 'account.PaymentMethod_Mailed check']\n"
          ]
        }
      ]
    },
    {
      "cell_type": "code",
      "source": [
        "for col in df.columns:\n",
        "    print(col)\n"
      ],
      "metadata": {
        "id": "r0QN4732sSTf",
        "colab": {
          "base_uri": "https://localhost:8080/"
        },
        "outputId": "2e278018-8c96-4d63-aec8-d74e60927c8e"
      },
      "execution_count": 28,
      "outputs": [
        {
          "output_type": "stream",
          "name": "stdout",
          "text": [
            "Churn\n",
            "customer.gender\n",
            "customer.SeniorCitizen\n",
            "customer.Partner\n",
            "customer.Dependents\n",
            "phone.PhoneService\n",
            "phone.MultipleLines\n",
            "internet.OnlineBackup\n",
            "internet.DeviceProtection\n",
            "internet.StreamingTV\n",
            "internet.StreamingMovies\n",
            "account.PaperlessBilling\n",
            "account.Charges.Monthly\n",
            "account.Charges.Total\n",
            "internet.InternetService_DSL\n",
            "internet.InternetService_Fiber optic\n",
            "internet.InternetService_No\n",
            "account.Contract_Month-to-month\n",
            "account.Contract_One year\n",
            "account.Contract_Two year\n",
            "account.PaymentMethod_Bank transfer (automatic)\n",
            "account.PaymentMethod_Credit card (automatic)\n",
            "account.PaymentMethod_Electronic check\n",
            "account.PaymentMethod_Mailed check\n"
          ]
        }
      ]
    },
    {
      "cell_type": "code",
      "source": [
        "print(\"Total de columnas:\", len(df.columns))\n"
      ],
      "metadata": {
        "id": "N5X0dh-QsgL-",
        "colab": {
          "base_uri": "https://localhost:8080/"
        },
        "outputId": "3b2ea89a-c9ad-4b49-db42-914ac27b1dec"
      },
      "execution_count": 29,
      "outputs": [
        {
          "output_type": "stream",
          "name": "stdout",
          "text": [
            "Total de columnas: 24\n"
          ]
        }
      ]
    },
    {
      "cell_type": "code",
      "source": [
        "# Variable dependiente\n",
        "y = df['Churn']\n",
        "\n",
        "# Variables independientes\n",
        "X = df.drop(columns=['Churn'])\n",
        "\n",
        "print(f\"Variables independientes: {X.shape[1]} columnas\")\n",
        "print(f\"Variable dependiente: {y.name}\")"
      ],
      "metadata": {
        "id": "F3vCs8c8swY6",
        "colab": {
          "base_uri": "https://localhost:8080/"
        },
        "outputId": "50b0aa5f-1dd7-4a60-a8c4-2a1652280e60"
      },
      "execution_count": 30,
      "outputs": [
        {
          "output_type": "stream",
          "name": "stdout",
          "text": [
            "Variables independientes: 23 columnas\n",
            "Variable dependiente: Churn\n"
          ]
        }
      ]
    },
    {
      "cell_type": "code",
      "source": [
        "import matplotlib.pyplot as plt\n",
        "import seaborn as sns\n",
        "\n",
        "# Si 'account.Contract' está codificada en one-hot, quizás prefieras usar la original o crear una variable categórica para graficar\n",
        "\n",
        "# 1. Gráfico de barras: Proporción de Churn por tipo de contrato\n",
        "plt.figure(figsize=(8,5))\n",
        "sns.countplot(data=df, x='account.Contract', hue='Churn')\n",
        "plt.title('Cancelación (Churn) por Tipo de Contrato')\n",
        "plt.ylabel('Número de clientes')\n",
        "plt.xlabel('Tipo de Contrato')\n",
        "plt.legend(title='Churn', labels=['No', 'Sí'])\n",
        "plt.show()\n",
        "\n",
        "# 2. Boxplot: Distribución del tiempo de permanencia (tenure) según Churn\n",
        "plt.figure(figsize=(8,5))\n",
        "sns.boxplot(data=df, x='Churn', y='customer.tenure')\n",
        "plt.title('Distribución del Tiempo de Permanencia según Cancelación')\n",
        "plt.xlabel('Churn (0=No, 1=Sí)')\n",
        "plt.ylabel('Tiempo de Permanencia (Meses)')\n",
        "plt.show()\n"
      ],
      "metadata": {
        "id": "GOJAGeD_s-Z-",
        "colab": {
          "base_uri": "https://localhost:8080/",
          "height": 389
        },
        "outputId": "04ff690a-5201-4bf6-a9e5-d24a041a19c9"
      },
      "execution_count": 31,
      "outputs": [
        {
          "output_type": "error",
          "ename": "ValueError",
          "evalue": "Could not interpret value `account.Contract` for `x`. An entry with this name does not appear in `data`.",
          "traceback": [
            "\u001b[0;31m---------------------------------------------------------------------------\u001b[0m",
            "\u001b[0;31mValueError\u001b[0m                                Traceback (most recent call last)",
            "\u001b[0;32m/tmp/ipython-input-1526866506.py\u001b[0m in \u001b[0;36m<cell line: 0>\u001b[0;34m()\u001b[0m\n\u001b[1;32m      6\u001b[0m \u001b[0;31m# 1. Gráfico de barras: Proporción de Churn por tipo de contrato\u001b[0m\u001b[0;34m\u001b[0m\u001b[0;34m\u001b[0m\u001b[0m\n\u001b[1;32m      7\u001b[0m \u001b[0mplt\u001b[0m\u001b[0;34m.\u001b[0m\u001b[0mfigure\u001b[0m\u001b[0;34m(\u001b[0m\u001b[0mfigsize\u001b[0m\u001b[0;34m=\u001b[0m\u001b[0;34m(\u001b[0m\u001b[0;36m8\u001b[0m\u001b[0;34m,\u001b[0m\u001b[0;36m5\u001b[0m\u001b[0;34m)\u001b[0m\u001b[0;34m)\u001b[0m\u001b[0;34m\u001b[0m\u001b[0;34m\u001b[0m\u001b[0m\n\u001b[0;32m----> 8\u001b[0;31m \u001b[0msns\u001b[0m\u001b[0;34m.\u001b[0m\u001b[0mcountplot\u001b[0m\u001b[0;34m(\u001b[0m\u001b[0mdata\u001b[0m\u001b[0;34m=\u001b[0m\u001b[0mdf\u001b[0m\u001b[0;34m,\u001b[0m \u001b[0mx\u001b[0m\u001b[0;34m=\u001b[0m\u001b[0;34m'account.Contract'\u001b[0m\u001b[0;34m,\u001b[0m \u001b[0mhue\u001b[0m\u001b[0;34m=\u001b[0m\u001b[0;34m'Churn'\u001b[0m\u001b[0;34m)\u001b[0m\u001b[0;34m\u001b[0m\u001b[0;34m\u001b[0m\u001b[0m\n\u001b[0m\u001b[1;32m      9\u001b[0m \u001b[0mplt\u001b[0m\u001b[0;34m.\u001b[0m\u001b[0mtitle\u001b[0m\u001b[0;34m(\u001b[0m\u001b[0;34m'Cancelación (Churn) por Tipo de Contrato'\u001b[0m\u001b[0;34m)\u001b[0m\u001b[0;34m\u001b[0m\u001b[0;34m\u001b[0m\u001b[0m\n\u001b[1;32m     10\u001b[0m \u001b[0mplt\u001b[0m\u001b[0;34m.\u001b[0m\u001b[0mylabel\u001b[0m\u001b[0;34m(\u001b[0m\u001b[0;34m'Número de clientes'\u001b[0m\u001b[0;34m)\u001b[0m\u001b[0;34m\u001b[0m\u001b[0;34m\u001b[0m\u001b[0m\n",
            "\u001b[0;32m/usr/local/lib/python3.11/dist-packages/seaborn/categorical.py\u001b[0m in \u001b[0;36mcountplot\u001b[0;34m(data, x, y, hue, order, hue_order, orient, color, palette, saturation, fill, hue_norm, stat, width, dodge, gap, log_scale, native_scale, formatter, legend, ax, **kwargs)\u001b[0m\n\u001b[1;32m   2629\u001b[0m         \u001b[0;32mraise\u001b[0m \u001b[0mTypeError\u001b[0m\u001b[0;34m(\u001b[0m\u001b[0;34m\"Cannot pass values for both `x` and `y`.\"\u001b[0m\u001b[0;34m)\u001b[0m\u001b[0;34m\u001b[0m\u001b[0;34m\u001b[0m\u001b[0m\n\u001b[1;32m   2630\u001b[0m \u001b[0;34m\u001b[0m\u001b[0m\n\u001b[0;32m-> 2631\u001b[0;31m     p = _CategoricalAggPlotter(\n\u001b[0m\u001b[1;32m   2632\u001b[0m         \u001b[0mdata\u001b[0m\u001b[0;34m=\u001b[0m\u001b[0mdata\u001b[0m\u001b[0;34m,\u001b[0m\u001b[0;34m\u001b[0m\u001b[0;34m\u001b[0m\u001b[0m\n\u001b[1;32m   2633\u001b[0m         \u001b[0mvariables\u001b[0m\u001b[0;34m=\u001b[0m\u001b[0mdict\u001b[0m\u001b[0;34m(\u001b[0m\u001b[0mx\u001b[0m\u001b[0;34m=\u001b[0m\u001b[0mx\u001b[0m\u001b[0;34m,\u001b[0m \u001b[0my\u001b[0m\u001b[0;34m=\u001b[0m\u001b[0my\u001b[0m\u001b[0;34m,\u001b[0m \u001b[0mhue\u001b[0m\u001b[0;34m=\u001b[0m\u001b[0mhue\u001b[0m\u001b[0;34m)\u001b[0m\u001b[0;34m,\u001b[0m\u001b[0;34m\u001b[0m\u001b[0;34m\u001b[0m\u001b[0m\n",
            "\u001b[0;32m/usr/local/lib/python3.11/dist-packages/seaborn/categorical.py\u001b[0m in \u001b[0;36m__init__\u001b[0;34m(self, data, variables, order, orient, require_numeric, color, legend)\u001b[0m\n\u001b[1;32m     65\u001b[0m     ):\n\u001b[1;32m     66\u001b[0m \u001b[0;34m\u001b[0m\u001b[0m\n\u001b[0;32m---> 67\u001b[0;31m         \u001b[0msuper\u001b[0m\u001b[0;34m(\u001b[0m\u001b[0;34m)\u001b[0m\u001b[0;34m.\u001b[0m\u001b[0m__init__\u001b[0m\u001b[0;34m(\u001b[0m\u001b[0mdata\u001b[0m\u001b[0;34m=\u001b[0m\u001b[0mdata\u001b[0m\u001b[0;34m,\u001b[0m \u001b[0mvariables\u001b[0m\u001b[0;34m=\u001b[0m\u001b[0mvariables\u001b[0m\u001b[0;34m)\u001b[0m\u001b[0;34m\u001b[0m\u001b[0;34m\u001b[0m\u001b[0m\n\u001b[0m\u001b[1;32m     68\u001b[0m \u001b[0;34m\u001b[0m\u001b[0m\n\u001b[1;32m     69\u001b[0m         \u001b[0;31m# This method takes care of some bookkeeping that is necessary because the\u001b[0m\u001b[0;34m\u001b[0m\u001b[0;34m\u001b[0m\u001b[0m\n",
            "\u001b[0;32m/usr/local/lib/python3.11/dist-packages/seaborn/_base.py\u001b[0m in \u001b[0;36m__init__\u001b[0;34m(self, data, variables)\u001b[0m\n\u001b[1;32m    632\u001b[0m         \u001b[0;31m# information for numeric axes would be information about log scales.\u001b[0m\u001b[0;34m\u001b[0m\u001b[0;34m\u001b[0m\u001b[0m\n\u001b[1;32m    633\u001b[0m         \u001b[0mself\u001b[0m\u001b[0;34m.\u001b[0m\u001b[0m_var_ordered\u001b[0m \u001b[0;34m=\u001b[0m \u001b[0;34m{\u001b[0m\u001b[0;34m\"x\"\u001b[0m\u001b[0;34m:\u001b[0m \u001b[0;32mFalse\u001b[0m\u001b[0;34m,\u001b[0m \u001b[0;34m\"y\"\u001b[0m\u001b[0;34m:\u001b[0m \u001b[0;32mFalse\u001b[0m\u001b[0;34m}\u001b[0m  \u001b[0;31m# alt., used DefaultDict\u001b[0m\u001b[0;34m\u001b[0m\u001b[0;34m\u001b[0m\u001b[0m\n\u001b[0;32m--> 634\u001b[0;31m         \u001b[0mself\u001b[0m\u001b[0;34m.\u001b[0m\u001b[0massign_variables\u001b[0m\u001b[0;34m(\u001b[0m\u001b[0mdata\u001b[0m\u001b[0;34m,\u001b[0m \u001b[0mvariables\u001b[0m\u001b[0;34m)\u001b[0m\u001b[0;34m\u001b[0m\u001b[0;34m\u001b[0m\u001b[0m\n\u001b[0m\u001b[1;32m    635\u001b[0m \u001b[0;34m\u001b[0m\u001b[0m\n\u001b[1;32m    636\u001b[0m         \u001b[0;31m# TODO Lots of tests assume that these are called to initialize the\u001b[0m\u001b[0;34m\u001b[0m\u001b[0;34m\u001b[0m\u001b[0m\n",
            "\u001b[0;32m/usr/local/lib/python3.11/dist-packages/seaborn/_base.py\u001b[0m in \u001b[0;36massign_variables\u001b[0;34m(self, data, variables)\u001b[0m\n\u001b[1;32m    677\u001b[0m             \u001b[0;31m# to centralize / standardize data consumption logic.\u001b[0m\u001b[0;34m\u001b[0m\u001b[0;34m\u001b[0m\u001b[0m\n\u001b[1;32m    678\u001b[0m             \u001b[0mself\u001b[0m\u001b[0;34m.\u001b[0m\u001b[0minput_format\u001b[0m \u001b[0;34m=\u001b[0m \u001b[0;34m\"long\"\u001b[0m\u001b[0;34m\u001b[0m\u001b[0;34m\u001b[0m\u001b[0m\n\u001b[0;32m--> 679\u001b[0;31m             \u001b[0mplot_data\u001b[0m \u001b[0;34m=\u001b[0m \u001b[0mPlotData\u001b[0m\u001b[0;34m(\u001b[0m\u001b[0mdata\u001b[0m\u001b[0;34m,\u001b[0m \u001b[0mvariables\u001b[0m\u001b[0;34m)\u001b[0m\u001b[0;34m\u001b[0m\u001b[0;34m\u001b[0m\u001b[0m\n\u001b[0m\u001b[1;32m    680\u001b[0m             \u001b[0mframe\u001b[0m \u001b[0;34m=\u001b[0m \u001b[0mplot_data\u001b[0m\u001b[0;34m.\u001b[0m\u001b[0mframe\u001b[0m\u001b[0;34m\u001b[0m\u001b[0;34m\u001b[0m\u001b[0m\n\u001b[1;32m    681\u001b[0m             \u001b[0mnames\u001b[0m \u001b[0;34m=\u001b[0m \u001b[0mplot_data\u001b[0m\u001b[0;34m.\u001b[0m\u001b[0mnames\u001b[0m\u001b[0;34m\u001b[0m\u001b[0;34m\u001b[0m\u001b[0m\n",
            "\u001b[0;32m/usr/local/lib/python3.11/dist-packages/seaborn/_core/data.py\u001b[0m in \u001b[0;36m__init__\u001b[0;34m(self, data, variables)\u001b[0m\n\u001b[1;32m     56\u001b[0m \u001b[0;34m\u001b[0m\u001b[0m\n\u001b[1;32m     57\u001b[0m         \u001b[0mdata\u001b[0m \u001b[0;34m=\u001b[0m \u001b[0mhandle_data_source\u001b[0m\u001b[0;34m(\u001b[0m\u001b[0mdata\u001b[0m\u001b[0;34m)\u001b[0m\u001b[0;34m\u001b[0m\u001b[0;34m\u001b[0m\u001b[0m\n\u001b[0;32m---> 58\u001b[0;31m         \u001b[0mframe\u001b[0m\u001b[0;34m,\u001b[0m \u001b[0mnames\u001b[0m\u001b[0;34m,\u001b[0m \u001b[0mids\u001b[0m \u001b[0;34m=\u001b[0m \u001b[0mself\u001b[0m\u001b[0;34m.\u001b[0m\u001b[0m_assign_variables\u001b[0m\u001b[0;34m(\u001b[0m\u001b[0mdata\u001b[0m\u001b[0;34m,\u001b[0m \u001b[0mvariables\u001b[0m\u001b[0;34m)\u001b[0m\u001b[0;34m\u001b[0m\u001b[0;34m\u001b[0m\u001b[0m\n\u001b[0m\u001b[1;32m     59\u001b[0m \u001b[0;34m\u001b[0m\u001b[0m\n\u001b[1;32m     60\u001b[0m         \u001b[0mself\u001b[0m\u001b[0;34m.\u001b[0m\u001b[0mframe\u001b[0m \u001b[0;34m=\u001b[0m \u001b[0mframe\u001b[0m\u001b[0;34m\u001b[0m\u001b[0;34m\u001b[0m\u001b[0m\n",
            "\u001b[0;32m/usr/local/lib/python3.11/dist-packages/seaborn/_core/data.py\u001b[0m in \u001b[0;36m_assign_variables\u001b[0;34m(self, data, variables)\u001b[0m\n\u001b[1;32m    230\u001b[0m                 \u001b[0;32melse\u001b[0m\u001b[0;34m:\u001b[0m\u001b[0;34m\u001b[0m\u001b[0;34m\u001b[0m\u001b[0m\n\u001b[1;32m    231\u001b[0m                     \u001b[0merr\u001b[0m \u001b[0;34m+=\u001b[0m \u001b[0;34m\"An entry with this name does not appear in `data`.\"\u001b[0m\u001b[0;34m\u001b[0m\u001b[0;34m\u001b[0m\u001b[0m\n\u001b[0;32m--> 232\u001b[0;31m                 \u001b[0;32mraise\u001b[0m \u001b[0mValueError\u001b[0m\u001b[0;34m(\u001b[0m\u001b[0merr\u001b[0m\u001b[0;34m)\u001b[0m\u001b[0;34m\u001b[0m\u001b[0;34m\u001b[0m\u001b[0m\n\u001b[0m\u001b[1;32m    233\u001b[0m \u001b[0;34m\u001b[0m\u001b[0m\n\u001b[1;32m    234\u001b[0m             \u001b[0;32melse\u001b[0m\u001b[0;34m:\u001b[0m\u001b[0;34m\u001b[0m\u001b[0;34m\u001b[0m\u001b[0m\n",
            "\u001b[0;31mValueError\u001b[0m: Could not interpret value `account.Contract` for `x`. An entry with this name does not appear in `data`."
          ]
        },
        {
          "output_type": "display_data",
          "data": {
            "text/plain": [
              "<Figure size 800x500 with 0 Axes>"
            ]
          },
          "metadata": {}
        }
      ]
    },
    {
      "cell_type": "code",
      "source": [
        "# Crear la columna original a partir de las columnas one-hot\n",
        "def reconstruir_contrato(row):\n",
        "    if row['account.Contract_Month-to-month'] == 1:\n",
        "        return 'Month-to-month'\n",
        "    elif row['account.Contract_One year'] == 1:\n",
        "        return 'One year'\n",
        "    elif row['account.Contract_Two year'] == 1:\n",
        "        return 'Two year'\n",
        "    else:\n",
        "        return 'Unknown'\n",
        "\n",
        "df['account.Contract'] = df.apply(reconstruir_contrato, axis=1)\n",
        "\n",
        "# Ahora graficamos\n",
        "import matplotlib.pyplot as plt\n",
        "import seaborn as sns\n",
        "\n",
        "plt.figure(figsize=(8,5))\n",
        "sns.countplot(data=df, x='account.Contract', hue='Churn')\n",
        "plt.title('Cancelación (Churn) por Tipo de Contrato')\n",
        "plt.ylabel('Número de clientes')\n",
        "plt.xlabel('Tipo de Contrato')\n",
        "plt.legend(title='Churn', labels=['No', 'Sí'])\n",
        "plt.show()\n"
      ],
      "metadata": {
        "id": "dijXWSfmtXqo"
      },
      "execution_count": null,
      "outputs": []
    },
    {
      "cell_type": "code",
      "source": [
        "plt.figure(figsize=(6,4))\n",
        "sns.countplot(data=df, x='customer.gender', hue='Churn')\n",
        "plt.title('Cancelación según Género')\n",
        "plt.ylabel('Número de clientes')\n",
        "plt.xlabel('Género')\n",
        "plt.legend(title='Churn', labels=['No', 'Sí'])\n",
        "plt.show()\n"
      ],
      "metadata": {
        "id": "_Qq3suA7tqga"
      },
      "execution_count": null,
      "outputs": []
    },
    {
      "cell_type": "code",
      "source": [
        "plt.figure(figsize=(6,4))\n",
        "sns.countplot(data=df, x='customer.SeniorCitizen', hue='Churn')\n",
        "plt.title('Cancelación según Senior Citizen (0=No, 1=Sí)')\n",
        "plt.ylabel('Número de clientes')\n",
        "plt.xlabel('Senior Citizen')\n",
        "plt.legend(title='Churn', labels=['No', 'Sí'])\n",
        "plt.show()\n"
      ],
      "metadata": {
        "id": "KLQGvMAKtuYq"
      },
      "execution_count": null,
      "outputs": []
    },
    {
      "cell_type": "code",
      "source": [
        "plt.figure(figsize=(8,4))\n",
        "sns.countplot(data=df, x='phone.MultipleLines', hue='Churn')\n",
        "plt.title('Cancelación según Múltiples Líneas Telefónicas')\n",
        "plt.ylabel('Número de clientes')\n",
        "plt.xlabel('Múltiples Líneas')\n",
        "plt.legend(title='Churn', labels=['No', 'Sí'])\n",
        "plt.show()\n"
      ],
      "metadata": {
        "id": "jPRHT03at3QD"
      },
      "execution_count": null,
      "outputs": []
    },
    {
      "cell_type": "code",
      "source": [
        "plt.figure(figsize=(8,4))\n",
        "sns.countplot(data=df, x='internet.InternetService', hue='Churn')\n",
        "plt.title('Cancelación según Tipo de Servicio de Internet')\n",
        "plt.ylabel('Número de clientes')\n",
        "plt.xlabel('Servicio de Internet')\n",
        "plt.legend(title='Churn', labels=['No', 'Sí'])\n",
        "plt.show()\n"
      ],
      "metadata": {
        "id": "3-Vr6WoZt7ko"
      },
      "execution_count": null,
      "outputs": []
    },
    {
      "cell_type": "code",
      "source": [
        "# Crear columna categórica basada en las columnas dummy\n",
        "def obtener_servicio(row):\n",
        "    if row['internet.InternetService_DSL'] == 1:\n",
        "        return 'DSL'\n",
        "    elif row['internet.InternetService_Fiber optic'] == 1:\n",
        "        return 'Fiber optic'\n",
        "    elif row['internet.InternetService_No'] == 1:\n",
        "        return 'No'\n",
        "    else:\n",
        "        return 'Unknown'\n",
        "\n",
        "df['InternetService_cat'] = df.apply(obtener_servicio, axis=1)\n",
        "\n",
        "# Ahora graficar con esa columna temporal\n",
        "plt.figure(figsize=(8,4))\n",
        "sns.countplot(data=df, x='InternetService_cat', hue='Churn')\n",
        "plt.title('Cancelación según Tipo de Servicio de Internet')\n",
        "plt.ylabel('Número de clientes')\n",
        "plt.xlabel('Servicio de Internet')\n",
        "plt.show()\n"
      ],
      "metadata": {
        "id": "yAoMpyKquQVS"
      },
      "execution_count": null,
      "outputs": []
    },
    {
      "cell_type": "code",
      "source": [
        "print(\"Número de columnas antes:\", len(df.columns))\n",
        "\n",
        "# Crear la columna temporal para la gráfica\n",
        "def obtener_servicio(row):\n",
        "    if row['internet.InternetService_DSL'] == 1:\n",
        "        return 'DSL'\n",
        "    elif row['internet.InternetService_Fiber optic'] == 1:\n",
        "        return 'Fiber optic'\n",
        "    elif row['internet.InternetService_No'] == 1:\n",
        "        return 'No'\n",
        "    else:\n",
        "        return 'Unknown'\n",
        "\n",
        "df['InternetService_cat'] = df.apply(obtener_servicio, axis=1)\n",
        "\n",
        "print(\"Número de columnas después:\", len(df.columns))\n"
      ],
      "metadata": {
        "id": "QJwVB777udLC"
      },
      "execution_count": null,
      "outputs": []
    },
    {
      "cell_type": "code",
      "source": [
        "df.to_csv(\"df_normalizado_ultimo.csv\", index=False, encoding=\"utf-8-sig\")"
      ],
      "metadata": {
        "id": "oQxh8c09vqo-"
      },
      "execution_count": null,
      "outputs": []
    },
    {
      "cell_type": "markdown",
      "source": [
        "Prepare el código para que se puedas elegir fácilmente entre normalización y estandarización. Columnas de: cargos, edad, tenure, genero.\n",
        "Vamos a aclarar:\n",
        "\n",
        "Cargos: son numéricos continuos (account.Charges.Monthly, account.Charges.Total, Cuentas_Diarias), sí se normalizan o estandarizan.\n",
        "\n",
        "Edad (o similar): en tu caso tienes customer.SeniorCitizen que es binaria (0 o 1), y customer.tenure que es numérica (meses que lleva como cliente).\n",
        "\n",
        "Género: ya la convertiste en binaria (0 y 1), no hace falta normalizar ni estandarizar."
      ],
      "metadata": {
        "id": "R7W8Xx2KOXvW"
      }
    },
    {
      "cell_type": "code",
      "source": [
        "from sklearn.preprocessing import MinMaxScaler, StandardScaler\n",
        "\n",
        "# Columnas numéricas continuas (cargos y tenure)\n",
        "columnas_numericas = ['account.Charges.Monthly', 'account.Charges.Total', 'Cuentas_Diarias', 'customer.tenure']\n",
        "\n",
        "# Normalización (Min-Max Scaling)\n",
        "scaler_minmax = MinMaxScaler()\n",
        "df[columnas_numericas] = scaler_minmax.fit_transform(df[columnas_numericas])\n",
        "\n",
        "# --- Opción: Estandarización (Z-score) ---\n",
        "# scaler_standard = StandardScaler()\n",
        "# df[columnas_numericas] = scaler_standard.fit_transform(df[columnas_numericas])\n",
        "\n",
        "print(df[columnas_numericas].head())\n"
      ],
      "metadata": {
        "id": "yWgMNvzdOxaH"
      },
      "execution_count": null,
      "outputs": []
    },
    {
      "cell_type": "markdown",
      "source": [
        "Claro, veamos qué nos dice esa normalización y qué conclusiones preliminares podemos sacar:\n",
        "\n",
        "¿Qué es la normalización Min-Max?\n",
        "Convierte los valores originales de las columnas a un rango entre 0 y 1, respetando las proporciones relativas. Esto ayuda a que las variables con diferentes escalas sean comparables para ciertos modelos o análisis.\n",
        "\n",
        "Interpretación de las variables normalizadas:\n",
        "\n",
        "account.Charges.Monthly, account.Charges.Total y Cuentas_Diarias:\n",
        "Valores cercanos a 0 indican clientes con cargos mensuales y totales bajos (o pocas cuentas diarias), mientras que valores cercanos a 1 indican clientes con cargos altos o muchas cuentas diarias.\n",
        "\n",
        "customer.tenure:\n",
        "Muestra cuánto tiempo lleva el cliente con el servicio. Un valor bajo (cercano a 0) indica clientes nuevos; uno alto (cercano a 1) clientes antiguos.\n",
        "\n",
        "¿Qué se puede concluir?\n",
        "\n",
        "Los valores normalizados permiten analizar con mayor facilidad la influencia relativa de estas variables en el modelo o en visualizaciones.\n",
        "\n",
        "Por ejemplo, puedes correlacionar la duración del cliente (tenure) con la probabilidad de cancelación (Churn) y ver si los clientes nuevos tienden a cancelar más que los antiguos.\n",
        "\n",
        "Los cargos (mensuales, totales) normalizados facilitan comparaciones entre clientes para detectar patrones o segmentos de riesgo.\n",
        "\n",
        "Además, al tener todas las variables en la misma escala, los modelos que dependen de distancias (como KNN o SVM) funcionarán mejor.\n",
        "\n",
        "Próximos pasos recomendados:\n",
        "\n",
        "Explorar visualmente estas variables junto con la variable objetivo (Churn) para detectar patrones.\n",
        "\n",
        "Usar estas variables normalizadas para entrenar modelos de clasificación.\n",
        "\n",
        "Analizar la importancia de estas variables y si contribuyen significativamente al modelo."
      ],
      "metadata": {
        "id": "82r35q3tQouU"
      }
    },
    {
      "cell_type": "code",
      "source": [
        "df = df  # aquí iría alguna transformación si quieres\n",
        "df.to_csv('df_normalizado_037horas.csv', index=False, encoding='utf-8-sig')\n"
      ],
      "metadata": {
        "id": "IHJeXlJqRSos"
      },
      "execution_count": null,
      "outputs": []
    },
    {
      "cell_type": "code",
      "source": [
        "df.to_csv('df_normalizado.csv', index=False, encoding='utf-8-sig')\n",
        "from google.colab import files\n",
        "files.download('df_normalizado_037horas.csv')"
      ],
      "metadata": {
        "id": "bmlw4ay0Rh7P"
      },
      "execution_count": null,
      "outputs": []
    },
    {
      "cell_type": "markdown",
      "source": [
        "Separación de Datos\n",
        "Usaremos train_test_split de scikit-learn.\n",
        "Aquí puedes elegir la proporción (por ejemplo, 80% para entrenamiento y 20% para prueba)."
      ],
      "metadata": {
        "id": "jnegxlm0TBCl"
      }
    },
    {
      "cell_type": "code",
      "source": [
        "from sklearn.model_selection import train_test_split\n",
        "\n",
        "# Supongamos que tus datos están en un DataFrame df\n",
        "# X = variables predictoras\n",
        "# y = Churn\n",
        "\n",
        "X = df.drop('Churn', axis=1)  # Reemplaza 'precio' por el nombre de tu variable objetivo\n",
        "y = df['Churn']\n",
        "\n",
        "# Separación en entrenamiento y prueba (80/20)\n",
        "X_train, X_test, y_train, y_test = train_test_split(\n",
        "    X, y, test_size=0.2, random_state=42\n",
        ")\n",
        "\n",
        "print(\"Tamaño entrenamiento:\", X_train.shape)\n",
        "print(\"Tamaño prueba:\", X_test.shape)"
      ],
      "metadata": {
        "id": "QweECQrfTAgo"
      },
      "execution_count": null,
      "outputs": []
    },
    {
      "cell_type": "markdown",
      "source": [
        "Lo que tienes:\n",
        "\n",
        "Tamaño entrenamiento (5634, 20) → 5 634 registros (filas) y 20 variables (columnas) que usarás para ajustar el modelo (aprender patrones).\n",
        "\n",
        "Tamaño prueba (1409, 20) → 1 409 registros y 20 variables que usarás para evaluar el modelo en datos que no ha visto antes."
      ],
      "metadata": {
        "id": "xwm9_Ss6UGVg"
      }
    },
    {
      "cell_type": "markdown",
      "source": [
        " Como ya tenemos nuestros datos separados en entrenamiento y prueba, podemos comenzar con un primer modelo de Regresión Lineal y luego iremos comparando con otros."
      ],
      "metadata": {
        "id": "XWajsaKHUjay"
      }
    },
    {
      "cell_type": "code",
      "source": [
        "from sklearn.linear_model import LinearRegression\n",
        "from sklearn.metrics import mean_squared_error, r2_score\n",
        "import numpy as np\n",
        "\n",
        "# Crear el modelo\n",
        "modelo_rl = LinearRegression()\n",
        "\n",
        "# Entrenar el modelo\n",
        "modelo_rl.fit(X_train, y_train)\n",
        "\n",
        "# Hacer predicciones\n",
        "y_pred_rl = modelo_rl.predict(X_test)\n",
        "\n",
        "# Evaluar el modelo\n",
        "mse = mean_squared_error(y_test, y_pred_rl)\n",
        "rmse = np.sqrt(mse)\n",
        "r2 = r2_score(y_test, y_pred_rl)\n",
        "\n",
        "print(\"Resultados Regresión Lineal:\")\n",
        "print(f\"  MSE: {mse:.2f}\")\n",
        "print(f\"  RMSE: {rmse:.2f}\")\n",
        "print(f\"  R²: {r2:.4f}\")"
      ],
      "metadata": {
        "id": "6CyiAKpPUql6"
      },
      "execution_count": null,
      "outputs": []
    },
    {
      "cell_type": "markdown",
      "source": [
        "Ese ValueError normalmente aparece porque las dimensiones o tipos de datos de X_train y y_train no son las que scikit-learn espera.\n",
        "\n",
        "En un modelo de regresión lineal (modelo_rl.fit(X_train, y_train)), lo usual es que:\n",
        "\n",
        "X_train sea un array o DataFrame con forma (n_muestras, n_características)\n",
        "\n",
        "y_train sea un array o Serie con forma (n_muestras,) (o (n_muestras, 1) en algunos casos)\n",
        "\n",
        "Los errores más comunes que provocan este mensaje son:\n",
        "\n",
        "Valores no numéricos en X_train o y_train (strings, NaN, None).\n",
        "\n",
        "Dimensiones incorrectas (por ejemplo, X_train como un vector en lugar de una matriz 2D).\n",
        "\n",
        "Longitudes distintas entre X_train y y_train."
      ],
      "metadata": {
        "id": "q9zg2vsbVBHf"
      }
    },
    {
      "cell_type": "code",
      "source": [
        "print(X_train.shape)\n",
        "print(y_train.shape)\n",
        "print(X_train.dtypes)\n",
        "print(y_train.dtypes)"
      ],
      "metadata": {
        "id": "BGkba6HfVDFR"
      },
      "execution_count": null,
      "outputs": []
    },
    {
      "cell_type": "markdown",
      "source": [
        "este es el problema: casi la mitad de tus columnas (object) son categóricas, y la regresión lineal de scikit-learn no puede entrenar con strings directamente.\n",
        "\n",
        "Antes de ajustar el modelo, necesitamos codificar estas variables categóricas (por ejemplo con One-Hot Encoding o Label Encoding)."
      ],
      "metadata": {
        "id": "kpwUwQ3AVVBv"
      }
    },
    {
      "cell_type": "code",
      "source": [
        "from sklearn.preprocessing import OneHotEncoder\n",
        "from sklearn.compose import ColumnTransformer\n",
        "from sklearn.pipeline import Pipeline\n",
        "from sklearn.linear_model import LinearRegression\n",
        "\n",
        "# 1. Identificar columnas categóricas y numéricas\n",
        "cat_cols = X_train.select_dtypes(include=['object']).columns\n",
        "num_cols = X_train.select_dtypes(exclude=['object']).columns\n",
        "\n",
        "# 2. Preprocesador: One-Hot para categóricas, pasar numéricas tal cual\n",
        "preprocessor = ColumnTransformer(\n",
        "    transformers=[\n",
        "        ('cat', OneHotEncoder(drop='first'), cat_cols),\n",
        "        ('num', 'passthrough', num_cols)\n",
        "    ]\n",
        ")\n",
        "\n",
        "# 3. Crear pipeline con regresión lineal\n",
        "modelo_rl = Pipeline(steps=[\n",
        "    ('preprocessor', preprocessor),\n",
        "    ('regressor', LinearRegression())\n",
        "])\n",
        "\n",
        "# 4. Entrenar\n",
        "modelo_rl.fit(X_train, y_train)\n",
        "\n",
        "# 5. Predecir\n",
        "y_pred = modelo_rl.predict(X_test)\n"
      ],
      "metadata": {
        "id": "MXi_Ey6iVcKT"
      },
      "execution_count": null,
      "outputs": []
    },
    {
      "cell_type": "markdown",
      "source": [
        "Entonces ahora el error no es por las variables categóricas, sino porque aún tienes valores NaN en tu X_train o X_test.\n",
        "\n",
        "La forma más segura de manejarlo antes de modelar es añadir un imputador dentro del pipeline para reemplazar los NaN."
      ],
      "metadata": {
        "id": "sZKY-8tAVoh0"
      }
    },
    {
      "cell_type": "code",
      "source": [
        "from sklearn.impute import SimpleImputer\n",
        "from sklearn.preprocessing import OneHotEncoder\n",
        "from sklearn.compose import ColumnTransformer\n",
        "from sklearn.pipeline import Pipeline\n",
        "from sklearn.linear_model import LinearRegression\n",
        "\n",
        "# 1. Identificar columnas categóricas y numéricas\n",
        "cat_cols = X_train.select_dtypes(include=['object']).columns\n",
        "num_cols = X_train.select_dtypes(exclude=['object']).columns\n",
        "\n",
        "# 2. Pipelines de preprocesamiento para cada tipo\n",
        "cat_pipeline = Pipeline(steps=[\n",
        "    ('imputer', SimpleImputer(strategy='most_frequent')),\n",
        "    ('encoder', OneHotEncoder(drop='first'))\n",
        "])\n",
        "\n",
        "num_pipeline = Pipeline(steps=[\n",
        "    ('imputer', SimpleImputer(strategy='median'))\n",
        "])\n",
        "\n",
        "# 3. Combinar en un ColumnTransformer\n",
        "preprocessor = ColumnTransformer(\n",
        "    transformers=[\n",
        "        ('cat', cat_pipeline, cat_cols),\n",
        "        ('num', num_pipeline, num_cols)\n",
        "    ]\n",
        ")\n",
        "\n",
        "# 4. Crear pipeline final con regresión lineal\n",
        "modelo_rl = Pipeline(steps=[\n",
        "    ('preprocessor', preprocessor),\n",
        "    ('regressor', LinearRegression())\n",
        "])\n",
        "\n",
        "# 5. Entrenar\n",
        "modelo_rl.fit(X_train, y_train)\n",
        "\n",
        "# 6. Predecir\n",
        "y_pred = modelo_rl.predict(X_test)\n"
      ],
      "metadata": {
        "id": "_oh4fOwXVsGe"
      },
      "execution_count": null,
      "outputs": []
    },
    {
      "cell_type": "markdown",
      "source": [
        "Ahora el problema es que tu variable objetivo y_train (Churn) está en formato texto ('No' y 'Yes') y el modelo espera números (0 y 1)."
      ],
      "metadata": {
        "id": "thlNupuwV9lp"
      }
    },
    {
      "cell_type": "code",
      "source": [
        "# Convertir la variable objetivo a 0 y 1\n",
        "y_train = y_train.map({'No': 0, 'Yes': 1})\n",
        "y_test = y_test.map({'No': 0, 'Yes': 1})"
      ],
      "metadata": {
        "id": "vUqIFuCIWAoe"
      },
      "execution_count": null,
      "outputs": []
    },
    {
      "cell_type": "code",
      "source": [
        "from sklearn.linear_model import LinearRegression\n",
        "from sklearn.metrics import r2_score, mean_absolute_error, mean_squared_error\n",
        "import numpy as np\n",
        "import matplotlib.pyplot as plt\n",
        "\n",
        "# 1. Crear y entrenar el modelo\n",
        "modelo_lr = LinearRegression()\n",
        "modelo_lr.fit(X_train, y_train)\n",
        "\n",
        "# 2. Hacer predicciones\n",
        "y_pred = modelo_lr.predict(X_test)\n",
        "\n",
        "# 3. Calcular métricas\n",
        "r2 = r2_score(y_test, y_pred)\n",
        "mae = mean_absolute_error(y_test, y_pred)\n",
        "rmse = np.sqrt(mean_squared_error(y_test, y_pred))\n",
        "\n",
        "print(\"Resultados Regresión Lineal\")\n",
        "print(\"----------------------------\")\n",
        "print(f\"R²: {r2:.4f}\")\n",
        "print(f\"MAE: {mae:.4f}\")\n",
        "print(f\"RMSE: {rmse:.4f}\")\n",
        "\n",
        "# 4. Gráfico de valores reales vs. predichos\n",
        "plt.scatter(y_test, y_pred, alpha=0.5, color=\"blue\")\n",
        "plt.xlabel(\"Valores reales\")\n",
        "plt.ylabel(\"Valores predichos\")\n",
        "plt.title(\"Regresión Lineal - Real vs. Predicho\")\n",
        "plt.plot([y_test.min(), y_test.max()], [y_test.min(), y_test.max()], 'r--')\n",
        "plt.show()\n"
      ],
      "metadata": {
        "id": "A9d-s8hYWde2"
      },
      "execution_count": null,
      "outputs": []
    },
    {
      "cell_type": "code",
      "source": [
        "print(X_train.select_dtypes(include=['object']).columns)\n"
      ],
      "metadata": {
        "id": "Kuq6N5WgWwsz"
      },
      "execution_count": null,
      "outputs": []
    },
    {
      "cell_type": "code",
      "source": [
        "# Lista columnas binarias a mapear a 0/1\n",
        "binarias = ['customer.gender', 'customer.Partner', 'customer.Dependents',\n",
        "            'phone.PhoneService', 'account.PaperlessBilling']\n",
        "\n",
        "# Mapear Yes/No o Male/Female a 0/1\n",
        "mapping_binario = {\n",
        "    'Yes': 1,\n",
        "    'No': 0,\n",
        "    'Male': 1,\n",
        "    'Female': 0\n",
        "}\n",
        "\n",
        "for col in binarias:\n",
        "    X_train[col] = X_train[col].map(mapping_binario)\n",
        "    X_test[col] = X_test[col].map(mapping_binario)\n",
        "\n",
        "# Columnas con más de dos categorías (one-hot encoding)\n",
        "multicat = ['phone.MultipleLines', 'internet.InternetService', 'internet.OnlineSecurity',\n",
        "            'internet.OnlineBackup', 'internet.DeviceProtection', 'internet.TechSupport',\n",
        "            'internet.StreamingTV', 'internet.StreamingMovies', 'account.Contract',\n",
        "            'account.PaymentMethod']\n",
        "\n",
        "X_train = pd.get_dummies(X_train, columns=multicat, drop_first=True)\n",
        "X_test = pd.get_dummies(X_test, columns=multicat, drop_first=True)\n",
        "\n",
        "# Alinear columnas para evitar problemas con columnas faltantes\n",
        "X_test = X_test.reindex(columns = X_train.columns, fill_value=0)\n"
      ],
      "metadata": {
        "id": "V7kNyt6hW8fZ"
      },
      "execution_count": null,
      "outputs": []
    },
    {
      "cell_type": "code",
      "source": [
        "from sklearn.linear_model import LinearRegression\n",
        "from sklearn.metrics import r2_score, mean_absolute_error, mean_squared_error\n",
        "import numpy as np\n",
        "import matplotlib.pyplot as plt\n",
        "\n",
        "# 1. Crear y entrenar el modelo\n",
        "modelo_lr = LinearRegression()\n",
        "modelo_lr.fit(X_train, y_train)\n",
        "\n",
        "# 2. Hacer predicciones\n",
        "y_pred = modelo_lr.predict(X_test)\n",
        "\n",
        "# 3. Calcular métricas\n",
        "r2 = r2_score(y_test, y_pred)\n",
        "mae = mean_absolute_error(y_test, y_pred)\n",
        "rmse = np.sqrt(mean_squared_error(y_test, y_pred))\n",
        "\n",
        "print(\"Resultados Regresión Lineal\")\n",
        "print(\"----------------------------\")\n",
        "print(f\"R²: {r2:.4f}\")\n",
        "print(f\"MAE: {mae:.4f}\")\n",
        "print(f\"RMSE: {rmse:.4f}\")\n",
        "\n",
        "# 4. Gráfico de valores reales vs. predichos\n",
        "plt.scatter(y_test, y_pred, alpha=0.5, color=\"blue\")\n",
        "plt.xlabel(\"Valores reales\")\n",
        "plt.ylabel(\"Valores predichos\")\n",
        "plt.title(\"Regresión Lineal - Real vs. Predicho\")\n",
        "plt.plot([y_test.min(), y_test.max()], [y_test.min(), y_test.max()], 'r--')\n",
        "plt.show()"
      ],
      "metadata": {
        "id": "ZOy4J5U8XOJf"
      },
      "execution_count": null,
      "outputs": []
    },
    {
      "cell_type": "code",
      "source": [
        "print(X_train.isna().sum())\n"
      ],
      "metadata": {
        "id": "KcLZJvOQXZ5b"
      },
      "execution_count": null,
      "outputs": []
    },
    {
      "cell_type": "code",
      "source": [
        "from sklearn.impute import SimpleImputer\n",
        "\n",
        "imputer = SimpleImputer(strategy='mean')\n",
        "df[['account.Charges.Total']] = imputer.fit_transform(df[['account.Charges.Total']])\n"
      ],
      "metadata": {
        "id": "3beHLwXTXpLX"
      },
      "execution_count": null,
      "outputs": []
    },
    {
      "cell_type": "code",
      "source": [
        "# Ejecutas imputación aquí\n",
        "print(df['account.Charges.Total'].isnull().sum())  # Después debería mostrar 0\n"
      ],
      "metadata": {
        "id": "pyOzd-vvXzGK"
      },
      "execution_count": null,
      "outputs": []
    },
    {
      "cell_type": "code",
      "source": [
        "from sklearn.linear_model import LinearRegression\n",
        "from sklearn.metrics import r2_score, mean_absolute_error, mean_squared_error\n",
        "import numpy as np\n",
        "import matplotlib.pyplot as plt\n",
        "\n",
        "# 1. Crear y entrenar el modelo\n",
        "modelo_lr = LinearRegression()\n",
        "modelo_lr.fit(X_train, y_train)\n",
        "\n",
        "# 2. Hacer predicciones\n",
        "y_pred = modelo_lr.predict(X_test)\n",
        "\n",
        "# 3. Calcular métricas\n",
        "r2 = r2_score(y_test, y_pred)\n",
        "mae = mean_absolute_error(y_test, y_pred)\n",
        "rmse = np.sqrt(mean_squared_error(y_test, y_pred))\n",
        "\n",
        "print(\"Resultados Regresión Lineal\")\n",
        "print(\"----------------------------\")\n",
        "print(f\"R²: {r2:.4f}\")\n",
        "print(f\"MAE: {mae:.4f}\")\n",
        "print(f\"RMSE: {rmse:.4f}\")\n",
        "\n",
        "# 4. Gráfico de valores reales vs. predichos\n",
        "plt.scatter(y_test, y_pred, alpha=0.5, color=\"blue\")\n",
        "plt.xlabel(\"Valores reales\")\n",
        "plt.ylabel(\"Valores predichos\")\n",
        "plt.title(\"Regresión Lineal - Real vs. Predicho\")\n",
        "plt.plot([y_test.min(), y_test.max()], [y_test.min(), y_test.max()], 'r--')\n",
        "plt.show()"
      ],
      "metadata": {
        "id": "kq9kBbaxYFTg"
      },
      "execution_count": null,
      "outputs": []
    },
    {
      "cell_type": "code",
      "source": [
        "# Verificar si hay NaN en alguna columna del conjunto de entrenamiento\n",
        "print(X_train.isna().sum())\n",
        "\n",
        "# Imputar NaN en todas las columnas numéricas con la media (o mediana si prefieres)\n",
        "from sklearn.impute import SimpleImputer\n",
        "imputer = SimpleImputer(strategy='mean')\n",
        "X_train_imputed = pd.DataFrame(imputer.fit_transform(X_train), columns=X_train.columns)\n",
        "X_test_imputed = pd.DataFrame(imputer.transform(X_test), columns=X_test.columns)\n",
        "\n",
        "# Verificar que ya no haya NaN\n",
        "print(X_train_imputed.isna().sum())\n"
      ],
      "metadata": {
        "id": "9NoZuheyYS3S"
      },
      "execution_count": null,
      "outputs": []
    },
    {
      "cell_type": "code",
      "source": [
        "df['account.Charges.Total'].fillna(df['account.Charges.Total'].median(), inplace=True)\n"
      ],
      "metadata": {
        "id": "E2JpU7FUZA9M"
      },
      "execution_count": null,
      "outputs": []
    },
    {
      "cell_type": "code",
      "source": [
        "df['account.Charges.Total'] = df['account.Charges.Total'].fillna(df['account.Charges.Total'].median())\n"
      ],
      "metadata": {
        "id": "sv4md0MaZLm5"
      },
      "execution_count": null,
      "outputs": []
    },
    {
      "cell_type": "code",
      "source": [
        "# Verificar si quedan NaN en toda la columna\n",
        "print(df['account.Charges.Total'].isna().sum())\n",
        "\n",
        "# O para todas las columnas numéricas (o todo el df)\n",
        "print(df.isna().sum())\n"
      ],
      "metadata": {
        "id": "LNB6fALEZVk5"
      },
      "execution_count": null,
      "outputs": []
    },
    {
      "cell_type": "code",
      "source": [
        "# Reemplazar valores NaN en 'account.Charges.Total' por la mediana y guardar en df\n",
        "df['account.Charges.Total'] = df['account.Charges.Total'].fillna(df['account.Charges.Total'].median())\n",
        "\n",
        "# Puedes verificar nuevamente que ya no hay NaN\n",
        "print(df['account.Charges.Total'].isna().sum())\n"
      ],
      "metadata": {
        "id": "F-b7dYuoZrC1"
      },
      "execution_count": null,
      "outputs": []
    },
    {
      "cell_type": "code",
      "source": [
        "from sklearn.linear_model import LinearRegression\n",
        "from sklearn.metrics import r2_score, mean_absolute_error, mean_squared_error\n",
        "import numpy as np\n",
        "import matplotlib.pyplot as plt\n",
        "\n",
        "# 1. Crear y entrenar el modelo\n",
        "modelo_lr = LinearRegression()\n",
        "modelo_lr.fit(X_train, y_train)\n",
        "\n",
        "# 2. Hacer predicciones\n",
        "y_pred = modelo_lr.predict(X_test)\n",
        "\n",
        "# 3. Calcular métricas\n",
        "r2 = r2_score(y_test, y_pred)\n",
        "mae = mean_absolute_error(y_test, y_pred)\n",
        "rmse = np.sqrt(mean_squared_error(y_test, y_pred))\n",
        "\n",
        "print(\"Resultados Regresión Lineal\")\n",
        "print(\"----------------------------\")\n",
        "print(f\"R²: {r2:.4f}\")\n",
        "print(f\"MAE: {mae:.4f}\")\n",
        "print(f\"RMSE: {rmse:.4f}\")\n",
        "\n",
        "# 4. Gráfico de valores reales vs. predichos\n",
        "plt.scatter(y_test, y_pred, alpha=0.5, color=\"blue\")\n",
        "plt.xlabel(\"Valores reales\")\n",
        "plt.ylabel(\"Valores predichos\")\n",
        "plt.title(\"Regresión Lineal - Real vs. Predicho\")\n",
        "plt.plot([y_test.min(), y_test.max()], [y_test.min(), y_test.max()], 'r--')\n",
        "plt.show()"
      ],
      "metadata": {
        "id": "rdn6YmU4Z8U6"
      },
      "execution_count": null,
      "outputs": []
    },
    {
      "cell_type": "code",
      "source": [
        "print(X_train.isnull().sum())\n"
      ],
      "metadata": {
        "id": "Kf0llp1MaMfd"
      },
      "execution_count": null,
      "outputs": []
    },
    {
      "cell_type": "code",
      "source": [
        "# Detectar columnas duplicadas\n",
        "duplicated_cols = df.columns[df.columns.duplicated()].unique()\n",
        "print(\"Columnas duplicadas:\", duplicated_cols.tolist())\n",
        "\n",
        "# Eliminar columnas duplicadas (excepto la primera)\n",
        "df = df.loc[:, ~df.columns.duplicated()]\n",
        "\n",
        "# Verificar si hay NaN en la columna problematica\n",
        "print(\"NaN en 'account.Charges.Total' antes de fillna:\", df['account.Charges.Total'].isna().sum())\n",
        "\n",
        "# Rellenar NaN con la mediana\n",
        "df['account.Charges.Total'] = df['account.Charges.Total'].fillna(df['account.Charges.Total'].median())\n",
        "\n",
        "# Verificar que no queden NaN\n",
        "print(\"NaN en 'account.Charges.Total' después de fillna:\", df['account.Charges.Total'].isna().sum())\n"
      ],
      "metadata": {
        "id": "LfKwZpp2ajCh"
      },
      "execution_count": null,
      "outputs": []
    },
    {
      "cell_type": "code",
      "source": [
        "# Mostrar cuántos NaN hay en todas las columnas\n",
        "print(df.isna().sum())\n",
        "\n",
        "# Mostrar los tipos de datos para detectar columnas no numéricas\n",
        "print(df.dtypes)\n"
      ],
      "metadata": {
        "id": "vR5C9z_Mas4_"
      },
      "execution_count": null,
      "outputs": []
    },
    {
      "cell_type": "code",
      "source": [
        "# Convertir 'Churn' a 0/1\n",
        "df['Churn'] = df['Churn'].map({'No': 0, 'Yes': 1})\n",
        "\n",
        "# Variables binarias con valores 'Yes'/'No'\n",
        "bin_cols = ['customer.gender', 'customer.Partner', 'customer.Dependents',\n",
        "            'phone.PhoneService', 'account.PaperlessBilling']\n",
        "\n",
        "for col in bin_cols:\n",
        "    df[col] = df[col].map({'Yes': 1, 'No': 0, 'Male': 1, 'Female': 0})\n",
        "\n",
        "# Variables con más de 2 categorías (one-hot encoding)\n",
        "multi_cat_cols = ['phone.MultipleLines', 'internet.InternetService', 'internet.OnlineSecurity',\n",
        "                  'internet.OnlineBackup', 'internet.DeviceProtection', 'internet.TechSupport',\n",
        "                  'internet.StreamingTV', 'internet.StreamingMovies', 'account.Contract', 'account.PaymentMethod']\n",
        "\n",
        "df = pd.get_dummies(df, columns=multi_cat_cols, drop_first=True)\n",
        "\n",
        "# Verifica tipos de datos después de la conversión\n",
        "print(df.dtypes)\n"
      ],
      "metadata": {
        "id": "v2QPmVeLbIpW"
      },
      "execution_count": null,
      "outputs": []
    },
    {
      "cell_type": "code",
      "source": [
        "from sklearn.model_selection import train_test_split\n",
        "from sklearn.linear_model import LogisticRegression\n",
        "from sklearn.tree import DecisionTreeClassifier\n",
        "from sklearn.metrics import accuracy_score, classification_report, confusion_matrix\n",
        "\n",
        "# 1. Definir X e y\n",
        "X = df.drop(columns=['Churn'])\n",
        "y = df['Churn']\n",
        "\n",
        "# 2. Separar en entrenamiento y prueba (80/20)\n",
        "X_train, X_test, y_train, y_test = train_test_split(X, y, test_size=0.2, random_state=42)\n",
        "\n",
        "# 3. Crear los modelos\n",
        "modelo_lr = LogisticRegression(max_iter=1000, random_state=42)\n",
        "modelo_dt = DecisionTreeClassifier(random_state=42)\n",
        "\n",
        "# 4. Entrenar los modelos\n",
        "modelo_lr.fit(X_train, y_train)\n",
        "modelo_dt.fit(X_train, y_train)\n",
        "\n",
        "# 5. Predecir en test\n",
        "y_pred_lr = modelo_lr.predict(X_test)\n",
        "y_pred_dt = modelo_dt.predict(X_test)\n",
        "\n",
        "# 6. Evaluar resultados\n",
        "print(\"Regresión Logística:\")\n",
        "print(\"Accuracy:\", accuracy_score(y_test, y_pred_lr))\n",
        "print(classification_report(y_test, y_pred_lr))\n",
        "print(\"Matriz de Confusión:\\n\", confusion_matrix(y_test, y_pred_lr))\n",
        "\n",
        "print(\"\\nÁrbol de Decisión:\")\n",
        "print(\"Accuracy:\", accuracy_score(y_test, y_pred_dt))\n",
        "print(classification_report(y_test, y_pred_dt))\n",
        "print(\"Matriz de Confusión:\\n\", confusion_matrix(y_test, y_pred_dt))\n"
      ],
      "metadata": {
        "id": "asydU_AdbaRL"
      },
      "execution_count": null,
      "outputs": []
    },
    {
      "cell_type": "markdown",
      "source": [
        "Interpretación rápida:\n",
        "Regresión Logística:\n",
        "\n",
        "Accuracy ~80% es bueno para un problema de churn.\n",
        "\n",
        "Mejor desempeño para la clase “0” (no cancelan) que para “1” (cancelan).\n",
        "\n",
        "Precisión, recall y F1 para clase 1 son menores (~0.6), lo que indica que el modelo falla más en detectar cancelaciones.\n",
        "\n",
        "Matriz de confusión muestra que hay falsos negativos (176) y falsos positivos (101).\n",
        "\n",
        "Árbol de Decisión:\n",
        "\n",
        "Accuracy más baja (~74%).\n",
        "\n",
        "Menor recall y precisión para clase “1” en comparación con regresión logística.\n",
        "\n",
        "Modelo menos sensible a la clase minoritaria (churn).\n",
        "\n",
        "Qué hacer ahora:\n",
        "Balancear el dataset (SMOTE o similar) para mejorar detección de cancelaciones (clase minoritaria).\n",
        "\n",
        "Probar modelos más robustos: Random Forest, Gradient Boosting, XGBoost, LightGBM.\n",
        "\n",
        "Ajustar hiperparámetros usando GridSearchCV o RandomizedSearchCV.\n",
        "\n",
        "Validación cruzada para evaluar estabilidad del modelo.\n",
        "\n",
        "Explorar variables más influyentes con importancia de características.\n",
        "\n",
        "Visualizar curvas ROC y calcular AUC para una evaluación más completa.\n",
        "\n"
      ],
      "metadata": {
        "id": "p_IpV6_-buod"
      }
    },
    {
      "cell_type": "code",
      "source": [
        "from imblearn.over_sampling import SMOTE\n",
        "from sklearn.linear_model import LogisticRegression\n",
        "from sklearn.metrics import classification_report, confusion_matrix\n",
        "\n",
        "# 1. Crear objeto SMOTE\n",
        "smote = SMOTE(random_state=42)\n",
        "\n",
        "# 2. Aplicar SMOTE SOLO a los datos de entrenamiento\n",
        "X_train_res, y_train_res = smote.fit_resample(X_train, y_train)\n",
        "\n",
        "# 3. Verificar nueva distribución de clases\n",
        "print(\"Distribución original de y_train:\")\n",
        "print(y_train.value_counts())\n",
        "print(\"\\nDistribución después de SMOTE:\")\n",
        "print(y_train_res.value_counts())\n",
        "\n",
        "# 4. Entrenar modelo con datos balanceados\n",
        "modelo_lr = LogisticRegression(max_iter=1000)\n",
        "modelo_lr.fit(X_train_res, y_train_res)\n",
        "\n",
        "# 5. Evaluar modelo en conjunto de prueba original\n",
        "y_pred = modelo_lr.predict(X_test)\n",
        "\n",
        "print(\"Reporte clasificación:\")\n",
        "print(classification_report(y_test, y_pred))\n",
        "print(\"Matriz de confusión:\")\n",
        "print(confusion_matrix(y_test, y_pred))\n"
      ],
      "metadata": {
        "id": "opLDc7ohbuKv"
      },
      "execution_count": null,
      "outputs": []
    },
    {
      "cell_type": "markdown",
      "source": [
        "¡Perfecto! El SMOTE ha balanceado muy bien las clases en el entrenamiento. Algunos puntos a destacar:\n",
        "\n",
        "La recall para la clase 1 (clientes que cancelaron) mejoró bastante, de aproximadamente 0.53 a 0.74. Esto indica que ahora el modelo identifica mejor a los que cancelan.\n",
        "\n",
        "La precisión de la clase 1 bajó un poco (de ~0.66 a 0.54), lo que significa más falsos positivos, pero ese trade-off es común al mejorar recall en clases minoritarias.\n",
        "\n",
        "La exactitud global bajó un poco, lo cual es típico cuando se balancea el dataset y se mejora la sensibilidad para la clase minoritaria.\n",
        "\n",
        "En resumen, este es un buen resultado para un problema desbalanceado porque ahora el modelo es más sensible a detectar clientes que cancelan, que es el objetivo principal en churn."
      ],
      "metadata": {
        "id": "cYIXIXokcQFA"
      }
    },
    {
      "cell_type": "code",
      "source": [
        "from sklearn.ensemble import RandomForestClassifier\n",
        "from sklearn.metrics import classification_report, confusion_matrix, accuracy_score\n",
        "\n",
        "# Crear el modelo Random Forest\n",
        "modelo_rf = RandomForestClassifier(random_state=42)\n",
        "\n",
        "# Entrenar con los datos de entrenamiento balanceados\n",
        "modelo_rf.fit(X_train_res, y_train_res)  # usa los datos balanceados de SMOTE\n",
        "\n",
        "# Predecir en el conjunto de prueba\n",
        "y_pred_rf = modelo_rf.predict(X_test)\n",
        "\n",
        "# Evaluar resultados\n",
        "print(\"Accuracy:\", accuracy_score(y_test, y_pred_rf))\n",
        "print(classification_report(y_test, y_pred_rf))\n",
        "print(\"Matriz de Confusión:\\n\", confusion_matrix(y_test, y_pred_rf))\n"
      ],
      "metadata": {
        "id": "oraDHkrsb8cS"
      },
      "execution_count": null,
      "outputs": []
    },
    {
      "cell_type": "markdown",
      "source": [
        "Muy bueno, el Random Forest mejora un poco el recall para la clase minoritaria (los que cancelaron), comparado con los modelos anteriores, aunque la precisión sigue siendo baja para esa clase.\n",
        "\n",
        "Ahora, se puede:\n",
        "\n",
        "Ajustar hiperparámetros del Random Forest para mejorar resultados (por ejemplo, usando GridSearchCV).\n",
        "\n",
        "Probar otros modelos o combinaciones (XGBoost, LightGBM).\n",
        "\n",
        "Hacer análisis de importancia de variables para entender qué impacta más la cancelación.\n",
        "\n",
        "Visualizar la matriz de confusión o curva ROC."
      ],
      "metadata": {
        "id": "_pvdoe-xc0Mn"
      }
    },
    {
      "cell_type": "code",
      "source": [
        "from sklearn.ensemble import RandomForestClassifier\n",
        "from sklearn.model_selection import GridSearchCV\n",
        "\n",
        "# Definir el modelo base\n",
        "rf = RandomForestClassifier(random_state=42)\n",
        "\n",
        "# Definir el espacio de hiperparámetros a explorar\n",
        "param_grid = {\n",
        "    'n_estimators': [50, 100, 200],        # cantidad de árboles\n",
        "    'max_depth': [None, 10, 20, 30],       # profundidad máxima del árbol\n",
        "    'min_samples_split': [2, 5, 10],       # min. muestras para dividir nodo\n",
        "    'min_samples_leaf': [1, 2, 4],         # min. muestras en hoja\n",
        "    'max_features': ['sqrt', 'log2']  # quitar 'auto'\n",
        "}\n",
        "\n",
        "\n",
        "# Configurar GridSearchCV\n",
        "grid_search = GridSearchCV(\n",
        "    estimator=rf,\n",
        "    param_grid=param_grid,\n",
        "    cv=3,                 # validación cruzada 3 folds\n",
        "    n_jobs=-1,            # usar todos los cores disponibles\n",
        "    verbose=2,\n",
        "    scoring='f1'          # optimizamos según el F1 score, balance entre precisión y recall\n",
        ")\n",
        "\n",
        "# Ejecutar la búsqueda\n",
        "grid_search.fit(X_train, y_train)\n",
        "\n",
        "# Mejor combinación de hiperparámetros\n",
        "print(\"Mejores hiperparámetros:\", grid_search.best_params_)\n",
        "\n",
        "# Evaluar el mejor modelo en test\n",
        "best_rf = grid_search.best_estimator_\n",
        "y_pred = best_rf.predict(X_test)\n",
        "\n",
        "from sklearn.metrics import classification_report, confusion_matrix\n",
        "\n",
        "print(\"Reporte clasificación:\")\n",
        "print(classification_report(y_test, y_pred))\n",
        "print(\"Matriz de confusión:\")\n",
        "print(confusion_matrix(y_test, y_pred))\n"
      ],
      "metadata": {
        "id": "hABA55U7dEbW"
      },
      "execution_count": null,
      "outputs": []
    },
    {
      "cell_type": "code",
      "source": [
        "X_train = X_train.dropna()\n",
        "y_train = y_train.loc[X_train.index]\n"
      ],
      "metadata": {
        "id": "KjzdfQEke6kJ"
      },
      "execution_count": null,
      "outputs": []
    },
    {
      "cell_type": "code",
      "source": [
        "print(\"Filas antes de dropna:\", len(X_train))\n",
        "X_train_clean = X_train.dropna()\n",
        "print(\"Filas después de dropna:\", len(X_train_clean))\n",
        "print(\"Filas eliminadas:\", len(X_train) - len(X_train_clean))\n"
      ],
      "metadata": {
        "id": "oPPvJOpkfPrT"
      },
      "execution_count": null,
      "outputs": []
    },
    {
      "cell_type": "code",
      "source": [
        "print(\"NaN en X_train:\", X_train.isna().sum().sum())\n",
        "print(\"NaN en y_train:\", y_train.isna().sum())\n"
      ],
      "metadata": {
        "id": "lJBd0MtefdDA"
      },
      "execution_count": null,
      "outputs": []
    },
    {
      "cell_type": "code",
      "source": [
        "from sklearn.ensemble import RandomForestClassifier\n",
        "from sklearn.model_selection import GridSearchCV\n",
        "\n",
        "# Definir el modelo base\n",
        "rf = RandomForestClassifier(random_state=42)\n",
        "\n",
        "# Definir el espacio de hiperparámetros a explorar\n",
        "param_grid = {\n",
        "    'n_estimators': [50, 100, 200],        # cantidad de árboles\n",
        "    'max_depth': [None, 10, 20, 30],       # profundidad máxima del árbol\n",
        "    'min_samples_split': [2, 5, 10],       # min. muestras para dividir nodo\n",
        "    'min_samples_leaf': [1, 2, 4],         # min. muestras en hoja\n",
        "    'max_features': ['sqrt', 'log2']  # quitar 'auto'\n",
        "}\n",
        "\n",
        "\n",
        "# Configurar GridSearchCV\n",
        "grid_search = GridSearchCV(\n",
        "    estimator=rf,\n",
        "    param_grid=param_grid,\n",
        "    cv=3,                 # validación cruzada 3 folds\n",
        "    n_jobs=-1,            # usar todos los cores disponibles\n",
        "    verbose=2,\n",
        "    scoring='f1'          # optimizamos según el F1 score, balance entre precisión y recall\n",
        ")\n",
        "\n",
        "# Ejecutar la búsqueda\n",
        "grid_search.fit(X_train, y_train)\n",
        "\n",
        "# Mejor combinación de hiperparámetros\n",
        "print(\"Mejores hiperparámetros:\", grid_search.best_params_)\n",
        "\n",
        "# Evaluar el mejor modelo en test\n",
        "best_rf = grid_search.best_estimator_\n",
        "y_pred = best_rf.predict(X_test)\n",
        "\n",
        "from sklearn.metrics import classification_report, confusion_matrix\n",
        "\n",
        "print(\"Reporte clasificación:\")\n",
        "print(classification_report(y_test, y_pred))\n",
        "print(\"Matriz de confusión:\")\n",
        "print(confusion_matrix(y_test, y_pred))"
      ],
      "metadata": {
        "id": "fhINS_oVgOiw"
      },
      "execution_count": null,
      "outputs": []
    },
    {
      "cell_type": "markdown",
      "source": [
        "¡Muy buen resultado! 🎉\n",
        "\n",
        "Con esos hiperparámetros ajustados, Random Forest logró:\n",
        "\n",
        "Accuracy: 80% (lo que indica que el 80% de las predicciones fueron correctas)\n",
        "\n",
        "Recall en clase 1 (cancelaciones): 49% (detecta cerca de la mitad de los clientes que realmente cancelaron)\n",
        "\n",
        "Precisión en clase 1: 67% (cuando predice cancelación, acierta en un 67%)\n",
        "\n",
        "F1-score: 0.56 para la clase 1, un balance entre precisión y recall.\n",
        "\n",
        "Matriz de confusión muestra que todavía hay un buen número de falsos negativos (191), o sea, clientes que cancelaron pero no fueron detectados."
      ],
      "metadata": {
        "id": "HdSZT60Dh5T1"
      }
    },
    {
      "cell_type": "markdown",
      "source": [
        "Exacto, justo así:\n",
        "\n",
        "Modelos que requieren normalización (como la Regresión Logística)\n",
        "\n",
        "Modelos que no requieren normalización (como el Árbol de Decisión y el Random Forest)"
      ],
      "metadata": {
        "id": "s0oNs7hdikNp"
      }
    },
    {
      "cell_type": "markdown",
      "source": [
        "Modelos con normalización (p. ej. Regresión Logística)\n",
        "Accuracy (Exactitud): 0.80 (80%)\n",
        "\n",
        "Precision (Precisión) clase \"churn\": 0.66\n",
        "\n",
        "Recall (Sensibilidad) clase \"churn\": 0.53\n",
        "\n",
        "F1-score clase \"churn\": 0.59\n",
        "\n",
        "Matriz de Confusión:\n",
        "\n",
        "Verdaderos positivos (churn detectados correctamente): 197\n",
        "\n",
        "Falsos negativos (churn no detectados): 176\n",
        "\n",
        "Falsos positivos: 101\n",
        "\n",
        "Verdaderos negativos: 935"
      ],
      "metadata": {
        "id": "JocoM6bFjHnS"
      }
    },
    {
      "cell_type": "markdown",
      "source": [
        "Modelos sin normalización\n",
        "Árbol de Decisión\n",
        "Accuracy: 0.74 (74%)\n",
        "\n",
        "Precision clase \"churn\": 0.51\n",
        "\n",
        "Recall clase \"churn\": 0.49\n",
        "\n",
        "F1-score clase \"churn\": 0.50\n",
        "\n",
        "Matriz de Confusión:\n",
        "\n",
        "TP: 184\n",
        "\n",
        "FN: 189\n",
        "\n",
        "FP: 175\n",
        "\n",
        "TN: 861"
      ],
      "metadata": {
        "id": "x7yvRN_XjQP_"
      }
    },
    {
      "cell_type": "markdown",
      "source": [
        "Random Forest (sin ajustar)\n",
        "Accuracy: 0.77 (77%)\n",
        "\n",
        "Precision clase \"churn\": 0.56\n",
        "\n",
        "Recall clase \"churn\": 0.63\n",
        "\n",
        "F1-score clase \"churn\": 0.59\n",
        "\n",
        "Matriz de Confusión:\n",
        "\n",
        "TP: 235\n",
        "\n",
        "FN: 138\n",
        "\n",
        "FP: 188\n",
        "\n",
        "TN: 848"
      ],
      "metadata": {
        "id": "6-VNeeCQjVwW"
      }
    },
    {
      "cell_type": "markdown",
      "source": [
        "Random Forest (ajustado con GridSearchCV)\n",
        "Accuracy: 0.80 (80%)\n",
        "\n",
        "Precision clase \"churn\": 0.67\n",
        "\n",
        "Recall clase \"churn\": 0.49\n",
        "\n",
        "F1-score clase \"churn\": 0.56\n",
        "\n",
        "Matriz de Confusión:\n",
        "\n",
        "TP: 182\n",
        "\n",
        "FN: 191\n",
        "\n",
        "FP: 90\n",
        "\n",
        "TN: 946"
      ],
      "metadata": {
        "id": "rRLbY_PyjaAk"
      }
    },
    {
      "cell_type": "markdown",
      "source": [
        "Conclusiones sobre los modelos y sus métricas\n",
        "Exactitud (Accuracy):\n",
        "\n",
        "Los modelos de Regresión Logística y Random Forest ajustado tienen la mejor exactitud (~80%).\n",
        "\n",
        "El Árbol de Decisión queda un poco más bajo (~74%).\n",
        "Esto indica que en general el Random Forest ajustado y la Regresión Logística clasifican correctamente más casos.\n",
        "\n",
        "Precisión para la clase minoritaria (Churn = 1):\n",
        "\n",
        "El Random Forest ajustado tiene la mayor precisión (0.67), lo que significa que cuando predice que un cliente va a cancelar, tiene más probabilidad de estar en lo correcto (menos falsos positivos).\n",
        "\n",
        "La Regresión Logística es segunda (0.66), bastante cercana.\n",
        "\n",
        "Random Forest sin ajustar y Árbol de Decisión tienen precisiones más bajas.\n",
        "\n",
        "Recall (sensibilidad) para la clase Churn:\n",
        "\n",
        "El Random Forest sin ajustar es el que mejor detecta a los clientes que efectivamente cancelan (recall 0.63), o sea, menos falsos negativos.\n",
        "\n",
        "El resto de los modelos tiene recall más bajo, especialmente el Random Forest ajustado y Regresión Logística (alrededor de 0.49-0.53).\n",
        "Esto indica que el modelo ajustado es más conservador y pierde más cancelaciones reales.\n",
        "\n",
        "F1-score (balance precisión-recall):\n",
        "\n",
        "El mejor F1-score para la clase churn lo tienen Regresión Logística y Random Forest sin ajustar (~0.59), que mantienen un buen equilibrio entre precisión y recall.\n",
        "\n",
        "El Random Forest ajustado baja un poco en F1 (0.56), porque mejora precisión pero baja recall.\n",
        "\n",
        "Árbol de Decisión queda bastante atrás.\n",
        "\n",
        "Matriz de confusión:\n",
        "\n",
        "El Random Forest ajustado reduce los falsos positivos (mejor precisión).\n",
        "\n",
        "El Random Forest sin ajustar reduce falsos negativos (mejor recall).\n",
        "\n",
        "La Regresión Logística ofrece un balance, pero con menor recall.\n",
        "\n",
        "¿Cuál es el mejor modelo?\n",
        "Si quieres minimizar falsos positivos (es decir, evitar predecir churn cuando no hay churn, para no malgastar recursos):\n",
        "El Random Forest ajustado es la mejor opción por su precisión más alta y buena exactitud.\n",
        "\n",
        "Si quieres maximizar la detección de churn (recall alto), incluso a costa de más falsos positivos:\n",
        "El Random Forest sin ajustar es mejor, detecta más cancelaciones reales.\n",
        "\n",
        "Si buscas un equilibrio razonable sin mucho ajuste complejo:\n",
        "La Regresión Logística es buena opción, con alta exactitud y balance aceptable de precisión y recall.\n",
        "\n",
        "El Árbol de Decisión es el que menos rendimiento mostró, y no sería la opción recomendada.\n",
        "\n",
        "En resumen:\n",
        "El Random Forest ajustado gana en precisión y exactitud.\n",
        "\n",
        "El Random Forest sin ajuste gana en recall.\n",
        "\n",
        "La Regresión Logística es buena para balancear sin tanta complejidad.\n",
        "\n",
        "Todo depende de si tu prioridad es detectar la mayor cantidad de cancelaciones (recall) o evitar predicciones erróneas (precisión)."
      ],
      "metadata": {
        "id": "HhDK0ZB_jzs5"
      }
    },
    {
      "cell_type": "markdown",
      "source": [
        "¿Qué es overfitting y underfitting?\n",
        "Overfitting: el modelo aprende demasiado bien los datos de entrenamiento, incluyendo ruido o detalles específicos, y por eso tiene muy buen desempeño en entrenamiento pero pobre generalización en datos nuevos (test).\n",
        "\n",
        "Underfitting: el modelo es muy simple y no logra captar patrones importantes, por lo que falla tanto en entrenamiento como en test."
      ],
      "metadata": {
        "id": "DU5-AJEkkPSm"
      }
    },
    {
      "cell_type": "markdown",
      "source": [
        "Análisis para tus modelos\n",
        "¿Hay señales de overfitting?\n",
        "\n",
        "Para detectar overfitting, normalmente se comparan las métricas (accuracy, f1, recall, etc.) entre entrenamiento y prueba:\n",
        "\n",
        "Si el desempeño en entrenamiento es mucho mejor que en test, puede ser overfitting.\n",
        "\n",
        "En tu caso, como solo mostraste métricas de test, habría que revisar el desempeño en entrenamiento para confirmarlo.\n",
        "\n",
        "¿Posible underfitting?\n",
        "\n",
        "Si los modelos tienen baja precisión, recall y f1 tanto en entrenamiento como en test, eso podría indicar underfitting.\n",
        "\n",
        "El Árbol de Decisión con menor accuracy y f1 puede estar sufriendo de underfitting, porque es un modelo más simple y si no está bien parametrizado, no aprende bien.\n",
        "\n",
        "Random Forest sin ajustar vs. ajustado\n",
        "\n",
        "El Random Forest sin ajuste suele tener mayor recall, pero menor precisión, lo que indica que puede estar sobreajustando un poco para detectar más casos positivos, pero a costa de falsos positivos (ruido).\n",
        "\n",
        "El ajuste (GridSearchCV) generalmente busca controlar el overfitting regulando hiperparámetros como profundidad y muestras mínimas en hojas.\n",
        "\n",
        "El hecho que el modelo ajustado tenga un mejor balance pero un recall menor indica que redujo cierto overfitting, haciéndolo más generalizable, aunque sacrifica detección.\n",
        "\n",
        "Regresión Logística\n",
        "\n",
        "Modelo lineal simple que suele evitar overfitting fácilmente.\n",
        "\n",
        "Resultados bastante estables y balanceados, lo que sugiere bajo riesgo de overfitting ni underfitting significativo."
      ],
      "metadata": {
        "id": "QoIeMFUJknqQ"
      }
    },
    {
      "cell_type": "markdown",
      "source": [
        "En resumen para tus modelos:\n",
        "Modelo\tProbable estado\tJustificación\n",
        "Regresión Logística\tBuen ajuste\tMétricas balanceadas, sin señales de sobreajuste\n",
        "Árbol de Decisión\tPosible underfitting\tMétricas bajas, modelo simple\n",
        "RF sin ajuste\tLigero overfitting posible\tRecall alto (detecta bien), precisión baja (muchos falsos positivos)\n",
        "RF ajustado\tMejor balance, menos overfitting\tMétricas más balanceadas, menor recall, control de hiperparámetros"
      ],
      "metadata": {
        "id": "4tXcqL_wlGci"
      }
    },
    {
      "cell_type": "code",
      "source": [
        "# Modelos entrenados: modelo_lr, modelo_dt, rf, best_rf\n",
        "\n",
        "print(\"Comparación de desempeño en entrenamiento y prueba:\\n\")\n",
        "\n",
        "for nombre, modelo in [\n",
        "    ('Regresión Logística', modelo_lr),\n",
        "    ('Árbol de Decisión', modelo_dt),\n",
        "    ('Random Forest sin ajuste', rf),\n",
        "    ('Random Forest ajustado', best_rf)\n",
        "]:\n",
        "    acc_train = modelo.score(X_train, y_train)\n",
        "    acc_test = modelo.score(X_test, y_test)\n",
        "    print(f\"{nombre}:\")\n",
        "    print(f\"  Accuracy en entrenamiento: {acc_train:.4f}\")\n",
        "    print(f\"  Accuracy en prueba:        {acc_test:.4f}\")\n",
        "    diferencia = acc_train - acc_test\n",
        "\n",
        "    if diferencia > 0.1:\n",
        "        print(\"  Posible overfitting (mejor en entrenamiento que en prueba)\")\n",
        "    elif diferencia < -0.05:\n",
        "        print(\"  Posible underfitting (mejor en prueba que en entrenamiento, o ambos bajos)\")\n",
        "    else:\n",
        "        print(\"  Buen ajuste (similar desempeño en entrenamiento y prueba)\")\n",
        "    print()\n"
      ],
      "metadata": {
        "id": "irycHUGulkz4"
      },
      "execution_count": null,
      "outputs": []
    },
    {
      "cell_type": "code",
      "source": [
        "from sklearn.ensemble import RandomForestClassifier\n",
        "from sklearn.model_selection import GridSearchCV\n",
        "from sklearn.metrics import classification_report, confusion_matrix\n",
        "\n",
        "# Definir el modelo base\n",
        "rf = RandomForestClassifier(random_state=42)\n",
        "\n",
        "# Definir el espacio de hiperparámetros a explorar\n",
        "param_grid = {\n",
        "    'n_estimators': [50, 100, 200],        # cantidad de árboles\n",
        "    'max_depth': [None, 10, 20, 30],       # profundidad máxima del árbol\n",
        "    'min_samples_split': [2, 5, 10],       # min. muestras para dividir nodo\n",
        "    'min_samples_leaf': [1, 2, 4],         # min. muestras en hoja\n",
        "    'max_features': ['sqrt', 'log2']       # corregido: 'auto' no es válido\n",
        "}\n",
        "\n",
        "# Configurar GridSearchCV\n",
        "grid_search = GridSearchCV(\n",
        "    estimator=rf,\n",
        "    param_grid=param_grid,\n",
        "    cv=3,\n",
        "    n_jobs=-1,\n",
        "    verbose=2,\n",
        "    scoring='f1'  # optimizamos según f1-score\n",
        ")\n",
        "\n",
        "# Ejecutar búsqueda\n",
        "grid_search.fit(X_train, y_train)\n",
        "\n",
        "# Obtener mejor modelo (mejor estimador)\n",
        "best_rf = grid_search.best_estimator_\n",
        "\n",
        "# Asegurarse que el mejor modelo esté entrenado\n",
        "# (GridSearchCV ya entrena al mejor modelo, pero por seguridad:)\n",
        "if not hasattr(best_rf, \"estimators_\"):\n",
        "    best_rf.fit(X_train, y_train)\n",
        "\n",
        "# Evaluar en conjunto de prueba\n",
        "y_pred = best_rf.predict(X_test)\n",
        "\n",
        "print(\"Mejores hiperparámetros:\", grid_search.best_params_)\n",
        "print(\"Reporte clasificación:\")\n",
        "print(classification_report(y_test, y_pred))\n",
        "print(\"Matriz de confusión:\")\n",
        "print(confusion_matrix(y_test, y_pred))\n"
      ],
      "metadata": {
        "id": "yot5X3KSmV7m"
      },
      "execution_count": null,
      "outputs": []
    },
    {
      "cell_type": "markdown",
      "source": [
        "Perfecto, ese resultado te muestra que el mejor Random Forest tras la búsqueda con GridSearchCV tiene:\n",
        "\n",
        "Accuracy (Exactitud) ~ 80%: El modelo acierta en el 80% de los casos.\n",
        "\n",
        "Precision para clase 1 (cancelación): 0.67: De todos los que predice como cancelación, el 67% es correcto.\n",
        "\n",
        "Recall para clase 1: 0.49: El modelo detecta el 49% de los clientes que realmente cancelaron (aún queda margen para mejorar aquí).\n",
        "\n",
        "F1-score para clase 1: 0.56: Balance entre precisión y recall.\n",
        "\n",
        "Matriz de confusión:\n",
        "\n",
        "Verdaderos positivos (cancelación detectada correctamente): 182\n",
        "\n",
        "Falsos negativos (cancelación no detectada): 191\n",
        "\n",
        "Verdaderos negativos (no cancelación correctamente identificada): 946\n",
        "\n",
        "Falsos positivos (no cancelación incorrectamente marcada como cancelación): 90\n",
        "\n",
        "Interpretación:\n",
        "\n",
        "El modelo es bueno para identificar clientes que no cancelan (clase 0), pero aún tiene dificultades para captar a todos los que sí cancelan (clase 1), es decir, el recall de la clase minoritaria podría mejorar.\n",
        "\n",
        "Esto es común en datasets desbalanceados.\n",
        "\n",
        "El ajuste de hiperparámetros mejoró respecto al Random Forest sin ajuste, pero siempre puedes seguir intentando balancear el dataset, ajustar otros parámetros, o probar otros modelos."
      ],
      "metadata": {
        "id": "v6BFAvKun_XG"
      }
    },
    {
      "cell_type": "markdown",
      "source": [
        "Interpretación y Conclusiones\n",
        "Importancia de Variables según el modelo:\n",
        "1. Regresión Logística (coeficientes)\n",
        "Los coeficientes indican la influencia de cada variable en la probabilidad de cancelación (Churn).\n",
        "\n",
        "Coeficientes positivos → aumentan la probabilidad de churn.\n",
        "\n",
        "Coeficientes negativos → disminuyen la probabilidad de churn.\n",
        "\n",
        "Es útil identificar cuáles características impactan más la decisión del cliente de cancelar o no.\n",
        "\n",
        "2. Random Forest (importancia de características)\n",
        "Random Forest calcula la importancia de cada variable basada en cuánto mejora la pureza de los nodos en los árboles cuando se usa esa variable.\n",
        "\n",
        "Variables con mayor importancia tienen mayor peso en la predicción del modelo.\n",
        "\n",
        "Se puede visualizar con gráficos de barras para entender qué factores explican mejor el churn.\n",
        "\n",
        "Por ejemplo, podrían ser variables como tenure, Monthly Charges, Contract Type, o servicios específicos de internet.\n",
        "\n",
        "3. Otros modelos (SVM, KNN, XGBoost)\n",
        "SVM: Se interpretan los coeficientes en modelos lineales (similar a regresión logística).\n",
        "\n",
        "KNN: No tiene coeficientes directos, pero se puede analizar la contribución de las variables a la distancia.\n",
        "\n",
        "XGBoost: Al igual que Random Forest, proporciona importancia de variables y permite gráficos detallados."
      ],
      "metadata": {
        "id": "gaiTLPr8ofqA"
      }
    },
    {
      "cell_type": "code",
      "source": [
        "import matplotlib.pyplot as plt\n",
        "import pandas as pd\n",
        "\n",
        "# Obtener importancia de características\n",
        "importancias = best_rf.feature_importances_\n",
        "\n",
        "# Crear DataFrame para visualización\n",
        "df_importancia = pd.DataFrame({\n",
        "    'Característica': X_train.columns,\n",
        "    'Importancia': importancias\n",
        "}).sort_values(by='Importancia', ascending=False)\n",
        "\n",
        "# Graficar\n",
        "plt.figure(figsize=(10,6))\n",
        "plt.barh(df_importancia['Característica'], df_importancia['Importancia'])\n",
        "plt.gca().invert_yaxis()\n",
        "plt.title(\"Importancia de Características - Random Forest\")\n",
        "plt.xlabel(\"Importancia\")\n",
        "plt.show()\n"
      ],
      "metadata": {
        "id": "JGwwHLdcok2e"
      },
      "execution_count": null,
      "outputs": []
    },
    {
      "cell_type": "code",
      "source": [
        "import numpy as np\n",
        "import pandas as pd\n",
        "\n",
        "# Coeficientes del modelo entrenado (modelo_lr)\n",
        "coeficientes = modelo_lr.coef_[0]  # si es regresión binaria\n",
        "\n",
        "# Crear DataFrame con características y coeficientes\n",
        "df_coef = pd.DataFrame({\n",
        "    'Característica': X_train.columns,\n",
        "    'Coeficiente': coeficientes\n",
        "}).sort_values(by='Coeficiente', key=abs, ascending=False)\n",
        "\n",
        "print(df_coef)\n",
        "\n",
        "# Para ver los coeficientes positivos y negativos, que indican aumento o disminución del riesgo de churn\n"
      ],
      "metadata": {
        "id": "-dUsDakWo87a"
      },
      "execution_count": null,
      "outputs": []
    },
    {
      "cell_type": "code",
      "source": [
        "import matplotlib.pyplot as plt\n",
        "\n",
        "importancias = best_rf.feature_importances_\n",
        "df_importancia = pd.DataFrame({\n",
        "    'Característica': X_train.columns,\n",
        "    'Importancia': importancias\n",
        "}).sort_values(by='Importancia', ascending=False)\n",
        "\n",
        "plt.figure(figsize=(10,6))\n",
        "plt.barh(df_importancia['Característica'], df_importancia['Importancia'])\n",
        "plt.gca().invert_yaxis()\n",
        "plt.title(\"Importancia de Características - Random Forest\")\n",
        "plt.xlabel(\"Importancia\")\n",
        "plt.show()\n"
      ],
      "metadata": {
        "id": "ioseN5lQpECl"
      },
      "execution_count": null,
      "outputs": []
    },
    {
      "cell_type": "code",
      "source": [
        "from sklearn.svm import SVC\n",
        "\n",
        "# Entrenar un SVM lineal\n",
        "modelo_svm = SVC(kernel='linear', probability=True, random_state=42)\n",
        "modelo_svm.fit(X_train, y_train)\n"
      ],
      "metadata": {
        "id": "XjsXKonapczt"
      },
      "execution_count": null,
      "outputs": []
    },
    {
      "cell_type": "code",
      "source": [
        "coef_svm = modelo_svm.coef_[0]\n",
        "\n",
        "import pandas as pd\n",
        "\n",
        "df_coef_svm = pd.DataFrame({\n",
        "    'Característica': X_train.columns,\n",
        "    'Coeficiente': coef_svm\n",
        "}).sort_values(by='Coeficiente', key=abs, ascending=False)\n",
        "\n",
        "print(df_coef_svm)\n"
      ],
      "metadata": {
        "id": "29u_JTk3pm9f"
      },
      "execution_count": null,
      "outputs": []
    },
    {
      "cell_type": "code",
      "source": [
        "from sklearn.svm import SVC\n",
        "import pandas as pd\n",
        "\n",
        "# 1. Crear y entrenar el modelo SVM lineal\n",
        "modelo_svm = SVC(kernel='linear', probability=True, random_state=42)\n",
        "modelo_svm.fit(X_train, y_train)\n",
        "\n",
        "# 2. Obtener coeficientes (importancia) de las características\n",
        "coef_svm = modelo_svm.coef_[0]\n",
        "\n",
        "# 3. Crear DataFrame para mostrar coeficientes ordenados por importancia absoluta\n",
        "df_coef_svm = pd.DataFrame({\n",
        "    'Característica': X_train.columns,\n",
        "    'Coeficiente': coef_svm\n",
        "})\n",
        "\n",
        "df_coef_svm['Importancia Absoluta'] = df_coef_svm['Coeficiente'].abs()\n",
        "df_coef_svm = df_coef_svm.sort_values(by='Importancia Absoluta', ascending=False).drop(columns='Importancia Absoluta')\n",
        "\n",
        "# 4. Mostrar resultados\n",
        "print(df_coef_svm)\n"
      ],
      "metadata": {
        "id": "-fETkP9Ep2hV"
      },
      "execution_count": null,
      "outputs": []
    },
    {
      "cell_type": "markdown",
      "source": [
        "Una comparación directa de la importancia de características entre los modelos que sí la permiten — en concreto:\n",
        "\n",
        "Regresión Logística (coeficientes)\n",
        "SVM lineal (coeficientes)\n",
        "Random Forest (importancia de características basada en árboles)"
      ],
      "metadata": {
        "id": "R8yyZYXRqQeI"
      }
    },
    {
      "cell_type": "code",
      "source": [
        "import pandas as pd\n",
        "\n",
        "# Regresión Logística\n",
        "coef_rl = modelo_rl.coef_[0]\n",
        "df_coef_rl = pd.DataFrame({\n",
        "    'Característica': X_train.columns,\n",
        "    'Coef_RegLog': coef_rl\n",
        "})\n",
        "df_coef_rl['Importancia Abs RegLog'] = df_coef_rl['Coef_RegLog'].abs()\n",
        "\n",
        "# SVM Lineal\n",
        "coef_svm = modelo_svm.coef_[0]\n",
        "df_coef_svm = pd.DataFrame({\n",
        "    'Característica': X_train.columns,\n",
        "    'Coef_SVM': coef_svm\n",
        "})\n",
        "df_coef_svm['Importancia Abs SVM'] = df_coef_svm['Coef_SVM'].abs()\n",
        "\n",
        "# Random Forest (importancia de características)\n",
        "importancias_rf = best_rf.feature_importances_\n",
        "df_imp_rf = pd.DataFrame({\n",
        "    'Característica': X_train.columns,\n",
        "    'Imp_RandomForest': importancias_rf\n",
        "})\n",
        "\n",
        "# Unir todos en un solo DataFrame para comparar\n",
        "df_comparacion = df_coef_rl[['Característica', 'Coef_RegLog', 'Importancia Abs RegLog']].merge(\n",
        "    df_coef_svm[['Característica', 'Coef_SVM', 'Importancia Abs SVM']],\n",
        "    on='Característica'\n",
        ").merge(\n",
        "    df_imp_rf,\n",
        "    on='Característica'\n",
        ")\n",
        "\n",
        "# Ordenar por importancia absoluta en Random Forest (puedes cambiar la columna para ordenar según otro criterio)\n",
        "df_comparacion = df_comparacion.sort_values(by='Imp_RandomForest', ascending=False).reset_index(drop=True)\n",
        "\n",
        "# Mostrar tabla comparativa\n",
        "print(df_comparacion)\n"
      ],
      "metadata": {
        "id": "m4htxaP_qZJf"
      },
      "execution_count": null,
      "outputs": []
    },
    {
      "cell_type": "code",
      "source": [
        "from sklearn.pipeline import Pipeline\n",
        "from sklearn.preprocessing import StandardScaler\n",
        "from sklearn.linear_model import LogisticRegression\n",
        "\n",
        "# Crear pipeline\n",
        "modelo_rl = Pipeline([\n",
        "    ('scaler', StandardScaler()),\n",
        "    ('logisticregression', LogisticRegression())\n",
        "])\n",
        "\n",
        "# Entrenar\n",
        "modelo_rl.fit(X_train, y_train)\n"
      ],
      "metadata": {
        "id": "u0YgO5PfrBC8"
      },
      "execution_count": null,
      "outputs": []
    },
    {
      "cell_type": "code",
      "source": [
        "from sklearn.pipeline import Pipeline\n",
        "from sklearn.preprocessing import StandardScaler\n",
        "from sklearn.linear_model import LogisticRegression\n",
        "from sklearn.model_selection import train_test_split\n",
        "from sklearn.metrics import classification_report\n",
        "\n",
        "# Supongamos que tienes X, y\n",
        "# X: DataFrame o array de features\n",
        "# y: vector objetivo (clases)\n",
        "\n",
        "# Dividir datos\n",
        "X_train, X_test, y_train, y_test = train_test_split(X, y, test_size=0.2, random_state=42)\n",
        "\n",
        "# Crear pipeline con escalador y modelo\n",
        "pipeline = Pipeline([\n",
        "    ('scaler', StandardScaler()),          # Escalar datos\n",
        "    ('logreg', LogisticRegression())       # Modelo\n",
        "])\n",
        "\n",
        "# Entrenar\n",
        "pipeline.fit(X_train, y_train)\n",
        "\n",
        "# Predecir\n",
        "y_pred = pipeline.predict(X_test)\n",
        "\n",
        "# Reporte de clasificación\n",
        "print(classification_report(y_test, y_pred))\n",
        "\n",
        "# Para obtener coeficientes (del modelo dentro del pipeline)\n",
        "coeficientes = pipeline.named_steps['logreg'].coef_[0]\n",
        "\n",
        "# Mostrar coeficientes con nombres de columnas si X es DataFrame\n",
        "for feature, coef in zip(X.columns, coeficientes):\n",
        "    print(f\"{feature}: {coef:.4f}\")\n"
      ],
      "metadata": {
        "id": "F_1wBm_jrXrh"
      },
      "execution_count": null,
      "outputs": []
    },
    {
      "cell_type": "markdown",
      "source": [
        "Interpretación y conclusiones:\n",
        "\n",
        "Estos coeficientes y métricas nos permiten sacar conclusiones claves:\n",
        "\n",
        "Interpretación de métricas de evaluación (Logistic Regression)\n",
        "Accuracy ~ 81%: buen porcentaje de aciertos globales.\n",
        "\n",
        "Precisión y Recall para clase 1 (churn=1) son más bajos (0.67 y 0.54), indica que el modelo detecta sólo algo más de la mitad de los casos reales de cancelación, y que el 33% de las predicciones positivas son falsas alarmas.\n",
        "\n",
        "El F1-score para clase 1 es 0.59, balanceando precisión y recall.\n",
        "\n",
        "Interpretación de coeficientes\n",
        "Coeficientes positivos indican aumento de probabilidad de churn (clase 1).\n",
        "\n",
        "Coeficientes negativos indican reducción de probabilidad de churn.\n",
        "\n",
        "Ejemplos de variables con impacto relevante:\n",
        "Variable\tCoeficiente\tInterpretación\n",
        "customer.tenure\t-1.3954\tMás tiempo como cliente reduce churn.\n",
        "account.Charges.Total\t0.6522\tMás cargos totales aumentan churn.\n",
        "internet.InternetService_Fiber optic\t0.6029\tTener fibra óptica aumenta churn.\n",
        "account.Contract_Two year\t-0.6505\tContrato a 2 años reduce churn.\n",
        "account.Contract_One year\t-0.2929\tContrato a 1 año también reduce churn.\n",
        "account.PaperlessBilling\t0.1442\tFacturación sin papel aumenta churn."
      ],
      "metadata": {
        "id": "gcyZJ06grqj8"
      }
    },
    {
      "cell_type": "code",
      "source": [
        "Conclusiones rápidas:\n",
        "\n",
        "Clientes con contratos más largos tienden a quedarse (coef negativos grandes).\n",
        "\n",
        "Clientes con fibra óptica y mayores cargos tienden a irse.\n",
        "\n",
        "Tiempo como cliente es el factor con mayor influencia protectora (coef muy negativo).\n",
        "\n",
        "Algunas variables binarias relacionadas a servicios específicos (ej. streaming, soporte) tienen coeficientes menores pero con sentido."
      ],
      "metadata": {
        "id": "0KNYr40Kr5Ls"
      },
      "execution_count": null,
      "outputs": []
    },
    {
      "cell_type": "code",
      "source": [
        "import pandas as pd\n",
        "import matplotlib.pyplot as plt\n",
        "\n",
        "# Asumiendo que 'best_rf' es tu Random Forest ya entrenado (el mejor modelo tras GridSearchCV)\n",
        "\n",
        "# Obtener importancia de características\n",
        "importancias = best_rf.feature_importances_\n",
        "\n",
        "# Crear DataFrame para mejor visualización\n",
        "df_importancias = pd.DataFrame({\n",
        "    'Característica': X_train.columns,\n",
        "    'Importancia': importancias\n",
        "})\n",
        "\n",
        "# Ordenar por importancia descendente\n",
        "df_importancias = df_importancias.sort_values(by='Importancia', ascending=False)\n",
        "\n",
        "# Mostrar las 10 características más importantes\n",
        "print(df_importancias.head(10))\n",
        "\n",
        "# Gráfico de barras\n",
        "plt.figure(figsize=(10,6))\n",
        "plt.barh(df_importancias['Característica'].head(10)[::-1], df_importancias['Importancia'].head(10)[::-1])\n",
        "plt.xlabel('Importancia')\n",
        "plt.title('Top 10 Características según Random Forest')\n",
        "plt.show()\n"
      ],
      "metadata": {
        "id": "8src2WhzsPci"
      },
      "execution_count": null,
      "outputs": []
    },
    {
      "cell_type": "markdown",
      "source": [
        "Resultados de importancia de variables para el modelo Random Forest.\n",
        "\n",
        "Interpretación rápida:\n",
        "\n",
        "customer.tenure (Tiempo con la empresa) es la variable más importante, lo que indica que cuánto tiempo un cliente lleva con la empresa es un factor clave para predecir la cancelación (churn).\n",
        "\n",
        "account.Charges.Total y account.Charges.Monthly también son muy relevantes, lo que tiene sentido porque cuánto paga el cliente influye en su probabilidad de quedarse o irse.\n",
        "\n",
        "Cuentas_Diarias (quizás uso o cantidad de cuentas diarias) tiene un peso significativo.\n",
        "\n",
        "Variables relacionadas con servicios de internet (como fibra óptica) y contratos anuales (account.Contract_Two year) también influyen notablemente.\n",
        "\n",
        "Los métodos de pago y algunos servicios adicionales (como soporte técnico) tienen importancia menor pero relevante."
      ],
      "metadata": {
        "id": "5ruuu-Xwsefw"
      }
    },
    {
      "cell_type": "code",
      "source": [
        "import pandas as pd\n",
        "import numpy as np\n",
        "\n",
        "# Suponiendo que tu modelo SVM lineal está entrenado y se llama modelo_svm\n",
        "# Y que X_train es tu DataFrame con columnas originales\n",
        "\n",
        "coef_svm = modelo_svm.coef_[0]  # Coeficientes del modelo para la primera clase (binario)\n",
        "\n",
        "df_coef_svm = pd.DataFrame({\n",
        "    'Característica': X_train.columns,\n",
        "    'Coeficiente': coef_svm\n",
        "})\n",
        "\n",
        "# Ordenar por valor absoluto para ver los más influyentes\n",
        "df_coef_svm['Importancia_abs'] = df_coef_svm['Coeficiente'].abs()\n",
        "df_coef_svm = df_coef_svm.sort_values(by='Importancia_abs', ascending=False).drop(columns='Importancia_abs')\n",
        "\n",
        "print(df_coef_svm)\n"
      ],
      "metadata": {
        "id": "BqI3WQ5OseHY"
      },
      "execution_count": null,
      "outputs": []
    },
    {
      "cell_type": "markdown",
      "source": [
        "La importancia de variables para el modelo SVM lineal.\n",
        "\n",
        "Para resumir y comparar con los otros modelos:\n",
        "\n",
        "Variables con coeficientes grandes (en valor absoluto) como customer.tenure, internet.InternetService_Fiber optic y account.Charges.Total son las más influyentes para predecir churn.\n",
        "\n",
        "Coeficientes negativos indican que esas variables reducen la probabilidad de churn.\n",
        "\n",
        "Coeficientes positivos aumentan la probabilidad."
      ],
      "metadata": {
        "id": "n1dpfPj_tP_c"
      }
    },
    {
      "cell_type": "code",
      "source": [
        "pip install shap\n"
      ],
      "metadata": {
        "id": "el_nOdMVt2-R"
      },
      "execution_count": null,
      "outputs": []
    },
    {
      "cell_type": "code",
      "source": [
        "import shap\n",
        "import numpy as np\n",
        "import pandas as pd\n",
        "from sklearn.neighbors import KNeighborsClassifier\n",
        "\n",
        "# Asumiendo que ya tienes X_train, y_train, X_test, y_test y el modelo entrenado (knn_model)\n",
        "\n",
        "# Ejemplo: entrenar KNN si no lo tienes aún\n",
        "knn_model = KNeighborsClassifier(n_neighbors=5)\n",
        "knn_model.fit(X_train, y_train)\n",
        "\n",
        "# Crear el explicador KernelExplainer para modelos que no son árboles ni lineales\n",
        "explainer = shap.KernelExplainer(knn_model.predict_proba, shap.sample(X_train, 100))\n",
        "\n",
        "# Elegimos algunas muestras de prueba para explicar\n",
        "X_sample = shap.sample(X_test, 10)\n",
        "\n",
        "# Calculamos los valores SHAP\n",
        "shap_values = explainer.shap_values(X_sample)\n",
        "\n",
        "# Visualización resumen para la clase 1 (por ejemplo, \"Churn\")\n",
        "shap.summary_plot(shap_values[1], X_sample, feature_names=X_train.columns)\n"
      ],
      "metadata": {
        "id": "VNo6PzvVt8UW"
      },
      "execution_count": null,
      "outputs": []
    },
    {
      "cell_type": "code",
      "source": [
        "import shap\n",
        "import numpy as np\n",
        "import pandas as pd\n",
        "from sklearn.neighbors import KNeighborsClassifier\n",
        "\n",
        "# Entrena el modelo KNN si no lo tienes\n",
        "knn_model = KNeighborsClassifier(n_neighbors=5)\n",
        "knn_model.fit(X_train, y_train)\n",
        "\n",
        "# Crear el explicador KernelExplainer\n",
        "explainer = shap.KernelExplainer(knn_model.predict_proba, shap.sample(X_train, 100))\n",
        "\n",
        "# Selecciona una muestra pequeña para explicar\n",
        "X_sample = shap.sample(X_test, 10)\n",
        "\n",
        "# Calcular valores SHAP (devuelve lista de arrays, uno por clase)\n",
        "shap_values = explainer.shap_values(X_sample)\n",
        "\n",
        "# shap_values es una lista con un array por clase; por ejemplo para clase 1:\n",
        "shap_class1 = shap_values[1]\n",
        "\n",
        "# Verifica las dimensiones\n",
        "print(\"X_sample shape:\", X_sample.shape)\n",
        "print(\"shap_class1 shape:\", shap_class1.shape)\n",
        "\n",
        "# Para KernelExplainer a veces es necesario pasar los datos como numpy array:\n",
        "shap.summary_plot(shap_class1, X_sample.values, feature_names=X_train.columns)\n"
      ],
      "metadata": {
        "id": "z0CJB8QxujOu"
      },
      "execution_count": null,
      "outputs": []
    },
    {
      "cell_type": "markdown",
      "source": [
        "Perfecto, el error queda claro con las shapes:\n",
        "\n",
        "X_sample tiene shape (10, 31) → 10 instancias, 31 features.\n",
        "\n",
        "shap_class1 tiene shape (31, 2) → esto no corresponde.\n",
        "\n",
        "Eso indica que shap_values[1] no es un array de shap values para las instancias, sino que probablemente sea algo diferente o transpuesto.\n",
        "\n",
        "Cuando usas KernelExplainer con un modelo multi-clase, explainer.shap_values(X) devuelve una lista con un array para cada clase, donde cada array es shape (num_samples, num_features).\n",
        "\n",
        "Aquí parece que los tienes invertidos o mal asignados."
      ],
      "metadata": {
        "id": "HBPGQkZhvM8e"
      }
    },
    {
      "cell_type": "code",
      "source": [
        "print(type(shap_values))       # debería ser list\n",
        "print(len(shap_values))        # número de clases (por ejemplo 2)\n",
        "print(shap_values[0].shape)    # shape del array para clase 0\n",
        "print(shap_values[1].shape)    # shape del array para clase 1\n"
      ],
      "metadata": {
        "id": "CVv-zVHKvQto"
      },
      "execution_count": null,
      "outputs": []
    },
    {
      "cell_type": "code",
      "source": [
        "shap_values = explainer.shap_values(X_sample)\n",
        "print(type(shap_values))  # debería ser list (si multiclass) o ndarray (si binario)\n",
        "print(len(shap_values))   # si multiclass, número de clases\n",
        "print(shap_values[0].shape)  # (10, 31) por ejemplo para clase 0\n",
        "print(shap_values[1].shape)  # (10, 31) para clase 1\n"
      ],
      "metadata": {
        "id": "97Vk6EKFvksf"
      },
      "execution_count": null,
      "outputs": []
    },
    {
      "cell_type": "code",
      "source": [
        "shap.summary_plot(shap_values[1], X_sample, feature_names=X_train.columns)\n"
      ],
      "metadata": {
        "id": "SysRjuX3wZTh"
      },
      "execution_count": null,
      "outputs": []
    },
    {
      "cell_type": "code",
      "source": [
        "print(\"Shape de shap_values[1]:\", shap_values[1].shape)\n",
        "print(\"Shape de X_sample:\", X_sample.shape)\n",
        "print(\"Columnas X_sample:\", X_sample.columns)\n",
        "print(\"Columnas X_train:\", X_train.columns)\n"
      ],
      "metadata": {
        "id": "tHh7dSvrw3mp"
      },
      "execution_count": null,
      "outputs": []
    },
    {
      "cell_type": "code",
      "source": [
        "# Supongamos que ya tienes definido el explainer (TreeExplainer para RandomForest o KernelExplainer)\n",
        "# Asegúrate que explainer esté definido para el modelo entrenado\n",
        "\n",
        "# Calcular shap_values para X_sample (las 10 muestras que quieres analizar)\n",
        "shap_values = explainer.shap_values(X_sample)\n",
        "\n",
        "# Verifica la forma para clase 1\n",
        "print(\"Shape shap_values[1]:\", shap_values[1].shape)  # Debe ser (10, 31)\n",
        "\n",
        "# Ahora puedes graficar sin error:\n",
        "shap.summary_plot(shap_values[1], X_sample, feature_names=X_sample.columns)\n"
      ],
      "metadata": {
        "id": "JvoOSlqnxKFS"
      },
      "execution_count": null,
      "outputs": []
    },
    {
      "cell_type": "code",
      "source": [
        "shap_values = explainer.shap_values(X_sample)  # sin .T\n",
        "print(shap_values[1].shape)  # debe salir (10, 31)\n",
        "\n",
        "shap.summary_plot(shap_values[1], X_sample, feature_names=X_sample.columns)\n"
      ],
      "metadata": {
        "id": "i9hC9yRMxyTM"
      },
      "execution_count": null,
      "outputs": []
    },
    {
      "cell_type": "code",
      "source": [
        "print(\"X_sample shape:\", X_sample.shape)\n"
      ],
      "metadata": {
        "id": "35coCEXlyYSV"
      },
      "execution_count": null,
      "outputs": []
    },
    {
      "cell_type": "code",
      "source": [
        "shap_values = explainer.shap_values(X_sample)  # NO usar X_sample.T\n",
        "print(\"shap_values[1] shape:\", shap_values[1].shape)\n"
      ],
      "metadata": {
        "id": "9sIMtJ9vyk7I"
      },
      "execution_count": null,
      "outputs": []
    },
    {
      "cell_type": "code",
      "source": [
        "import shap\n",
        "from sklearn.neighbors import KNeighborsClassifier\n",
        "\n",
        "# Suponiendo que ya tienes:\n",
        "# X_train, y_train, X_test, y_test\n",
        "# Entrenamos el modelo KNN\n",
        "knn = KNeighborsClassifier(n_neighbors=5)\n",
        "knn.fit(X_train, y_train)\n",
        "\n",
        "# Creamos el explainer para KNN (KernelExplainer funciona para cualquier modelo)\n",
        "explainer = shap.KernelExplainer(knn.predict_proba, shap.sample(X_train, 100))\n",
        "\n",
        "# Calculamos los valores SHAP para un subconjunto de datos\n",
        "X_sample = shap.sample(X_test, 10)  # ejemplo con 10 muestras para visualización\n",
        "shap_values = explainer.shap_values(X_sample)\n",
        "\n",
        "# Visualizamos el resumen de SHAP para la clase 1 (por ejemplo, Churn = 1)\n",
        "shap.summary_plot(shap_values[1], X_sample, feature_names=X_train.columns)\n"
      ],
      "metadata": {
        "id": "DoP4U6UMzvKy"
      },
      "execution_count": null,
      "outputs": []
    },
    {
      "cell_type": "code",
      "source": [
        "print(f\"X_sample shape: {X_sample.shape}\")\n",
        "print(f\"shap_values[0] shape: {shap_values[0].shape}\")\n",
        "print(f\"shap_values[1] shape: {shap_values[1].shape}\")\n"
      ],
      "metadata": {
        "id": "YGkw0f690tkK"
      },
      "execution_count": null,
      "outputs": []
    },
    {
      "cell_type": "code",
      "source": [
        "print(type(shap_values))\n",
        "print(len(shap_values))\n",
        "print(shap_values[0].shape)\n",
        "print(shap_values[1].shape)\n"
      ],
      "metadata": {
        "id": "5RnvLqtS0_Oo"
      },
      "execution_count": null,
      "outputs": []
    },
    {
      "cell_type": "code",
      "source": [
        "import shap\n",
        "\n",
        "# Explicador con KernelExplainer (ejemplo, con función predict_proba)\n",
        "explainer = shap.KernelExplainer(modelo_knn.predict_proba, shap.sample(X_train, 100))\n",
        "\n",
        "# Calcula valores SHAP para X_sample (10 filas)\n",
        "shap_values = explainer.shap_values(X_sample)\n",
        "\n",
        "print(type(shap_values))  # debería ser list o ndarray\n",
        "print(len(shap_values))   # 2 para clasificación binaria\n",
        "print(shap_values[0].shape)  # (10, 31)\n",
        "print(shap_values[1].shape)  # (10, 31)\n",
        "\n",
        "# Ahora sí puedes graficar sin problema:\n",
        "shap.summary_plot(shap_values[1], X_sample)\n"
      ],
      "metadata": {
        "id": "BV1Afy_U1V6l"
      },
      "execution_count": null,
      "outputs": []
    },
    {
      "cell_type": "code",
      "source": [
        "from sklearn.neighbors import KNeighborsClassifier\n",
        "\n",
        "# Entrenar modelo KNN (ejemplo)\n",
        "modelo_knn = KNeighborsClassifier(n_neighbors=5)\n",
        "modelo_knn.fit(X_train, y_train)\n"
      ],
      "metadata": {
        "id": "WfelmGDV1ll8"
      },
      "execution_count": null,
      "outputs": []
    },
    {
      "cell_type": "code",
      "source": [
        "import shap\n",
        "\n",
        "# Selecciona una muestra representativa para KernelExplainer (por ejemplo 100 filas de entrenamiento)\n",
        "X_train_sample = shap.sample(X_train, 100, random_state=42)\n",
        "\n",
        "# Crear explicador con la función predict_proba del modelo KNN\n",
        "explainer = shap.KernelExplainer(modelo_knn.predict_proba, X_train_sample)\n",
        "\n",
        "# Seleccionar algunos ejemplos para explicar (por ejemplo 10 filas del test)\n",
        "X_sample = X_test.sample(10, random_state=42)\n",
        "\n",
        "# Calcular valores SHAP para la clase positiva (Churn=1)\n",
        "shap_values = explainer.shap_values(X_sample)\n",
        "\n",
        "# Graficar resumen (beeswarm) para la clase 1\n",
        "shap.summary_plot(shap_values[1], X_sample)\n"
      ],
      "metadata": {
        "id": "EPdHD6v212i3"
      },
      "execution_count": null,
      "outputs": []
    },
    {
      "cell_type": "code",
      "source": [
        "shap_values = explainer.shap_values(X_sample)\n"
      ],
      "metadata": {
        "id": "YYSBpQQk2yuw"
      },
      "execution_count": null,
      "outputs": []
    },
    {
      "cell_type": "code",
      "source": [
        "print(\"X_sample shape:\", X_sample.shape)  # debe ser (10, número de características)\n",
        "print(\"shap_values[1] shape:\", shap_values[1].shape)  # debe ser (10, número de características)\n"
      ],
      "metadata": {
        "id": "_fbT5Z233X_i"
      },
      "execution_count": null,
      "outputs": []
    },
    {
      "cell_type": "code",
      "source": [
        "import shap\n",
        "import numpy as np\n",
        "\n",
        "# Background sample (por ejemplo 100 muestras)\n",
        "background = shap.sample(X_train, 100)\n",
        "\n",
        "explainer = shap.KernelExplainer(modelo_knn.predict_proba, background)\n",
        "\n",
        "# Calcula shap values para X_sample\n",
        "shap_values = explainer.shap_values(X_sample)\n",
        "\n",
        "print(\"X_sample shape:\", X_sample.shape)\n",
        "print(\"shap_values[1] shape:\", shap_values[1].shape)  # Esto debe ser (10, 31)\n"
      ],
      "metadata": {
        "id": "zpiRi6PD3oU1"
      },
      "execution_count": null,
      "outputs": []
    },
    {
      "cell_type": "code",
      "source": [
        "def model_predict_proba_pos(X):\n",
        "    return modelo_knn.predict_proba(X)[:, 1]  # Probabilidad clase 1\n",
        "\n",
        "explainer = shap.KernelExplainer(model_predict_proba_pos, shap.sample(X_train, 100))\n",
        "\n",
        "shap_values = explainer.shap_values(X_sample)  # Esto debe devolver un array (10, 31)\n",
        "\n",
        "print(\"shap_values shape:\", shap_values.shape)  # Debe ser (10, 31)\n",
        "\n",
        "shap.summary_plot(shap_values, X_sample)"
      ],
      "metadata": {
        "id": "EWXTDgmg4QfI"
      },
      "execution_count": null,
      "outputs": []
    },
    {
      "cell_type": "markdown",
      "source": [
        "El gráfico es un summary plot de SHAP, que muestra el impacto de cada variable en las predicciones del modelo (en este caso, del KNN con Kernel SHAP).\n",
        "\n",
        "Cómo interpretar este gráfico SHAP:\n",
        "Cada punto representa una observación (una fila de datos).\n",
        "\n",
        "El eje horizontal muestra el valor SHAP (contribución a la predicción): a la derecha aumenta la probabilidad de la clase positiva, a la izquierda la disminuye.\n",
        "\n",
        "El color indica el valor de la característica (rojo alto, azul bajo).\n",
        "\n",
        "Las características están ordenadas de arriba hacia abajo según su importancia media (promedio del valor absoluto SHAP).\n",
        "\n",
        "Por ejemplo:\n",
        "\n",
        "internet.InternetService_Fiber optic tiene un alto impacto positivo cuando es alto (puntos rojos a la derecha).\n",
        "\n",
        "customer.tenure tiene valores altos que generalmente disminuyen la probabilidad (puntos rojos a la izquierda).\n",
        "\n",
        "Otras variables como account.Contract_One year o account.PaymentMethod_Electronic check también contribuyen."
      ],
      "metadata": {
        "id": "raojFsPe5Fuj"
      }
    },
    {
      "cell_type": "markdown",
      "source": [
        "Este gráfico es un resumen típico de valores SHAP (SHapley Additive exPlanations), que muestra la importancia y el impacto de distintas características (features) en la predicción de un modelo de machine learning.\n",
        "\n",
        "Aquí te dejo una interpretación general y algunas conclusiones que se pueden sacar del gráfico:\n",
        "\n",
        "Eje Y: Enumera las características del modelo (por ejemplo, tipo de servicio de internet, duración del cliente, método de pago, etc.).\n",
        "\n",
        "Eje X: Muestra el valor SHAP, que representa el impacto que tiene cada característica en la predicción del modelo para una observación individual. Valores positivos indican que la característica aumenta la probabilidad de un resultado (por ejemplo, que el cliente se quede o no se quede), y valores negativos indican lo contrario.\n",
        "\n",
        "Colores: Indican el valor de la característica en sí misma (Feature value). Azul representa valores bajos y rojo valores altos de la característica.\n",
        "\n",
        "Conclusiones del gráfico:\n",
        "internet.InternetService_Fiber optic: Esta característica tiene un gran impacto en la predicción. Valores altos (puntos rojos) tienden a aumentar la predicción (valor SHAP positivo), mientras que valores bajos (azul) tienden a disminuirla.\n",
        "\n",
        "customer.tenure (antigüedad del cliente): Generalmente, a mayor tiempo con la empresa (rojo), mayor el impacto positivo en la predicción, sugiriendo que clientes con más antigüedad tienden a un resultado específico (probablemente que se queden).\n",
        "\n",
        "account.Contract_One year: Tener un contrato de un año afecta la predicción de forma negativa o positiva dependiendo del caso, pero se observa un impacto relevante.\n",
        "\n",
        "account.PaymentMethod_Electronic check: Este método de pago parece influir negativamente en la predicción (los puntos rojos están más hacia valores negativos).\n",
        "\n",
        "Otras características como internet.OnlineSecurity_Yes y account.PaperlessBilling tienen impactos variados pero menos fuertes.\n",
        "\n",
        "En resumen:\n",
        "Las características relacionadas con el tipo de servicio de internet (especialmente fibra óptica), la antigüedad del cliente, el tipo de contrato y el método de pago son las que más impactan la predicción del modelo.\n",
        "\n",
        "Valores altos o bajos de estas características pueden aumentar o disminuir la probabilidad del resultado modelado (como la permanencia o abandono de un cliente).\n",
        "\n",
        "El gráfico ayuda a entender qué factores son más influyentes y cómo los valores específicos de cada factor afectan el resultado."
      ],
      "metadata": {
        "id": "YTNqa5Zu5wlF"
      }
    },
    {
      "cell_type": "markdown",
      "source": [
        "Este gráfico es un resumen típico de valores SHAP (SHapley Additive exPlanations), que muestra la importancia y el impacto de distintas características (features) en la predicción de un modelo de machine learning.\n",
        "\n",
        "Aquí te dejo una interpretación general y algunas conclusiones que se pueden sacar del gráfico:\n",
        "\n",
        "Eje Y: Enumera las características del modelo (por ejemplo, tipo de servicio de internet, duración del cliente, método de pago, etc.).\n",
        "\n",
        "Eje X: Muestra el valor SHAP, que representa el impacto que tiene cada característica en la predicción del modelo para una observación individual. Valores positivos indican que la característica aumenta la probabilidad de un resultado (por ejemplo, que el cliente se quede o no se quede), y valores negativos indican lo contrario.\n",
        "\n",
        "Colores: Indican el valor de la característica en sí misma (Feature value). Azul representa valores bajos y rojo valores altos de la característica.\n",
        "\n",
        "Conclusiones del gráfico:\n",
        "internet.InternetService_Fiber optic: Esta característica tiene un gran impacto en la predicción. Valores altos (puntos rojos) tienden a aumentar la predicción (valor SHAP positivo), mientras que valores bajos (azul) tienden a disminuirla.\n",
        "\n",
        "customer.tenure (antigüedad del cliente): Generalmente, a mayor tiempo con la empresa (rojo), mayor el impacto positivo en la predicción, sugiriendo que clientes con más antigüedad tienden a un resultado específico (probablemente que se queden).\n",
        "\n",
        "account.Contract_One year: Tener un contrato de un año afecta la predicción de forma negativa o positiva dependiendo del caso, pero se observa un impacto relevante.\n",
        "\n",
        "account.PaymentMethod_Electronic check: Este método de pago parece influir negativamente en la predicción (los puntos rojos están más hacia valores negativos).\n",
        "\n",
        "Otras características como internet.OnlineSecurity_Yes y account.PaperlessBilling tienen impactos variados pero menos fuertes.\n",
        "\n",
        "En resumen:\n",
        "Las características relacionadas con el tipo de servicio de internet (especialmente fibra óptica), la antigüedad del cliente, el tipo de contrato y el método de pago son las que más impactan la predicción del modelo.\n",
        "\n",
        "Valores altos o bajos de estas características pueden aumentar o disminuir la probabilidad del resultado modelado (como la permanencia o abandono de un cliente).\n",
        "\n",
        "El gráfico ayuda a entender qué factores son más influyentes y cómo los valores específicos de cada factor afectan el resultado.\n",
        "\n",
        "Si quieres, puedo ayudarte a interpretar el contexto específico si me dices qué predice este modelo. ¿Es por ejemplo la probabilidad de que un cliente cancele el servicio?\n",
        "\n",
        "\n",
        "\n",
        "\n",
        "\n",
        "\n",
        "\n",
        "\n",
        "ChatGPT Plus\n",
        "Ese gráfico es un resumen de valores SHAP, que muestran qué tan importantes son las variables para el modelo y si empujan la predicción hacia arriba o hacia abajo.\n",
        "\n",
        "Eje Y: lista las variables (servicio de internet, antigüedad, tipo de contrato, método de pago, etc.).\n",
        "\n",
        "Eje X: valor SHAP → impacto de esa variable en la predicción; a la derecha sube la probabilidad del resultado, a la izquierda la baja.\n",
        "\n",
        "Color: indica si el valor de la variable es alto (rojo) o bajo (azul).\n",
        "\n",
        "Lo que se ve:\n",
        "\n",
        "InternetService_Fiber optic es muy influyente: tener fibra (rojo) suele empujar la predicción en una dirección, no tenerla (azul) en la opuesta.\n",
        "\n",
        "Tenure (antigüedad) alto (rojo) tiende a empujar hacia un resultado y bajo (azul) hacia otro.\n",
        "\n",
        "Contract_One year y Contract_Two year también afectan bastante: contratos más largos tienden a un efecto distinto a los cortos.\n",
        "\n",
        "PaymentMethod_Electronic check en valores altos parece asociarse con un impacto negativo.\n",
        "\n",
        "Variables como seguridad online, facturación electrónica o si tiene pareja influyen pero menos.\n",
        "\n",
        "En síntesis: el modelo se apoya mucho en el tipo de servicio de internet, la antigüedad del cliente, el tipo de contrato y el método de pago para tomar su decisión."
      ],
      "metadata": {
        "id": "w5CcQrgtZY16"
      }
    },
    {
      "cell_type": "markdown",
      "source": [
        "Conclusiones finales: Factores más influyentes en la cancelación\n",
        "InternetService_Fiber optic\n",
        "\n",
        "Los clientes con fibra óptica (puntos rojos) muestran un fuerte impacto positivo en la probabilidad de cancelación.\n",
        "\n",
        "Posible causa: precios más altos, problemas de servicio o expectativas no cumplidas.\n",
        "\n",
        "Customer.tenure (antigüedad)\n",
        "\n",
        "Clientes nuevos (tenure bajo, azul) tienen mayor riesgo de cancelar; los antiguos (rojo) tienden a quedarse.\n",
        "\n",
        "Esto indica que el primer periodo del contrato es crítico para fidelizar.\n",
        "\n",
        "PaymentMethod_Electronic check\n",
        "\n",
        "Quienes pagan con cheque electrónico muestran mayor tendencia a cancelar.\n",
        "\n",
        "Podría asociarse a menor fidelidad, problemas con el medio de pago o clientes menos vinculados digitalmente.\n",
        "\n",
        "Contract_One year\n",
        "\n",
        "Contratos cortos muestran mayor asociación con cancelación; contratos más largos amortiguan el riesgo.\n",
        "\n",
        "OnlineSecurity, OnlineBackup y TechSupport (en “Yes”)\n",
        "\n",
        "Los clientes que cuentan con estos servicios tienden a cancelar menos, sugiriendo que servicios de valor agregado ayudan a retener.\n",
        "\n",
        "Propuestas para reducir cancelaciones\n",
        "Ofertas y retención proactiva para clientes con fibra óptica\n",
        "\n",
        "Revisar estructura de precios y calidad del servicio.\n",
        "\n",
        "Programas de seguimiento post-venta para detectar problemas tempranos.\n",
        "\n",
        "Programa de fidelización para clientes nuevos\n",
        "\n",
        "Contacto directo durante los primeros 3–6 meses.\n",
        "\n",
        "Bonos o descuentos por permanencia inicial.\n",
        "\n",
        "Migrar clientes con pago por cheque electrónico a medios más estables\n",
        "\n",
        "Incentivos para pasarse a pago automático o tarjeta (descuentos o puntos extra).\n",
        "\n",
        "Fomentar contratos más largos\n",
        "\n",
        "Promociones que premien el compromiso de 2 años.\n",
        "\n",
        "Ofertas de paquetes con descuentos acumulativos.\n",
        "\n",
        "Incrementar servicios complementarios de valor\n",
        "\n",
        "Incluir seguridad online básica gratis el primer año.\n",
        "\n",
        "Promocionar almacenamiento en la nube y soporte técnico como beneficios diferenciales."
      ],
      "metadata": {
        "id": "W4VQyiouZ0Ty"
      }
    },
    {
      "cell_type": "markdown",
      "source": [],
      "metadata": {
        "id": "w0MdYU-zZYzU"
      }
    }
  ]
}