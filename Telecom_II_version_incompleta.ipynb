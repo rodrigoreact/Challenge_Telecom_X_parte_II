{
  "nbformat": 4,
  "nbformat_minor": 0,
  "metadata": {
    "colab": {
      "provenance": []
    },
    "kernelspec": {
      "name": "python3",
      "display_name": "Python 3"
    },
    "language_info": {
      "name": "python"
    }
  },
  "cells": [
    {
      "cell_type": "code",
      "execution_count": 7,
      "metadata": {
        "colab": {
          "base_uri": "https://localhost:8080/",
          "height": 325
        },
        "id": "MgvEDpclRyZZ",
        "outputId": "6558f6ec-fe02-4672-86b5-da183352a675"
      },
      "outputs": [
        {
          "output_type": "execute_result",
          "data": {
            "text/plain": [
              "   customerID Churn customer.gender  customer.SeniorCitizen customer.Partner  \\\n",
              "0  0002-ORFBO    No          Female                       0              Yes   \n",
              "1  0003-MKNFE    No            Male                       0               No   \n",
              "2  0004-TLHLJ   Yes            Male                       0               No   \n",
              "3  0011-IGKFF   Yes            Male                       1              Yes   \n",
              "4  0013-EXCHZ   Yes          Female                       1              Yes   \n",
              "\n",
              "  customer.Dependents  customer.tenure phone.PhoneService phone.MultipleLines  \\\n",
              "0                 Yes                9                Yes                  No   \n",
              "1                  No                9                Yes                 Yes   \n",
              "2                  No                4                Yes                  No   \n",
              "3                  No               13                Yes                  No   \n",
              "4                  No                3                Yes                  No   \n",
              "\n",
              "  internet.InternetService  ... internet.DeviceProtection  \\\n",
              "0                      DSL  ...                        No   \n",
              "1                      DSL  ...                        No   \n",
              "2              Fiber optic  ...                       Yes   \n",
              "3              Fiber optic  ...                       Yes   \n",
              "4              Fiber optic  ...                        No   \n",
              "\n",
              "  internet.TechSupport internet.StreamingTV internet.StreamingMovies  \\\n",
              "0                  Yes                  Yes                       No   \n",
              "1                   No                   No                      Yes   \n",
              "2                   No                   No                       No   \n",
              "3                   No                  Yes                      Yes   \n",
              "4                  Yes                  Yes                       No   \n",
              "\n",
              "  account.Contract account.PaperlessBilling account.PaymentMethod  \\\n",
              "0         One year                      Yes          Mailed check   \n",
              "1   Month-to-month                       No          Mailed check   \n",
              "2   Month-to-month                      Yes      Electronic check   \n",
              "3   Month-to-month                      Yes      Electronic check   \n",
              "4   Month-to-month                      Yes          Mailed check   \n",
              "\n",
              "  account.Charges.Monthly account.Charges.Total  Cuentas_Diarias  \n",
              "0                    65.6                593.30         2.186667  \n",
              "1                    59.9                542.40         1.996667  \n",
              "2                    73.9                280.85         2.463333  \n",
              "3                    98.0               1237.85         3.266667  \n",
              "4                    83.9                267.40         2.796667  \n",
              "\n",
              "[5 rows x 22 columns]"
            ],
            "text/html": [
              "\n",
              "  <div id=\"df-81e95c5b-c820-4a52-90d0-a95ad216747b\" class=\"colab-df-container\">\n",
              "    <div>\n",
              "<style scoped>\n",
              "    .dataframe tbody tr th:only-of-type {\n",
              "        vertical-align: middle;\n",
              "    }\n",
              "\n",
              "    .dataframe tbody tr th {\n",
              "        vertical-align: top;\n",
              "    }\n",
              "\n",
              "    .dataframe thead th {\n",
              "        text-align: right;\n",
              "    }\n",
              "</style>\n",
              "<table border=\"1\" class=\"dataframe\">\n",
              "  <thead>\n",
              "    <tr style=\"text-align: right;\">\n",
              "      <th></th>\n",
              "      <th>customerID</th>\n",
              "      <th>Churn</th>\n",
              "      <th>customer.gender</th>\n",
              "      <th>customer.SeniorCitizen</th>\n",
              "      <th>customer.Partner</th>\n",
              "      <th>customer.Dependents</th>\n",
              "      <th>customer.tenure</th>\n",
              "      <th>phone.PhoneService</th>\n",
              "      <th>phone.MultipleLines</th>\n",
              "      <th>internet.InternetService</th>\n",
              "      <th>...</th>\n",
              "      <th>internet.DeviceProtection</th>\n",
              "      <th>internet.TechSupport</th>\n",
              "      <th>internet.StreamingTV</th>\n",
              "      <th>internet.StreamingMovies</th>\n",
              "      <th>account.Contract</th>\n",
              "      <th>account.PaperlessBilling</th>\n",
              "      <th>account.PaymentMethod</th>\n",
              "      <th>account.Charges.Monthly</th>\n",
              "      <th>account.Charges.Total</th>\n",
              "      <th>Cuentas_Diarias</th>\n",
              "    </tr>\n",
              "  </thead>\n",
              "  <tbody>\n",
              "    <tr>\n",
              "      <th>0</th>\n",
              "      <td>0002-ORFBO</td>\n",
              "      <td>No</td>\n",
              "      <td>Female</td>\n",
              "      <td>0</td>\n",
              "      <td>Yes</td>\n",
              "      <td>Yes</td>\n",
              "      <td>9</td>\n",
              "      <td>Yes</td>\n",
              "      <td>No</td>\n",
              "      <td>DSL</td>\n",
              "      <td>...</td>\n",
              "      <td>No</td>\n",
              "      <td>Yes</td>\n",
              "      <td>Yes</td>\n",
              "      <td>No</td>\n",
              "      <td>One year</td>\n",
              "      <td>Yes</td>\n",
              "      <td>Mailed check</td>\n",
              "      <td>65.6</td>\n",
              "      <td>593.30</td>\n",
              "      <td>2.186667</td>\n",
              "    </tr>\n",
              "    <tr>\n",
              "      <th>1</th>\n",
              "      <td>0003-MKNFE</td>\n",
              "      <td>No</td>\n",
              "      <td>Male</td>\n",
              "      <td>0</td>\n",
              "      <td>No</td>\n",
              "      <td>No</td>\n",
              "      <td>9</td>\n",
              "      <td>Yes</td>\n",
              "      <td>Yes</td>\n",
              "      <td>DSL</td>\n",
              "      <td>...</td>\n",
              "      <td>No</td>\n",
              "      <td>No</td>\n",
              "      <td>No</td>\n",
              "      <td>Yes</td>\n",
              "      <td>Month-to-month</td>\n",
              "      <td>No</td>\n",
              "      <td>Mailed check</td>\n",
              "      <td>59.9</td>\n",
              "      <td>542.40</td>\n",
              "      <td>1.996667</td>\n",
              "    </tr>\n",
              "    <tr>\n",
              "      <th>2</th>\n",
              "      <td>0004-TLHLJ</td>\n",
              "      <td>Yes</td>\n",
              "      <td>Male</td>\n",
              "      <td>0</td>\n",
              "      <td>No</td>\n",
              "      <td>No</td>\n",
              "      <td>4</td>\n",
              "      <td>Yes</td>\n",
              "      <td>No</td>\n",
              "      <td>Fiber optic</td>\n",
              "      <td>...</td>\n",
              "      <td>Yes</td>\n",
              "      <td>No</td>\n",
              "      <td>No</td>\n",
              "      <td>No</td>\n",
              "      <td>Month-to-month</td>\n",
              "      <td>Yes</td>\n",
              "      <td>Electronic check</td>\n",
              "      <td>73.9</td>\n",
              "      <td>280.85</td>\n",
              "      <td>2.463333</td>\n",
              "    </tr>\n",
              "    <tr>\n",
              "      <th>3</th>\n",
              "      <td>0011-IGKFF</td>\n",
              "      <td>Yes</td>\n",
              "      <td>Male</td>\n",
              "      <td>1</td>\n",
              "      <td>Yes</td>\n",
              "      <td>No</td>\n",
              "      <td>13</td>\n",
              "      <td>Yes</td>\n",
              "      <td>No</td>\n",
              "      <td>Fiber optic</td>\n",
              "      <td>...</td>\n",
              "      <td>Yes</td>\n",
              "      <td>No</td>\n",
              "      <td>Yes</td>\n",
              "      <td>Yes</td>\n",
              "      <td>Month-to-month</td>\n",
              "      <td>Yes</td>\n",
              "      <td>Electronic check</td>\n",
              "      <td>98.0</td>\n",
              "      <td>1237.85</td>\n",
              "      <td>3.266667</td>\n",
              "    </tr>\n",
              "    <tr>\n",
              "      <th>4</th>\n",
              "      <td>0013-EXCHZ</td>\n",
              "      <td>Yes</td>\n",
              "      <td>Female</td>\n",
              "      <td>1</td>\n",
              "      <td>Yes</td>\n",
              "      <td>No</td>\n",
              "      <td>3</td>\n",
              "      <td>Yes</td>\n",
              "      <td>No</td>\n",
              "      <td>Fiber optic</td>\n",
              "      <td>...</td>\n",
              "      <td>No</td>\n",
              "      <td>Yes</td>\n",
              "      <td>Yes</td>\n",
              "      <td>No</td>\n",
              "      <td>Month-to-month</td>\n",
              "      <td>Yes</td>\n",
              "      <td>Mailed check</td>\n",
              "      <td>83.9</td>\n",
              "      <td>267.40</td>\n",
              "      <td>2.796667</td>\n",
              "    </tr>\n",
              "  </tbody>\n",
              "</table>\n",
              "<p>5 rows × 22 columns</p>\n",
              "</div>\n",
              "    <div class=\"colab-df-buttons\">\n",
              "\n",
              "  <div class=\"colab-df-container\">\n",
              "    <button class=\"colab-df-convert\" onclick=\"convertToInteractive('df-81e95c5b-c820-4a52-90d0-a95ad216747b')\"\n",
              "            title=\"Convert this dataframe to an interactive table.\"\n",
              "            style=\"display:none;\">\n",
              "\n",
              "  <svg xmlns=\"http://www.w3.org/2000/svg\" height=\"24px\" viewBox=\"0 -960 960 960\">\n",
              "    <path d=\"M120-120v-720h720v720H120Zm60-500h600v-160H180v160Zm220 220h160v-160H400v160Zm0 220h160v-160H400v160ZM180-400h160v-160H180v160Zm440 0h160v-160H620v160ZM180-180h160v-160H180v160Zm440 0h160v-160H620v160Z\"/>\n",
              "  </svg>\n",
              "    </button>\n",
              "\n",
              "  <style>\n",
              "    .colab-df-container {\n",
              "      display:flex;\n",
              "      gap: 12px;\n",
              "    }\n",
              "\n",
              "    .colab-df-convert {\n",
              "      background-color: #E8F0FE;\n",
              "      border: none;\n",
              "      border-radius: 50%;\n",
              "      cursor: pointer;\n",
              "      display: none;\n",
              "      fill: #1967D2;\n",
              "      height: 32px;\n",
              "      padding: 0 0 0 0;\n",
              "      width: 32px;\n",
              "    }\n",
              "\n",
              "    .colab-df-convert:hover {\n",
              "      background-color: #E2EBFA;\n",
              "      box-shadow: 0px 1px 2px rgba(60, 64, 67, 0.3), 0px 1px 3px 1px rgba(60, 64, 67, 0.15);\n",
              "      fill: #174EA6;\n",
              "    }\n",
              "\n",
              "    .colab-df-buttons div {\n",
              "      margin-bottom: 4px;\n",
              "    }\n",
              "\n",
              "    [theme=dark] .colab-df-convert {\n",
              "      background-color: #3B4455;\n",
              "      fill: #D2E3FC;\n",
              "    }\n",
              "\n",
              "    [theme=dark] .colab-df-convert:hover {\n",
              "      background-color: #434B5C;\n",
              "      box-shadow: 0px 1px 3px 1px rgba(0, 0, 0, 0.15);\n",
              "      filter: drop-shadow(0px 1px 2px rgba(0, 0, 0, 0.3));\n",
              "      fill: #FFFFFF;\n",
              "    }\n",
              "  </style>\n",
              "\n",
              "    <script>\n",
              "      const buttonEl =\n",
              "        document.querySelector('#df-81e95c5b-c820-4a52-90d0-a95ad216747b button.colab-df-convert');\n",
              "      buttonEl.style.display =\n",
              "        google.colab.kernel.accessAllowed ? 'block' : 'none';\n",
              "\n",
              "      async function convertToInteractive(key) {\n",
              "        const element = document.querySelector('#df-81e95c5b-c820-4a52-90d0-a95ad216747b');\n",
              "        const dataTable =\n",
              "          await google.colab.kernel.invokeFunction('convertToInteractive',\n",
              "                                                    [key], {});\n",
              "        if (!dataTable) return;\n",
              "\n",
              "        const docLinkHtml = 'Like what you see? Visit the ' +\n",
              "          '<a target=\"_blank\" href=https://colab.research.google.com/notebooks/data_table.ipynb>data table notebook</a>'\n",
              "          + ' to learn more about interactive tables.';\n",
              "        element.innerHTML = '';\n",
              "        dataTable['output_type'] = 'display_data';\n",
              "        await google.colab.output.renderOutput(dataTable, element);\n",
              "        const docLink = document.createElement('div');\n",
              "        docLink.innerHTML = docLinkHtml;\n",
              "        element.appendChild(docLink);\n",
              "      }\n",
              "    </script>\n",
              "  </div>\n",
              "\n",
              "\n",
              "    <div id=\"df-3eba4749-750c-4dbe-ba77-e16d788ed4f2\">\n",
              "      <button class=\"colab-df-quickchart\" onclick=\"quickchart('df-3eba4749-750c-4dbe-ba77-e16d788ed4f2')\"\n",
              "                title=\"Suggest charts\"\n",
              "                style=\"display:none;\">\n",
              "\n",
              "<svg xmlns=\"http://www.w3.org/2000/svg\" height=\"24px\"viewBox=\"0 0 24 24\"\n",
              "     width=\"24px\">\n",
              "    <g>\n",
              "        <path d=\"M19 3H5c-1.1 0-2 .9-2 2v14c0 1.1.9 2 2 2h14c1.1 0 2-.9 2-2V5c0-1.1-.9-2-2-2zM9 17H7v-7h2v7zm4 0h-2V7h2v10zm4 0h-2v-4h2v4z\"/>\n",
              "    </g>\n",
              "</svg>\n",
              "      </button>\n",
              "\n",
              "<style>\n",
              "  .colab-df-quickchart {\n",
              "      --bg-color: #E8F0FE;\n",
              "      --fill-color: #1967D2;\n",
              "      --hover-bg-color: #E2EBFA;\n",
              "      --hover-fill-color: #174EA6;\n",
              "      --disabled-fill-color: #AAA;\n",
              "      --disabled-bg-color: #DDD;\n",
              "  }\n",
              "\n",
              "  [theme=dark] .colab-df-quickchart {\n",
              "      --bg-color: #3B4455;\n",
              "      --fill-color: #D2E3FC;\n",
              "      --hover-bg-color: #434B5C;\n",
              "      --hover-fill-color: #FFFFFF;\n",
              "      --disabled-bg-color: #3B4455;\n",
              "      --disabled-fill-color: #666;\n",
              "  }\n",
              "\n",
              "  .colab-df-quickchart {\n",
              "    background-color: var(--bg-color);\n",
              "    border: none;\n",
              "    border-radius: 50%;\n",
              "    cursor: pointer;\n",
              "    display: none;\n",
              "    fill: var(--fill-color);\n",
              "    height: 32px;\n",
              "    padding: 0;\n",
              "    width: 32px;\n",
              "  }\n",
              "\n",
              "  .colab-df-quickchart:hover {\n",
              "    background-color: var(--hover-bg-color);\n",
              "    box-shadow: 0 1px 2px rgba(60, 64, 67, 0.3), 0 1px 3px 1px rgba(60, 64, 67, 0.15);\n",
              "    fill: var(--button-hover-fill-color);\n",
              "  }\n",
              "\n",
              "  .colab-df-quickchart-complete:disabled,\n",
              "  .colab-df-quickchart-complete:disabled:hover {\n",
              "    background-color: var(--disabled-bg-color);\n",
              "    fill: var(--disabled-fill-color);\n",
              "    box-shadow: none;\n",
              "  }\n",
              "\n",
              "  .colab-df-spinner {\n",
              "    border: 2px solid var(--fill-color);\n",
              "    border-color: transparent;\n",
              "    border-bottom-color: var(--fill-color);\n",
              "    animation:\n",
              "      spin 1s steps(1) infinite;\n",
              "  }\n",
              "\n",
              "  @keyframes spin {\n",
              "    0% {\n",
              "      border-color: transparent;\n",
              "      border-bottom-color: var(--fill-color);\n",
              "      border-left-color: var(--fill-color);\n",
              "    }\n",
              "    20% {\n",
              "      border-color: transparent;\n",
              "      border-left-color: var(--fill-color);\n",
              "      border-top-color: var(--fill-color);\n",
              "    }\n",
              "    30% {\n",
              "      border-color: transparent;\n",
              "      border-left-color: var(--fill-color);\n",
              "      border-top-color: var(--fill-color);\n",
              "      border-right-color: var(--fill-color);\n",
              "    }\n",
              "    40% {\n",
              "      border-color: transparent;\n",
              "      border-right-color: var(--fill-color);\n",
              "      border-top-color: var(--fill-color);\n",
              "    }\n",
              "    60% {\n",
              "      border-color: transparent;\n",
              "      border-right-color: var(--fill-color);\n",
              "    }\n",
              "    80% {\n",
              "      border-color: transparent;\n",
              "      border-right-color: var(--fill-color);\n",
              "      border-bottom-color: var(--fill-color);\n",
              "    }\n",
              "    90% {\n",
              "      border-color: transparent;\n",
              "      border-bottom-color: var(--fill-color);\n",
              "    }\n",
              "  }\n",
              "</style>\n",
              "\n",
              "      <script>\n",
              "        async function quickchart(key) {\n",
              "          const quickchartButtonEl =\n",
              "            document.querySelector('#' + key + ' button');\n",
              "          quickchartButtonEl.disabled = true;  // To prevent multiple clicks.\n",
              "          quickchartButtonEl.classList.add('colab-df-spinner');\n",
              "          try {\n",
              "            const charts = await google.colab.kernel.invokeFunction(\n",
              "                'suggestCharts', [key], {});\n",
              "          } catch (error) {\n",
              "            console.error('Error during call to suggestCharts:', error);\n",
              "          }\n",
              "          quickchartButtonEl.classList.remove('colab-df-spinner');\n",
              "          quickchartButtonEl.classList.add('colab-df-quickchart-complete');\n",
              "        }\n",
              "        (() => {\n",
              "          let quickchartButtonEl =\n",
              "            document.querySelector('#df-3eba4749-750c-4dbe-ba77-e16d788ed4f2 button');\n",
              "          quickchartButtonEl.style.display =\n",
              "            google.colab.kernel.accessAllowed ? 'block' : 'none';\n",
              "        })();\n",
              "      </script>\n",
              "    </div>\n",
              "\n",
              "    </div>\n",
              "  </div>\n"
            ],
            "application/vnd.google.colaboratory.intrinsic+json": {
              "type": "dataframe",
              "variable_name": "df"
            }
          },
          "metadata": {},
          "execution_count": 7
        }
      ],
      "source": [
        "import pandas as pd\n",
        "\n",
        "df = pd.read_json(\"df_normalizado.json\")  # reemplaza con tu nombre de archivo\n",
        "df.head()\n"
      ]
    },
    {
      "cell_type": "code",
      "source": [
        "#df = df.drop(df.columns[0], axis=1)\n",
        "df = df.drop('customerID', axis=1)\n"
      ],
      "metadata": {
        "colab": {
          "base_uri": "https://localhost:8080/",
          "height": 165
        },
        "id": "ZrUgzrd5Susg",
        "outputId": "d3b6a614-9eff-44ff-e3c6-fbd99160c7dc"
      },
      "execution_count": 6,
      "outputs": [
        {
          "output_type": "error",
          "ename": "NameError",
          "evalue": "name 'df' is not defined",
          "traceback": [
            "\u001b[0;31m---------------------------------------------------------------------------\u001b[0m",
            "\u001b[0;31mNameError\u001b[0m                                 Traceback (most recent call last)",
            "\u001b[0;32m/tmp/ipython-input-1389537570.py\u001b[0m in \u001b[0;36m<cell line: 0>\u001b[0;34m()\u001b[0m\n\u001b[1;32m      1\u001b[0m \u001b[0;31m#df = df.drop(df.columns[0], axis=1)\u001b[0m\u001b[0;34m\u001b[0m\u001b[0;34m\u001b[0m\u001b[0m\n\u001b[0;32m----> 2\u001b[0;31m \u001b[0mdf\u001b[0m \u001b[0;34m=\u001b[0m \u001b[0mdf\u001b[0m\u001b[0;34m.\u001b[0m\u001b[0mdrop\u001b[0m\u001b[0;34m(\u001b[0m\u001b[0;34m'customerID'\u001b[0m\u001b[0;34m,\u001b[0m \u001b[0maxis\u001b[0m\u001b[0;34m=\u001b[0m\u001b[0;36m1\u001b[0m\u001b[0;34m)\u001b[0m\u001b[0;34m\u001b[0m\u001b[0;34m\u001b[0m\u001b[0m\n\u001b[0m",
            "\u001b[0;31mNameError\u001b[0m: name 'df' is not defined"
          ]
        }
      ]
    },
    {
      "cell_type": "code",
      "source": [
        "print(df.columns.tolist())\n",
        "\n",
        "# Mostrar las primeras 5 filas\n",
        "print(df.head())\n"
      ],
      "metadata": {
        "id": "tln_ztmET512"
      },
      "execution_count": null,
      "outputs": []
    },
    {
      "cell_type": "code",
      "source": [
        "print(df.shape)\n",
        "df.head()\n"
      ],
      "metadata": {
        "id": "7w6gYXYuULiI"
      },
      "execution_count": null,
      "outputs": []
    },
    {
      "cell_type": "code",
      "source": [
        "for i, col in enumerate(df.columns):\n",
        "    print(f\"{i}: {col}\")\n"
      ],
      "metadata": {
        "id": "I7C6tT7BUsRq"
      },
      "execution_count": null,
      "outputs": []
    },
    {
      "cell_type": "code",
      "source": [
        "# Todas las columnas con su tipo\n",
        "print(df.dtypes)\n",
        "\n",
        "# Solo columnas categóricas (tipo object o category)\n",
        "cat_cols = df.select_dtypes(include=['object', 'category']).columns\n",
        "print(\"Columnas categóricas:\", list(cat_cols))\n"
      ],
      "metadata": {
        "id": "7EFzQLXyVywI"
      },
      "execution_count": null,
      "outputs": []
    },
    {
      "cell_type": "code",
      "source": [
        "# Para cada columna, mostrar la cantidad de valores únicos\n",
        "unique_counts = df.nunique()\n",
        "print(unique_counts)"
      ],
      "metadata": {
        "colab": {
          "base_uri": "https://localhost:8080/"
        },
        "id": "Slysu3Dk-xz1",
        "outputId": "46bf1974-c210-4c16-8ee4-5921a1810a45"
      },
      "execution_count": 8,
      "outputs": [
        {
          "output_type": "stream",
          "name": "stdout",
          "text": [
            "customerID                   7043\n",
            "Churn                           2\n",
            "customer.gender                 2\n",
            "customer.SeniorCitizen          2\n",
            "customer.Partner                2\n",
            "customer.Dependents             2\n",
            "customer.tenure                73\n",
            "phone.PhoneService              2\n",
            "phone.MultipleLines             3\n",
            "internet.InternetService        3\n",
            "internet.OnlineSecurity         3\n",
            "internet.OnlineBackup           3\n",
            "internet.DeviceProtection       3\n",
            "internet.TechSupport            3\n",
            "internet.StreamingTV            3\n",
            "internet.StreamingMovies        3\n",
            "account.Contract                3\n",
            "account.PaperlessBilling        2\n",
            "account.PaymentMethod           4\n",
            "account.Charges.Monthly      1585\n",
            "account.Charges.Total        6530\n",
            "Cuentas_Diarias              1585\n",
            "dtype: int64\n"
          ]
        }
      ]
    },
    {
      "cell_type": "code",
      "source": [
        "cat_cols = df.select_dtypes(include=['object']).columns\n",
        "\n",
        "for col in cat_cols:\n",
        "    print(f\"Opciones en la columna '{col}':\")\n",
        "    print(df[col].unique())\n",
        "    print(\"-\" * 40)\n"
      ],
      "metadata": {
        "colab": {
          "base_uri": "https://localhost:8080/"
        },
        "id": "n-5nwyWiCHeB",
        "outputId": "62dfc026-c266-4b0a-e358-d945b4272de3"
      },
      "execution_count": 9,
      "outputs": [
        {
          "output_type": "stream",
          "name": "stdout",
          "text": [
            "Opciones en la columna 'customerID':\n",
            "['0002-ORFBO' '0003-MKNFE' '0004-TLHLJ' ... '9992-UJOEL' '9993-LHIEB'\n",
            " '9995-HOTOH']\n",
            "----------------------------------------\n",
            "Opciones en la columna 'Churn':\n",
            "['No' 'Yes']\n",
            "----------------------------------------\n",
            "Opciones en la columna 'customer.gender':\n",
            "['Female' 'Male']\n",
            "----------------------------------------\n",
            "Opciones en la columna 'customer.Partner':\n",
            "['Yes' 'No']\n",
            "----------------------------------------\n",
            "Opciones en la columna 'customer.Dependents':\n",
            "['Yes' 'No']\n",
            "----------------------------------------\n",
            "Opciones en la columna 'phone.PhoneService':\n",
            "['Yes' 'No']\n",
            "----------------------------------------\n",
            "Opciones en la columna 'phone.MultipleLines':\n",
            "['No' 'Yes' 'No phone service']\n",
            "----------------------------------------\n",
            "Opciones en la columna 'internet.InternetService':\n",
            "['DSL' 'Fiber optic' 'No']\n",
            "----------------------------------------\n",
            "Opciones en la columna 'internet.OnlineSecurity':\n",
            "['No' 'Yes' 'No internet service']\n",
            "----------------------------------------\n",
            "Opciones en la columna 'internet.OnlineBackup':\n",
            "['Yes' 'No' 'No internet service']\n",
            "----------------------------------------\n",
            "Opciones en la columna 'internet.DeviceProtection':\n",
            "['No' 'Yes' 'No internet service']\n",
            "----------------------------------------\n",
            "Opciones en la columna 'internet.TechSupport':\n",
            "['Yes' 'No' 'No internet service']\n",
            "----------------------------------------\n",
            "Opciones en la columna 'internet.StreamingTV':\n",
            "['Yes' 'No' 'No internet service']\n",
            "----------------------------------------\n",
            "Opciones en la columna 'internet.StreamingMovies':\n",
            "['No' 'Yes' 'No internet service']\n",
            "----------------------------------------\n",
            "Opciones en la columna 'account.Contract':\n",
            "['One year' 'Month-to-month' 'Two year']\n",
            "----------------------------------------\n",
            "Opciones en la columna 'account.PaperlessBilling':\n",
            "['Yes' 'No']\n",
            "----------------------------------------\n",
            "Opciones en la columna 'account.PaymentMethod':\n",
            "['Mailed check' 'Electronic check' 'Credit card (automatic)'\n",
            " 'Bank transfer (automatic)']\n",
            "----------------------------------------\n"
          ]
        }
      ]
    },
    {
      "cell_type": "code",
      "source": [
        "df.to_csv(\"df_sin_customerID.csv\", index=False, encoding=\"utf-8-sig\")\n",
        "print(df.head(10))"
      ],
      "metadata": {
        "colab": {
          "base_uri": "https://localhost:8080/"
        },
        "id": "E96Skd5RDFwa",
        "outputId": "5f46ef02-cd46-4708-f666-7fa15235972c"
      },
      "execution_count": 13,
      "outputs": [
        {
          "output_type": "stream",
          "name": "stdout",
          "text": [
            "  Churn customer.gender  customer.SeniorCitizen customer.Partner  \\\n",
            "0    No          Female                       0              Yes   \n",
            "1    No            Male                       0               No   \n",
            "2   Yes            Male                       0               No   \n",
            "3   Yes            Male                       1              Yes   \n",
            "4   Yes          Female                       1              Yes   \n",
            "5    No          Female                       0               No   \n",
            "6    No          Female                       1              Yes   \n",
            "7    No            Male                       0              Yes   \n",
            "8    No          Female                       1               No   \n",
            "9    No          Female                       0              Yes   \n",
            "\n",
            "  customer.Dependents  customer.tenure phone.PhoneService phone.MultipleLines  \\\n",
            "0                 Yes                9                Yes                  No   \n",
            "1                  No                9                Yes                 Yes   \n",
            "2                  No                4                Yes                  No   \n",
            "3                  No               13                Yes                  No   \n",
            "4                  No                3                Yes                  No   \n",
            "5                 Yes                9                Yes                  No   \n",
            "6                  No               71                Yes                  No   \n",
            "7                  No               63                Yes                 Yes   \n",
            "8                  No                7                Yes                  No   \n",
            "9                 Yes               65                Yes                 Yes   \n",
            "\n",
            "  internet.InternetService internet.OnlineSecurity  ...  \\\n",
            "0                      DSL                      No  ...   \n",
            "1                      DSL                      No  ...   \n",
            "2              Fiber optic                      No  ...   \n",
            "3              Fiber optic                      No  ...   \n",
            "4              Fiber optic                      No  ...   \n",
            "5                      DSL                      No  ...   \n",
            "6              Fiber optic                     Yes  ...   \n",
            "7              Fiber optic                     Yes  ...   \n",
            "8                      DSL                     Yes  ...   \n",
            "9                      DSL                     Yes  ...   \n",
            "\n",
            "  internet.DeviceProtection internet.TechSupport internet.StreamingTV  \\\n",
            "0                        No                  Yes                  Yes   \n",
            "1                        No                   No                   No   \n",
            "2                       Yes                   No                   No   \n",
            "3                       Yes                   No                  Yes   \n",
            "4                        No                  Yes                  Yes   \n",
            "5                        No                  Yes                  Yes   \n",
            "6                       Yes                  Yes                  Yes   \n",
            "7                        No                  Yes                   No   \n",
            "8                        No                   No                   No   \n",
            "9                       Yes                  Yes                  Yes   \n",
            "\n",
            "  internet.StreamingMovies account.Contract account.PaperlessBilling  \\\n",
            "0                       No         One year                      Yes   \n",
            "1                      Yes   Month-to-month                       No   \n",
            "2                       No   Month-to-month                      Yes   \n",
            "3                      Yes   Month-to-month                      Yes   \n",
            "4                       No   Month-to-month                      Yes   \n",
            "5                      Yes   Month-to-month                      Yes   \n",
            "6                      Yes         Two year                      Yes   \n",
            "7                       No         Two year                      Yes   \n",
            "8                       No   Month-to-month                      Yes   \n",
            "9                      Yes         Two year                      Yes   \n",
            "\n",
            "       account.PaymentMethod account.Charges.Monthly  account.Charges.Total  \\\n",
            "0               Mailed check                   65.60                 593.30   \n",
            "1               Mailed check                   59.90                 542.40   \n",
            "2           Electronic check                   73.90                 280.85   \n",
            "3           Electronic check                   98.00                1237.85   \n",
            "4               Mailed check                   83.90                 267.40   \n",
            "5    Credit card (automatic)                   69.40                 571.45   \n",
            "6  Bank transfer (automatic)                  109.70                7904.25   \n",
            "7    Credit card (automatic)                   84.65                5377.80   \n",
            "8           Electronic check                   48.20                 340.35   \n",
            "9               Mailed check                   90.45                5957.90   \n",
            "\n",
            "   Cuentas_Diarias  \n",
            "0         2.186667  \n",
            "1         1.996667  \n",
            "2         2.463333  \n",
            "3         3.266667  \n",
            "4         2.796667  \n",
            "5         2.313333  \n",
            "6         3.656667  \n",
            "7         2.821667  \n",
            "8         1.606667  \n",
            "9         3.015000  \n",
            "\n",
            "[10 rows x 21 columns]\n"
          ]
        }
      ]
    },
    {
      "cell_type": "code",
      "source": [
        "for col in df.columns:\n",
        "    print(col)"
      ],
      "metadata": {
        "colab": {
          "base_uri": "https://localhost:8080/"
        },
        "id": "1wLOkGLE-xQy",
        "outputId": "e7920f89-53c6-491b-e08c-5610962aa7d3"
      },
      "execution_count": 15,
      "outputs": [
        {
          "output_type": "stream",
          "name": "stdout",
          "text": [
            "Churn\n",
            "customer.gender\n",
            "customer.SeniorCitizen\n",
            "customer.Partner\n",
            "customer.Dependents\n",
            "customer.tenure\n",
            "phone.PhoneService\n",
            "phone.MultipleLines\n",
            "internet.InternetService\n",
            "internet.OnlineSecurity\n",
            "internet.OnlineBackup\n",
            "internet.DeviceProtection\n",
            "internet.TechSupport\n",
            "internet.StreamingTV\n",
            "internet.StreamingMovies\n",
            "account.Contract\n",
            "account.PaperlessBilling\n",
            "account.PaymentMethod\n",
            "account.Charges.Monthly\n",
            "account.Charges.Total\n",
            "Cuentas_Diarias\n"
          ]
        }
      ]
    },
    {
      "cell_type": "code",
      "source": [
        "# Lista columnas que solo tienen 'Yes' y 'No'\n",
        "cols_yes_no = [col for col in df.columns if set(df[col].dropna().unique()) == {'Yes', 'No'}]\n",
        "\n",
        "print(\"Columnas con solo valores 'Yes' y 'No':\")\n",
        "print(cols_yes_no)"
      ],
      "metadata": {
        "colab": {
          "base_uri": "https://localhost:8080/"
        },
        "id": "0sZV8awQH02z",
        "outputId": "8b324860-94a2-4537-e8e7-4b148efc3fe6"
      },
      "execution_count": 16,
      "outputs": [
        {
          "output_type": "stream",
          "name": "stdout",
          "text": [
            "Columnas con solo valores 'Yes' y 'No':\n",
            "['Churn', 'customer.Partner', 'customer.Dependents', 'phone.PhoneService', 'account.PaperlessBilling']\n"
          ]
        }
      ]
    },
    {
      "cell_type": "code",
      "source": [
        "# Reemplazar Yes=1, No=0 en esas columnas\n",
        "for col in cols_yes_no:\n",
        "    df[col] = df[col].map({'Yes': 1, 'No': 0})\n",
        "\n",
        "# Verificamos cambios\n",
        "print(df[cols_yes_no].head())"
      ],
      "metadata": {
        "colab": {
          "base_uri": "https://localhost:8080/"
        },
        "id": "jzdbD4RDIDKX",
        "outputId": "92d93687-5a8c-4cc6-a59f-71e74924f6cf"
      },
      "execution_count": 17,
      "outputs": [
        {
          "output_type": "stream",
          "name": "stdout",
          "text": [
            "   Churn  customer.Partner  customer.Dependents  phone.PhoneService  \\\n",
            "0      0                 1                    1                   1   \n",
            "1      0                 0                    0                   1   \n",
            "2      1                 0                    0                   1   \n",
            "3      1                 1                    0                   1   \n",
            "4      1                 1                    0                   1   \n",
            "\n",
            "   account.PaperlessBilling  \n",
            "0                         1  \n",
            "1                         0  \n",
            "2                         1  \n",
            "3                         1  \n",
            "4                         1  \n"
          ]
        }
      ]
    },
    {
      "cell_type": "code",
      "source": [
        "# Encontrar columnas con exactamente 3 valores únicos\n",
        "cols_tres_valores = [col for col in df.columns if df[col].nunique() == 3]\n",
        "\n",
        "print(\"Columnas con exactamente 3 valores únicos:\")\n",
        "for col in cols_tres_valores:\n",
        "    print(col)\n"
      ],
      "metadata": {
        "colab": {
          "base_uri": "https://localhost:8080/"
        },
        "id": "6JFrrnqnIXb8",
        "outputId": "58057d61-e721-4100-a686-736f5c604059"
      },
      "execution_count": 18,
      "outputs": [
        {
          "output_type": "stream",
          "name": "stdout",
          "text": [
            "Columnas con exactamente 3 valores únicos:\n",
            "phone.MultipleLines\n",
            "internet.InternetService\n",
            "internet.OnlineSecurity\n",
            "internet.OnlineBackup\n",
            "internet.DeviceProtection\n",
            "internet.TechSupport\n",
            "internet.StreamingTV\n",
            "internet.StreamingMovies\n",
            "account.Contract\n"
          ]
        }
      ]
    },
    {
      "cell_type": "code",
      "source": [
        "for col in df.columns:\n",
        "    unique_vals = df[col].dropna().unique()\n",
        "    if len(unique_vals) == 3:\n",
        "        print(f\"Columna '{col}' tiene 3 valores únicos:\")\n",
        "        print(unique_vals)\n",
        "        print(\"-\" * 40)"
      ],
      "metadata": {
        "colab": {
          "base_uri": "https://localhost:8080/"
        },
        "id": "UB_lqvQ1IibA",
        "outputId": "d9d68bfe-6bd8-4661-c0b9-00fd7f1233d0"
      },
      "execution_count": 19,
      "outputs": [
        {
          "output_type": "stream",
          "name": "stdout",
          "text": [
            "Columna 'phone.MultipleLines' tiene 3 valores únicos:\n",
            "['No' 'Yes' 'No phone service']\n",
            "----------------------------------------\n",
            "Columna 'internet.InternetService' tiene 3 valores únicos:\n",
            "['DSL' 'Fiber optic' 'No']\n",
            "----------------------------------------\n",
            "Columna 'internet.OnlineSecurity' tiene 3 valores únicos:\n",
            "['No' 'Yes' 'No internet service']\n",
            "----------------------------------------\n",
            "Columna 'internet.OnlineBackup' tiene 3 valores únicos:\n",
            "['Yes' 'No' 'No internet service']\n",
            "----------------------------------------\n",
            "Columna 'internet.DeviceProtection' tiene 3 valores únicos:\n",
            "['No' 'Yes' 'No internet service']\n",
            "----------------------------------------\n",
            "Columna 'internet.TechSupport' tiene 3 valores únicos:\n",
            "['Yes' 'No' 'No internet service']\n",
            "----------------------------------------\n",
            "Columna 'internet.StreamingTV' tiene 3 valores únicos:\n",
            "['Yes' 'No' 'No internet service']\n",
            "----------------------------------------\n",
            "Columna 'internet.StreamingMovies' tiene 3 valores únicos:\n",
            "['No' 'Yes' 'No internet service']\n",
            "----------------------------------------\n",
            "Columna 'account.Contract' tiene 3 valores únicos:\n",
            "['One year' 'Month-to-month' 'Two year']\n",
            "----------------------------------------\n"
          ]
        }
      ]
    },
    {
      "cell_type": "code",
      "source": [
        "no_service_count = df['phone.MultipleLines'].value_counts().get('No phone service', 0)\n",
        "print(f\"Clientes sin servicio telefónico: {no_service_count}\")"
      ],
      "metadata": {
        "colab": {
          "base_uri": "https://localhost:8080/"
        },
        "id": "xBLqzkKMJrD0",
        "outputId": "2155309c-2c9d-4565-c31b-36fa094fbeae"
      },
      "execution_count": 20,
      "outputs": [
        {
          "output_type": "stream",
          "name": "stdout",
          "text": [
            "Clientes sin servicio telefónico: 682\n"
          ]
        }
      ]
    },
    {
      "cell_type": "code",
      "source": [
        "conteo = df['phone.MultipleLines'].value_counts()\n",
        "print(conteo)"
      ],
      "metadata": {
        "colab": {
          "base_uri": "https://localhost:8080/"
        },
        "id": "2OfTed4QJyoM",
        "outputId": "e054ff2a-412d-4af3-f82e-c972d78758c8"
      },
      "execution_count": 21,
      "outputs": [
        {
          "output_type": "stream",
          "name": "stdout",
          "text": [
            "phone.MultipleLines\n",
            "No                  3390\n",
            "Yes                 2971\n",
            "No phone service     682\n",
            "Name: count, dtype: int64\n"
          ]
        }
      ]
    },
    {
      "cell_type": "markdown",
      "source": [
        "Perfecto, esos números te dicen que:\n",
        "\n",
        "3390 clientes tienen teléfono, pero una sola línea (No)\n",
        "2971 clientes tienen múltiples líneas (Yes)\n",
        "682 clientes no tienen servicio telefónico (No phone service)"
      ],
      "metadata": {
        "id": "z_f2oeKiKLPd"
      }
    },
    {
      "cell_type": "markdown",
      "source": [
        "Qué puedes hacer con esta info:\n",
        "La categoría 'No phone service' es relevante porque representa casi el 11% de tus clientes (682 de 7043 aprox).\n",
        "\n",
        "Por eso, mantenerla como categoría separada en tu análisis o modelo es muy recomendable.\n"
      ],
      "metadata": {
        "id": "tlzCIxStKamG"
      }
    },
    {
      "cell_type": "markdown",
      "source": [
        "Cómo hacerlo para regresión:\n",
        "Usa One-Hot Encoding para transformar la columna phone.MultipleLines en variables binarias:\n",
        "\n",
        "phone.MultipleLines_No\n",
        "\n",
        "phone.MultipleLines_Yes\n",
        "\n",
        "phone.MultipleLines_No phone service\n",
        "\n",
        "Esto permite que el modelo aprenda efectos diferentes para cada grupo, sin asumir orden ni mezcla.\n",
        "\n",
        "Ventajas de mantener la categoría separada:\n",
        "El modelo captura diferencias reales entre tener múltiples líneas, tener una sola línea y no tener servicio.\n",
        "\n",
        "Evitas perder información valiosa que podría afectar la predicción.\n",
        "\n",
        "Consideraciones:\n",
        "Si usas pd.get_dummies(..., drop_first=True), una categoría (la base) se elimina para evitar multicolinealidad.\n",
        "\n",
        "Si quieres mantener explícitamente todas las categorías, no uses drop_first=True o usa otro método como OneHotEncoder de scikit-learn con drop=None.\n",
        "\n",
        "Asegúrate de interpretar los coeficientes en regresión teniendo en cuenta la categoría base."
      ],
      "metadata": {
        "id": "B_IsTVg8K5au"
      }
    },
    {
      "cell_type": "markdown",
      "source": [
        "Mantendre las tres opciones."
      ],
      "metadata": {
        "id": "cjTWRJ9FLVXu"
      }
    },
    {
      "cell_type": "markdown",
      "source": [
        "¡Perfecto! Esa es la mejor estrategia.\n",
        "\n",
        "Para mantener la categoría 'No phone service' aparte y evitar multicolinealidad, lo que puedes hacer es:\n",
        "\n",
        "Aplicar One-Hot Encoding a toda la columna phone.MultipleLines sin usar drop_first=True, para que todas las categorías tengan su propia columna.\n",
        "\n",
        "Luego, para evitar multicolinealidad, cuando uses modelos lineales (regresión, regresión logística), aplica regularización (como Lasso o Ridge) o bien elimina manualmente una columna base (puedes elegir cuál eliminar según conveniencia)."
      ],
      "metadata": {
        "id": "k5fhMOTyLQoV"
      }
    },
    {
      "cell_type": "code",
      "source": [
        "# Aplicar One-Hot Encoding a 'phone.MultipleLines' sin eliminar ninguna categoría\n",
        "df_encoded = pd.get_dummies(df, columns=['phone.MultipleLines'], drop_first=False)\n",
        "\n",
        "# Mostrar las nuevas columnas creadas para esa variable\n",
        "print(df_encoded.filter(like='phone.MultipleLines').head())\n",
        "\n",
        "# (Opcional) Para evitar multicolinealidad en modelos lineales, eliminar una columna dummy\n",
        "df_encoded = df_encoded.drop('phone.MultipleLines_No', axis=1)\n",
        "\n",
        "# Mostrar columnas después de la eliminación\n",
        "print(df_encoded.filter(like='phone.MultipleLines').head())"
      ],
      "metadata": {
        "colab": {
          "base_uri": "https://localhost:8080/"
        },
        "id": "-xyx5opKJyQE",
        "outputId": "8073c9f2-f955-4ae5-e2dd-d8e3e20d4148"
      },
      "execution_count": 22,
      "outputs": [
        {
          "output_type": "stream",
          "name": "stdout",
          "text": [
            "   phone.MultipleLines_No  phone.MultipleLines_No phone service  \\\n",
            "0                    True                                 False   \n",
            "1                   False                                 False   \n",
            "2                    True                                 False   \n",
            "3                    True                                 False   \n",
            "4                    True                                 False   \n",
            "\n",
            "   phone.MultipleLines_Yes  \n",
            "0                    False  \n",
            "1                     True  \n",
            "2                    False  \n",
            "3                    False  \n",
            "4                    False  \n",
            "   phone.MultipleLines_No phone service  phone.MultipleLines_Yes\n",
            "0                                 False                    False\n",
            "1                                 False                     True\n",
            "2                                 False                    False\n",
            "3                                 False                    False\n",
            "4                                 False                    False\n"
          ]
        }
      ]
    },
    {
      "cell_type": "code",
      "source": [
        "print(df['phone.MultipleLines'].unique())\n"
      ],
      "metadata": {
        "colab": {
          "base_uri": "https://localhost:8080/"
        },
        "id": "_SVewkW5MWwY",
        "outputId": "1c2d9af5-e10a-4f1a-804f-af26c4306abc"
      },
      "execution_count": 23,
      "outputs": [
        {
          "output_type": "stream",
          "name": "stdout",
          "text": [
            "['No' 'Yes' 'No phone service']\n"
          ]
        }
      ]
    },
    {
      "cell_type": "code",
      "source": [
        "# Reemplazar espacios por guiones bajos en todas las columnas de tipo object\n",
        "cat_cols = df.select_dtypes(include=['object']).columns\n",
        "for col in cat_cols:\n",
        "    df[col] = df[col].str.replace(' ', '_')\n",
        "\n",
        "# Ahora aplicas get_dummies sin problemas\n",
        "df_encoded = pd.get_dummies(df, drop_first=False)\n",
        "\n",
        "# Verificas columnas relacionadas con phone.MultipleLines\n",
        "print(df_encoded.filter(like='phone.MultipleLines').head())\n"
      ],
      "metadata": {
        "colab": {
          "base_uri": "https://localhost:8080/"
        },
        "id": "gjpPR5ayMsrM",
        "outputId": "8a898b41-e5da-42d3-928b-65f79db6a8c9"
      },
      "execution_count": 24,
      "outputs": [
        {
          "output_type": "stream",
          "name": "stdout",
          "text": [
            "   phone.MultipleLines_No  phone.MultipleLines_No_phone_service  \\\n",
            "0                    True                                 False   \n",
            "1                   False                                 False   \n",
            "2                    True                                 False   \n",
            "3                    True                                 False   \n",
            "4                    True                                 False   \n",
            "\n",
            "   phone.MultipleLines_Yes  \n",
            "0                    False  \n",
            "1                     True  \n",
            "2                    False  \n",
            "3                    False  \n",
            "4                    False  \n"
          ]
        }
      ]
    },
    {
      "cell_type": "markdown",
      "source": [
        "Perfecto, vamos a trabajar con la columna internet.InternetService.\n",
        "\n",
        "Esta columna tiene tres categorías:\"DSL\", \"Fiber optic\", \"No\"\n",
        "\n",
        "En machine learning, lo más común es codificar variables categóricas de este tipo usando One-Hot Encoding, porque son valores nominales (no existe un orden lógico entre ellos)."
      ],
      "metadata": {
        "id": "vhU_WnMENXeR"
      }
    },
    {
      "cell_type": "markdown",
      "source": [
        "Aquí depende del objetivo de tu análisis o modelo:\n",
        "\n",
        "Si estás haciendo un análisis descriptivo (por ejemplo, para ver cuántos clientes usan cada tipo de servicio), deja los 3 valores tal cual:\n",
        "\n",
        "\"DSL\"\n",
        "\"Fiber optic\"\n",
        "\"No\" (clientes sin servicio de Internet).\n",
        "Si estás preparando datos para un modelo de machine learning, a veces conviene:\n",
        "\n",
        "Mantener los 3 valores y codificarlos (one-hot encoding o label encoding)."
      ],
      "metadata": {
        "id": "ZUG_IX9wOaCZ"
      }
    },
    {
      "cell_type": "markdown",
      "source": [
        "En la práctica, si dejas los 3 y haces one-hot encoding, el modelo podrá aprender la diferencia sin problema."
      ],
      "metadata": {
        "id": "1vFJvqbcOl1m"
      }
    },
    {
      "cell_type": "code",
      "source": [
        "# 1️⃣ Crear un DataFrame de ejemplo (puedes saltar este paso si ya tienes el tuyo)\n",
        "data = {\n",
        "    'phone.MultipleLines': ['No', 'Yes', 'No phone service', 'Yes', 'No']\n",
        "}\n",
        "df = pd.DataFrame(data)\n",
        "\n",
        "# 2️⃣ Mostrar valores únicos antes de reemplazar\n",
        "print(\"Valores únicos originales:\")\n",
        "print(df['phone.MultipleLines'].unique())\n",
        "\n",
        "# 3️⃣ Reemplazar los valores\n",
        "df['phone.MultipleLines'] = df['phone.MultipleLines'].replace({\n",
        "    'No': 'No tiene múltiples líneas',\n",
        "    'Yes': 'Sí tiene múltiples líneas',\n",
        "    'No phone service': 'No tiene servicio telefónico'\n",
        "})\n",
        "\n",
        "# 4️⃣ Mostrar valores únicos después de reemplazar\n",
        "print(\"\\nValores únicos después de reemplazar:\")\n",
        "print(df['phone.MultipleLines'].unique())\n",
        "\n",
        "# 5️⃣ Mostrar DataFrame resultante\n",
        "df"
      ],
      "metadata": {
        "colab": {
          "base_uri": "https://localhost:8080/",
          "height": 315
        },
        "id": "YfCuv3G0RSkj",
        "outputId": "9cad456e-dcd9-4a94-c41a-952d133bb329"
      },
      "execution_count": 28,
      "outputs": [
        {
          "output_type": "stream",
          "name": "stdout",
          "text": [
            "Valores únicos originales:\n",
            "['No' 'Yes' 'No phone service']\n",
            "\n",
            "Valores únicos después de reemplazar:\n",
            "['No tiene múltiples líneas' 'Sí tiene múltiples líneas'\n",
            " 'No tiene servicio telefónico']\n"
          ]
        },
        {
          "output_type": "execute_result",
          "data": {
            "text/plain": [
              "            phone.MultipleLines\n",
              "0     No tiene múltiples líneas\n",
              "1     Sí tiene múltiples líneas\n",
              "2  No tiene servicio telefónico\n",
              "3     Sí tiene múltiples líneas\n",
              "4     No tiene múltiples líneas"
            ],
            "text/html": [
              "\n",
              "  <div id=\"df-12867b37-d1e8-4d24-98be-26a6683af026\" class=\"colab-df-container\">\n",
              "    <div>\n",
              "<style scoped>\n",
              "    .dataframe tbody tr th:only-of-type {\n",
              "        vertical-align: middle;\n",
              "    }\n",
              "\n",
              "    .dataframe tbody tr th {\n",
              "        vertical-align: top;\n",
              "    }\n",
              "\n",
              "    .dataframe thead th {\n",
              "        text-align: right;\n",
              "    }\n",
              "</style>\n",
              "<table border=\"1\" class=\"dataframe\">\n",
              "  <thead>\n",
              "    <tr style=\"text-align: right;\">\n",
              "      <th></th>\n",
              "      <th>phone.MultipleLines</th>\n",
              "    </tr>\n",
              "  </thead>\n",
              "  <tbody>\n",
              "    <tr>\n",
              "      <th>0</th>\n",
              "      <td>No tiene múltiples líneas</td>\n",
              "    </tr>\n",
              "    <tr>\n",
              "      <th>1</th>\n",
              "      <td>Sí tiene múltiples líneas</td>\n",
              "    </tr>\n",
              "    <tr>\n",
              "      <th>2</th>\n",
              "      <td>No tiene servicio telefónico</td>\n",
              "    </tr>\n",
              "    <tr>\n",
              "      <th>3</th>\n",
              "      <td>Sí tiene múltiples líneas</td>\n",
              "    </tr>\n",
              "    <tr>\n",
              "      <th>4</th>\n",
              "      <td>No tiene múltiples líneas</td>\n",
              "    </tr>\n",
              "  </tbody>\n",
              "</table>\n",
              "</div>\n",
              "    <div class=\"colab-df-buttons\">\n",
              "\n",
              "  <div class=\"colab-df-container\">\n",
              "    <button class=\"colab-df-convert\" onclick=\"convertToInteractive('df-12867b37-d1e8-4d24-98be-26a6683af026')\"\n",
              "            title=\"Convert this dataframe to an interactive table.\"\n",
              "            style=\"display:none;\">\n",
              "\n",
              "  <svg xmlns=\"http://www.w3.org/2000/svg\" height=\"24px\" viewBox=\"0 -960 960 960\">\n",
              "    <path d=\"M120-120v-720h720v720H120Zm60-500h600v-160H180v160Zm220 220h160v-160H400v160Zm0 220h160v-160H400v160ZM180-400h160v-160H180v160Zm440 0h160v-160H620v160ZM180-180h160v-160H180v160Zm440 0h160v-160H620v160Z\"/>\n",
              "  </svg>\n",
              "    </button>\n",
              "\n",
              "  <style>\n",
              "    .colab-df-container {\n",
              "      display:flex;\n",
              "      gap: 12px;\n",
              "    }\n",
              "\n",
              "    .colab-df-convert {\n",
              "      background-color: #E8F0FE;\n",
              "      border: none;\n",
              "      border-radius: 50%;\n",
              "      cursor: pointer;\n",
              "      display: none;\n",
              "      fill: #1967D2;\n",
              "      height: 32px;\n",
              "      padding: 0 0 0 0;\n",
              "      width: 32px;\n",
              "    }\n",
              "\n",
              "    .colab-df-convert:hover {\n",
              "      background-color: #E2EBFA;\n",
              "      box-shadow: 0px 1px 2px rgba(60, 64, 67, 0.3), 0px 1px 3px 1px rgba(60, 64, 67, 0.15);\n",
              "      fill: #174EA6;\n",
              "    }\n",
              "\n",
              "    .colab-df-buttons div {\n",
              "      margin-bottom: 4px;\n",
              "    }\n",
              "\n",
              "    [theme=dark] .colab-df-convert {\n",
              "      background-color: #3B4455;\n",
              "      fill: #D2E3FC;\n",
              "    }\n",
              "\n",
              "    [theme=dark] .colab-df-convert:hover {\n",
              "      background-color: #434B5C;\n",
              "      box-shadow: 0px 1px 3px 1px rgba(0, 0, 0, 0.15);\n",
              "      filter: drop-shadow(0px 1px 2px rgba(0, 0, 0, 0.3));\n",
              "      fill: #FFFFFF;\n",
              "    }\n",
              "  </style>\n",
              "\n",
              "    <script>\n",
              "      const buttonEl =\n",
              "        document.querySelector('#df-12867b37-d1e8-4d24-98be-26a6683af026 button.colab-df-convert');\n",
              "      buttonEl.style.display =\n",
              "        google.colab.kernel.accessAllowed ? 'block' : 'none';\n",
              "\n",
              "      async function convertToInteractive(key) {\n",
              "        const element = document.querySelector('#df-12867b37-d1e8-4d24-98be-26a6683af026');\n",
              "        const dataTable =\n",
              "          await google.colab.kernel.invokeFunction('convertToInteractive',\n",
              "                                                    [key], {});\n",
              "        if (!dataTable) return;\n",
              "\n",
              "        const docLinkHtml = 'Like what you see? Visit the ' +\n",
              "          '<a target=\"_blank\" href=https://colab.research.google.com/notebooks/data_table.ipynb>data table notebook</a>'\n",
              "          + ' to learn more about interactive tables.';\n",
              "        element.innerHTML = '';\n",
              "        dataTable['output_type'] = 'display_data';\n",
              "        await google.colab.output.renderOutput(dataTable, element);\n",
              "        const docLink = document.createElement('div');\n",
              "        docLink.innerHTML = docLinkHtml;\n",
              "        element.appendChild(docLink);\n",
              "      }\n",
              "    </script>\n",
              "  </div>\n",
              "\n",
              "\n",
              "    <div id=\"df-b009d903-80ab-47ef-8d9c-98666a8d7b4a\">\n",
              "      <button class=\"colab-df-quickchart\" onclick=\"quickchart('df-b009d903-80ab-47ef-8d9c-98666a8d7b4a')\"\n",
              "                title=\"Suggest charts\"\n",
              "                style=\"display:none;\">\n",
              "\n",
              "<svg xmlns=\"http://www.w3.org/2000/svg\" height=\"24px\"viewBox=\"0 0 24 24\"\n",
              "     width=\"24px\">\n",
              "    <g>\n",
              "        <path d=\"M19 3H5c-1.1 0-2 .9-2 2v14c0 1.1.9 2 2 2h14c1.1 0 2-.9 2-2V5c0-1.1-.9-2-2-2zM9 17H7v-7h2v7zm4 0h-2V7h2v10zm4 0h-2v-4h2v4z\"/>\n",
              "    </g>\n",
              "</svg>\n",
              "      </button>\n",
              "\n",
              "<style>\n",
              "  .colab-df-quickchart {\n",
              "      --bg-color: #E8F0FE;\n",
              "      --fill-color: #1967D2;\n",
              "      --hover-bg-color: #E2EBFA;\n",
              "      --hover-fill-color: #174EA6;\n",
              "      --disabled-fill-color: #AAA;\n",
              "      --disabled-bg-color: #DDD;\n",
              "  }\n",
              "\n",
              "  [theme=dark] .colab-df-quickchart {\n",
              "      --bg-color: #3B4455;\n",
              "      --fill-color: #D2E3FC;\n",
              "      --hover-bg-color: #434B5C;\n",
              "      --hover-fill-color: #FFFFFF;\n",
              "      --disabled-bg-color: #3B4455;\n",
              "      --disabled-fill-color: #666;\n",
              "  }\n",
              "\n",
              "  .colab-df-quickchart {\n",
              "    background-color: var(--bg-color);\n",
              "    border: none;\n",
              "    border-radius: 50%;\n",
              "    cursor: pointer;\n",
              "    display: none;\n",
              "    fill: var(--fill-color);\n",
              "    height: 32px;\n",
              "    padding: 0;\n",
              "    width: 32px;\n",
              "  }\n",
              "\n",
              "  .colab-df-quickchart:hover {\n",
              "    background-color: var(--hover-bg-color);\n",
              "    box-shadow: 0 1px 2px rgba(60, 64, 67, 0.3), 0 1px 3px 1px rgba(60, 64, 67, 0.15);\n",
              "    fill: var(--button-hover-fill-color);\n",
              "  }\n",
              "\n",
              "  .colab-df-quickchart-complete:disabled,\n",
              "  .colab-df-quickchart-complete:disabled:hover {\n",
              "    background-color: var(--disabled-bg-color);\n",
              "    fill: var(--disabled-fill-color);\n",
              "    box-shadow: none;\n",
              "  }\n",
              "\n",
              "  .colab-df-spinner {\n",
              "    border: 2px solid var(--fill-color);\n",
              "    border-color: transparent;\n",
              "    border-bottom-color: var(--fill-color);\n",
              "    animation:\n",
              "      spin 1s steps(1) infinite;\n",
              "  }\n",
              "\n",
              "  @keyframes spin {\n",
              "    0% {\n",
              "      border-color: transparent;\n",
              "      border-bottom-color: var(--fill-color);\n",
              "      border-left-color: var(--fill-color);\n",
              "    }\n",
              "    20% {\n",
              "      border-color: transparent;\n",
              "      border-left-color: var(--fill-color);\n",
              "      border-top-color: var(--fill-color);\n",
              "    }\n",
              "    30% {\n",
              "      border-color: transparent;\n",
              "      border-left-color: var(--fill-color);\n",
              "      border-top-color: var(--fill-color);\n",
              "      border-right-color: var(--fill-color);\n",
              "    }\n",
              "    40% {\n",
              "      border-color: transparent;\n",
              "      border-right-color: var(--fill-color);\n",
              "      border-top-color: var(--fill-color);\n",
              "    }\n",
              "    60% {\n",
              "      border-color: transparent;\n",
              "      border-right-color: var(--fill-color);\n",
              "    }\n",
              "    80% {\n",
              "      border-color: transparent;\n",
              "      border-right-color: var(--fill-color);\n",
              "      border-bottom-color: var(--fill-color);\n",
              "    }\n",
              "    90% {\n",
              "      border-color: transparent;\n",
              "      border-bottom-color: var(--fill-color);\n",
              "    }\n",
              "  }\n",
              "</style>\n",
              "\n",
              "      <script>\n",
              "        async function quickchart(key) {\n",
              "          const quickchartButtonEl =\n",
              "            document.querySelector('#' + key + ' button');\n",
              "          quickchartButtonEl.disabled = true;  // To prevent multiple clicks.\n",
              "          quickchartButtonEl.classList.add('colab-df-spinner');\n",
              "          try {\n",
              "            const charts = await google.colab.kernel.invokeFunction(\n",
              "                'suggestCharts', [key], {});\n",
              "          } catch (error) {\n",
              "            console.error('Error during call to suggestCharts:', error);\n",
              "          }\n",
              "          quickchartButtonEl.classList.remove('colab-df-spinner');\n",
              "          quickchartButtonEl.classList.add('colab-df-quickchart-complete');\n",
              "        }\n",
              "        (() => {\n",
              "          let quickchartButtonEl =\n",
              "            document.querySelector('#df-b009d903-80ab-47ef-8d9c-98666a8d7b4a button');\n",
              "          quickchartButtonEl.style.display =\n",
              "            google.colab.kernel.accessAllowed ? 'block' : 'none';\n",
              "        })();\n",
              "      </script>\n",
              "    </div>\n",
              "\n",
              "  <div id=\"id_f15e96a4-fb95-4e98-bcae-92fa1f81e436\">\n",
              "    <style>\n",
              "      .colab-df-generate {\n",
              "        background-color: #E8F0FE;\n",
              "        border: none;\n",
              "        border-radius: 50%;\n",
              "        cursor: pointer;\n",
              "        display: none;\n",
              "        fill: #1967D2;\n",
              "        height: 32px;\n",
              "        padding: 0 0 0 0;\n",
              "        width: 32px;\n",
              "      }\n",
              "\n",
              "      .colab-df-generate:hover {\n",
              "        background-color: #E2EBFA;\n",
              "        box-shadow: 0px 1px 2px rgba(60, 64, 67, 0.3), 0px 1px 3px 1px rgba(60, 64, 67, 0.15);\n",
              "        fill: #174EA6;\n",
              "      }\n",
              "\n",
              "      [theme=dark] .colab-df-generate {\n",
              "        background-color: #3B4455;\n",
              "        fill: #D2E3FC;\n",
              "      }\n",
              "\n",
              "      [theme=dark] .colab-df-generate:hover {\n",
              "        background-color: #434B5C;\n",
              "        box-shadow: 0px 1px 3px 1px rgba(0, 0, 0, 0.15);\n",
              "        filter: drop-shadow(0px 1px 2px rgba(0, 0, 0, 0.3));\n",
              "        fill: #FFFFFF;\n",
              "      }\n",
              "    </style>\n",
              "    <button class=\"colab-df-generate\" onclick=\"generateWithVariable('df')\"\n",
              "            title=\"Generate code using this dataframe.\"\n",
              "            style=\"display:none;\">\n",
              "\n",
              "  <svg xmlns=\"http://www.w3.org/2000/svg\" height=\"24px\"viewBox=\"0 0 24 24\"\n",
              "       width=\"24px\">\n",
              "    <path d=\"M7,19H8.4L18.45,9,17,7.55,7,17.6ZM5,21V16.75L18.45,3.32a2,2,0,0,1,2.83,0l1.4,1.43a1.91,1.91,0,0,1,.58,1.4,1.91,1.91,0,0,1-.58,1.4L9.25,21ZM18.45,9,17,7.55Zm-12,3A5.31,5.31,0,0,0,4.9,8.1,5.31,5.31,0,0,0,1,6.5,5.31,5.31,0,0,0,4.9,4.9,5.31,5.31,0,0,0,6.5,1,5.31,5.31,0,0,0,8.1,4.9,5.31,5.31,0,0,0,12,6.5,5.46,5.46,0,0,0,6.5,12Z\"/>\n",
              "  </svg>\n",
              "    </button>\n",
              "    <script>\n",
              "      (() => {\n",
              "      const buttonEl =\n",
              "        document.querySelector('#id_f15e96a4-fb95-4e98-bcae-92fa1f81e436 button.colab-df-generate');\n",
              "      buttonEl.style.display =\n",
              "        google.colab.kernel.accessAllowed ? 'block' : 'none';\n",
              "\n",
              "      buttonEl.onclick = () => {\n",
              "        google.colab.notebook.generateWithVariable('df');\n",
              "      }\n",
              "      })();\n",
              "    </script>\n",
              "  </div>\n",
              "\n",
              "    </div>\n",
              "  </div>\n"
            ],
            "application/vnd.google.colaboratory.intrinsic+json": {
              "type": "dataframe",
              "variable_name": "df",
              "summary": "{\n  \"name\": \"df\",\n  \"rows\": 5,\n  \"fields\": [\n    {\n      \"column\": \"phone.MultipleLines\",\n      \"properties\": {\n        \"dtype\": \"string\",\n        \"num_unique_values\": 3,\n        \"samples\": [\n          \"No tiene m\\u00faltiples l\\u00edneas\",\n          \"S\\u00ed tiene m\\u00faltiples l\\u00edneas\",\n          \"No tiene servicio telef\\u00f3nico\"\n        ],\n        \"semantic_type\": \"\",\n        \"description\": \"\"\n      }\n    }\n  ]\n}"
            }
          },
          "metadata": {},
          "execution_count": 28
        }
      ]
    },
    {
      "cell_type": "code",
      "source": [
        "df['phone.MultipleLines'].head(3)\n"
      ],
      "metadata": {
        "colab": {
          "base_uri": "https://localhost:8080/",
          "height": 178
        },
        "id": "zqcuciJZRrN6",
        "outputId": "1d4f3ddc-bafd-4dae-9f77-25c33346f3e1"
      },
      "execution_count": 29,
      "outputs": [
        {
          "output_type": "execute_result",
          "data": {
            "text/plain": [
              "0       No tiene múltiples líneas\n",
              "1       Sí tiene múltiples líneas\n",
              "2    No tiene servicio telefónico\n",
              "Name: phone.MultipleLines, dtype: object"
            ],
            "text/html": [
              "<div>\n",
              "<style scoped>\n",
              "    .dataframe tbody tr th:only-of-type {\n",
              "        vertical-align: middle;\n",
              "    }\n",
              "\n",
              "    .dataframe tbody tr th {\n",
              "        vertical-align: top;\n",
              "    }\n",
              "\n",
              "    .dataframe thead th {\n",
              "        text-align: right;\n",
              "    }\n",
              "</style>\n",
              "<table border=\"1\" class=\"dataframe\">\n",
              "  <thead>\n",
              "    <tr style=\"text-align: right;\">\n",
              "      <th></th>\n",
              "      <th>phone.MultipleLines</th>\n",
              "    </tr>\n",
              "  </thead>\n",
              "  <tbody>\n",
              "    <tr>\n",
              "      <th>0</th>\n",
              "      <td>No tiene múltiples líneas</td>\n",
              "    </tr>\n",
              "    <tr>\n",
              "      <th>1</th>\n",
              "      <td>Sí tiene múltiples líneas</td>\n",
              "    </tr>\n",
              "    <tr>\n",
              "      <th>2</th>\n",
              "      <td>No tiene servicio telefónico</td>\n",
              "    </tr>\n",
              "  </tbody>\n",
              "</table>\n",
              "</div><br><label><b>dtype:</b> object</label>"
            ]
          },
          "metadata": {},
          "execution_count": 29
        }
      ]
    },
    {
      "cell_type": "markdown",
      "source": [
        "En la columna internet.OnlineSecurity con valores:\n",
        "\n",
        "Yes: significa que el cliente tiene activado el servicio de seguridad en línea.\n",
        "\n",
        "No: significa que el cliente no tiene activado el servicio de seguridad en línea, pero sí tiene servicio de internet (DSL o Fiber).\n",
        "\n",
        "No internet service: significa que el cliente no tiene servicio de internet contratado, por lo tanto la pregunta sobre seguridad en línea no aplica.\n",
        "\n",
        "Resumen:\n",
        "Valor\tSignificado\n",
        "Yes\tCliente tiene activado Online Security\n",
        "No\tCliente tiene internet pero no activó la seguridad\n",
        "No internet service\tCliente no tiene internet, por eso no aplica"
      ],
      "metadata": {
        "id": "p-Ww1vBFSigN"
      }
    },
    {
      "cell_type": "code",
      "source": [
        "# Ejemplo DataFrame\n",
        "df = pd.DataFrame({\n",
        "    'internet.OnlineSecurity': ['No', 'Yes', 'No internet service', 'Yes', 'No']\n",
        "})\n",
        "\n",
        "# Reemplazo valores con 0,1,2\n",
        "df['internet.OnlineSecurity'] = df['internet.OnlineSecurity'].replace({\n",
        "    'Yes': 1,\n",
        "    'No': 0,\n",
        "    'No internet service': 2\n",
        "})\n",
        "\n",
        "print(df)"
      ],
      "metadata": {
        "colab": {
          "base_uri": "https://localhost:8080/"
        },
        "id": "wKWI0UVsTPND",
        "outputId": "538cb60b-fcd3-414d-d181-3515aac89ec1"
      },
      "execution_count": 31,
      "outputs": [
        {
          "output_type": "stream",
          "name": "stdout",
          "text": [
            "   internet.OnlineSecurity\n",
            "0                        0\n",
            "1                        1\n",
            "2                        2\n",
            "3                        1\n",
            "4                        0\n"
          ]
        },
        {
          "output_type": "stream",
          "name": "stderr",
          "text": [
            "/tmp/ipython-input-1286931429.py:7: FutureWarning: Downcasting behavior in `replace` is deprecated and will be removed in a future version. To retain the old behavior, explicitly call `result.infer_objects(copy=False)`. To opt-in to the future behavior, set `pd.set_option('future.no_silent_downcasting', True)`\n",
            "  df['internet.OnlineSecurity'] = df['internet.OnlineSecurity'].replace({\n"
          ]
        }
      ]
    },
    {
      "cell_type": "code",
      "source": [
        "df['internet.OnlineSecurity'] = df['internet.OnlineSecurity'].replace({\n",
        "    'Yes': 1,\n",
        "    'No': 0,\n",
        "    'No internet service': 2\n",
        "}).astype(int)\n"
      ],
      "metadata": {
        "id": "z5MhbzLOTqOR"
      },
      "execution_count": 33,
      "outputs": []
    },
    {
      "cell_type": "code",
      "source": [
        "df['internet.OnlineSecurity'].head(3)"
      ],
      "metadata": {
        "colab": {
          "base_uri": "https://localhost:8080/",
          "height": 178
        },
        "id": "i7dpnPxUTzef",
        "outputId": "0c817135-1500-4ce5-b15d-253e9005a141"
      },
      "execution_count": 34,
      "outputs": [
        {
          "output_type": "execute_result",
          "data": {
            "text/plain": [
              "0    0\n",
              "1    1\n",
              "2    2\n",
              "Name: internet.OnlineSecurity, dtype: int64"
            ],
            "text/html": [
              "<div>\n",
              "<style scoped>\n",
              "    .dataframe tbody tr th:only-of-type {\n",
              "        vertical-align: middle;\n",
              "    }\n",
              "\n",
              "    .dataframe tbody tr th {\n",
              "        vertical-align: top;\n",
              "    }\n",
              "\n",
              "    .dataframe thead th {\n",
              "        text-align: right;\n",
              "    }\n",
              "</style>\n",
              "<table border=\"1\" class=\"dataframe\">\n",
              "  <thead>\n",
              "    <tr style=\"text-align: right;\">\n",
              "      <th></th>\n",
              "      <th>internet.OnlineSecurity</th>\n",
              "    </tr>\n",
              "  </thead>\n",
              "  <tbody>\n",
              "    <tr>\n",
              "      <th>0</th>\n",
              "      <td>0</td>\n",
              "    </tr>\n",
              "    <tr>\n",
              "      <th>1</th>\n",
              "      <td>1</td>\n",
              "    </tr>\n",
              "    <tr>\n",
              "      <th>2</th>\n",
              "      <td>2</td>\n",
              "    </tr>\n",
              "  </tbody>\n",
              "</table>\n",
              "</div><br><label><b>dtype:</b> int64</label>"
            ]
          },
          "metadata": {},
          "execution_count": 34
        }
      ]
    },
    {
      "cell_type": "markdown",
      "source": [
        "Porque la columna internet.InternetService tiene 3 categorías distintas:\n",
        "\n",
        "DSL\n",
        "\n",
        "Fiber optic\n",
        "\n",
        "No\n",
        "\n",
        "Cuando aplicas One-Hot Encoding, pandas crea una columna binaria para cada categoría, con valor 1 si el registro tiene esa categoría, y 0 en caso contrario.\n",
        "\n",
        "Entonces, para 3 categorías, obtienes 3 columnas:\n",
        "\n",
        "internet.InternetService_DSL\tinternet.InternetService_Fiber_optic\tinternet.InternetService_No\n",
        "1\t0\t0\n",
        "0\t1\t0\n",
        "0\t0\t1"
      ],
      "metadata": {
        "id": "cSHNtwW3VcbK"
      }
    },
    {
      "cell_type": "code",
      "source": [
        "import pandas as pd\n",
        "\n",
        "# Supongamos df original\n",
        "df = pd.DataFrame({\n",
        "    'internet.InternetService': ['DSL', 'Fiber optic', 'No', 'DSL', 'Fiber optic']\n",
        "})\n",
        "\n",
        "print(\"Antes de One-Hot Encoding:\")\n",
        "print(df.head())\n",
        "\n",
        "# Aplico one-hot encoding y actualizo df\n",
        "df = pd.get_dummies(df, columns=['internet.InternetService'], drop_first=False)\n",
        "\n",
        "print(\"\\nDespués de One-Hot Encoding:\")\n",
        "print(df.head())"
      ],
      "metadata": {
        "colab": {
          "base_uri": "https://localhost:8080/"
        },
        "id": "YZ2R_P1nXIpC",
        "outputId": "2f964a2b-35d1-4fde-ad21-5c3a12063612"
      },
      "execution_count": 37,
      "outputs": [
        {
          "output_type": "stream",
          "name": "stdout",
          "text": [
            "Antes de One-Hot Encoding:\n",
            "  internet.InternetService\n",
            "0                      DSL\n",
            "1              Fiber optic\n",
            "2                       No\n",
            "3                      DSL\n",
            "4              Fiber optic\n",
            "\n",
            "Después de One-Hot Encoding:\n",
            "   internet.InternetService_DSL  internet.InternetService_Fiber optic  \\\n",
            "0                          True                                 False   \n",
            "1                         False                                  True   \n",
            "2                         False                                 False   \n",
            "3                          True                                 False   \n",
            "4                         False                                  True   \n",
            "\n",
            "   internet.InternetService_No  \n",
            "0                        False  \n",
            "1                        False  \n",
            "2                         True  \n",
            "3                        False  \n",
            "4                        False  \n"
          ]
        }
      ]
    },
    {
      "cell_type": "code",
      "source": [
        "print(df.filter(like='internet.InternetService').head(3))"
      ],
      "metadata": {
        "colab": {
          "base_uri": "https://localhost:8080/"
        },
        "id": "ayTBNAJkXpjI",
        "outputId": "7411b9ea-475f-4394-f708-a4199c2d5427"
      },
      "execution_count": 40,
      "outputs": [
        {
          "output_type": "stream",
          "name": "stdout",
          "text": [
            "   internet.InternetService_DSL  internet.InternetService_Fiber optic  \\\n",
            "0                          True                                 False   \n",
            "1                         False                                  True   \n",
            "2                         False                                 False   \n",
            "\n",
            "   internet.InternetService_No  \n",
            "0                        False  \n",
            "1                        False  \n",
            "2                         True  \n"
          ]
        }
      ]
    },
    {
      "cell_type": "code",
      "source": [
        "print(df.columns)"
      ],
      "metadata": {
        "colab": {
          "base_uri": "https://localhost:8080/"
        },
        "id": "8oQ7lvFhWLvh",
        "outputId": "a6efc25f-1c92-43cb-8e6e-7c0f3c8379c9"
      },
      "execution_count": 41,
      "outputs": [
        {
          "output_type": "stream",
          "name": "stdout",
          "text": [
            "Index(['internet.InternetService_DSL', 'internet.InternetService_Fiber optic',\n",
            "       'internet.InternetService_No'],\n",
            "      dtype='object')\n"
          ]
        }
      ]
    },
    {
      "cell_type": "code",
      "source": [
        "print(df.dtypes[['internet.InternetService_DSL', 'internet.InternetService_Fiber optic', 'internet.InternetService_No']])\n"
      ],
      "metadata": {
        "colab": {
          "base_uri": "https://localhost:8080/"
        },
        "id": "0qm5VSb9YgLK",
        "outputId": "f7abd4ae-aec5-4116-eb11-d8a8000993eb"
      },
      "execution_count": 42,
      "outputs": [
        {
          "output_type": "stream",
          "name": "stdout",
          "text": [
            "internet.InternetService_DSL            bool\n",
            "internet.InternetService_Fiber optic    bool\n",
            "internet.InternetService_No             bool\n",
            "dtype: object\n"
          ]
        }
      ]
    },
    {
      "cell_type": "code",
      "source": [
        "# Selecciona solo las columnas dummies que creaste (ejemplo con las 3 columnas)\n",
        "cols = ['internet.InternetService_DSL', 'internet.InternetService_Fiber optic', 'internet.InternetService_No']\n",
        "\n",
        "# Convierte de bool a int\n",
        "df[cols] = df[cols].astype(int)\n",
        "\n",
        "# Ahora verás 0 y 1 en vez de False y True\n",
        "print(df[cols].head())"
      ],
      "metadata": {
        "colab": {
          "base_uri": "https://localhost:8080/"
        },
        "id": "nte6ZyujY8ab",
        "outputId": "a5c99a25-570d-45f6-d005-ec9347ddbd7d"
      },
      "execution_count": 43,
      "outputs": [
        {
          "output_type": "stream",
          "name": "stdout",
          "text": [
            "   internet.InternetService_DSL  internet.InternetService_Fiber optic  \\\n",
            "0                             1                                     0   \n",
            "1                             0                                     1   \n",
            "2                             0                                     0   \n",
            "3                             1                                     0   \n",
            "4                             0                                     1   \n",
            "\n",
            "   internet.InternetService_No  \n",
            "0                            0  \n",
            "1                            0  \n",
            "2                            1  \n",
            "3                            0  \n",
            "4                            0  \n"
          ]
        }
      ]
    },
    {
      "cell_type": "code",
      "source": [
        "print(df.columns.tolist())\n"
      ],
      "metadata": {
        "colab": {
          "base_uri": "https://localhost:8080/"
        },
        "id": "Uk0iDcfNbet1",
        "outputId": "a5e51b92-3b2a-479d-e3ce-92a33b5cfb99"
      },
      "execution_count": 45,
      "outputs": [
        {
          "output_type": "stream",
          "name": "stdout",
          "text": [
            "['internet.InternetService_DSL', 'internet.InternetService_Fiber optic', 'internet.InternetService_No']\n"
          ]
        }
      ]
    },
    {
      "cell_type": "code",
      "source": [
        "import pandas as pd\n",
        "\n",
        "# Lista completa de columnas que quieres procesar (ejemplo)\n",
        "cols_3vals_all = [\n",
        "    'internet.OnlineBackup',\n",
        "    'internet.DeviceProtection',\n",
        "    'internet.TechSupport',\n",
        "    'internet.StreamingTV',\n",
        "    'internet.StreamingMovies'\n",
        "]\n",
        "\n",
        "cols_binarias_all = [\n",
        "    'customer.Partner',\n",
        "    'customer.Dependents',\n",
        "    'phone.PhoneService',\n",
        "    'account.PaperlessBilling'\n",
        "]\n",
        "\n",
        "cols_onehot_all = [\n",
        "    'account.Contract',\n",
        "    'account.PaymentMethod',\n",
        "    'phone.MultipleLines',\n",
        "    'internet.InternetService'\n",
        "]\n",
        "\n",
        "# Filtrar solo las columnas que existen en df\n",
        "cols_3vals = [col for col in cols_3vals_all if col in df.columns]\n",
        "cols_binarias = [col for col in cols_binarias_all if col in df.columns]\n",
        "cols_onehot = [col for col in cols_onehot_all if col in df.columns]\n",
        "\n",
        "# Aplicar reemplazos a columnas con 3 valores\n",
        "for col in cols_3vals:\n",
        "    df[col] = df[col].replace({'Yes': 1, 'No': 0, 'No internet service': 2})\n",
        "\n",
        "# Aplicar reemplazos a columnas binarias\n",
        "for col in cols_binarias:\n",
        "    df[col] = df[col].replace({'Yes': 1, 'No': 0})\n",
        "\n",
        "# Aplicar one-hot encoding\n",
        "df = pd.get_dummies(df, columns=cols_onehot, drop_first=False)\n",
        "\n",
        "# Convertir booleanos a enteros\n",
        "bool_cols = df.select_dtypes(include='bool').columns\n",
        "df[bool_cols] = df[bool_cols].astype(int)\n",
        "\n",
        "print(df.head())\n"
      ],
      "metadata": {
        "colab": {
          "base_uri": "https://localhost:8080/"
        },
        "id": "_7Gq93szbra-",
        "outputId": "5328a771-36a3-406e-d59c-c1fb9501a3b7"
      },
      "execution_count": 46,
      "outputs": [
        {
          "output_type": "stream",
          "name": "stdout",
          "text": [
            "   internet.InternetService_DSL  internet.InternetService_Fiber optic  \\\n",
            "0                             1                                     0   \n",
            "1                             0                                     1   \n",
            "2                             0                                     0   \n",
            "3                             1                                     0   \n",
            "4                             0                                     1   \n",
            "\n",
            "   internet.InternetService_No  \n",
            "0                            0  \n",
            "1                            0  \n",
            "2                            1  \n",
            "3                            0  \n",
            "4                            0  \n"
          ]
        }
      ]
    },
    {
      "cell_type": "code",
      "source": [
        "# Mostrar las primeras 10 filas para ver los datos\n",
        "print(df.head(10))\n",
        "\n",
        "# Mostrar las columnas actuales y su tipo de dato\n",
        "print(df.dtypes)\n",
        "\n",
        "# Mostrar la cantidad de valores únicos por columna para verificar codificaciones\n",
        "print(df.nunique())\n"
      ],
      "metadata": {
        "colab": {
          "base_uri": "https://localhost:8080/"
        },
        "id": "iXSCLDUUcFr9",
        "outputId": "f46c8194-facd-4cfd-a70d-9ee255ddab97"
      },
      "execution_count": 47,
      "outputs": [
        {
          "output_type": "stream",
          "name": "stdout",
          "text": [
            "   internet.InternetService_DSL  internet.InternetService_Fiber optic  \\\n",
            "0                             1                                     0   \n",
            "1                             0                                     1   \n",
            "2                             0                                     0   \n",
            "3                             1                                     0   \n",
            "4                             0                                     1   \n",
            "\n",
            "   internet.InternetService_No  \n",
            "0                            0  \n",
            "1                            0  \n",
            "2                            1  \n",
            "3                            0  \n",
            "4                            0  \n",
            "internet.InternetService_DSL            int64\n",
            "internet.InternetService_Fiber optic    int64\n",
            "internet.InternetService_No             int64\n",
            "dtype: object\n",
            "internet.InternetService_DSL            2\n",
            "internet.InternetService_Fiber optic    2\n",
            "internet.InternetService_No             2\n",
            "dtype: int64\n"
          ]
        }
      ]
    },
    {
      "cell_type": "code",
      "source": [
        "# Mostrar columnas que siguen siendo tipo object (categóricas sin transformar)\n",
        "cols_obj = df.select_dtypes(include='object').columns.tolist()\n",
        "print(\"Columnas aún tipo objeto (posibles sin transformar):\")\n",
        "print(cols_obj)\n"
      ],
      "metadata": {
        "colab": {
          "base_uri": "https://localhost:8080/"
        },
        "id": "GMxXg54vcoPY",
        "outputId": "10cc6cdb-6035-4e88-d703-a278e9630beb"
      },
      "execution_count": 49,
      "outputs": [
        {
          "output_type": "stream",
          "name": "stdout",
          "text": [
            "Columnas aún tipo objeto (posibles sin transformar):\n",
            "[]\n"
          ]
        }
      ]
    },
    {
      "cell_type": "code",
      "source": [
        "print(df.columns.tolist())\n"
      ],
      "metadata": {
        "colab": {
          "base_uri": "https://localhost:8080/"
        },
        "id": "oULe2CtQdUjT",
        "outputId": "ec3baf05-621f-4be1-ad47-6e9f2f238693"
      },
      "execution_count": 51,
      "outputs": [
        {
          "output_type": "stream",
          "name": "stdout",
          "text": [
            "['internet.InternetService_DSL', 'internet.InternetService_Fiber optic', 'internet.InternetService_No']\n"
          ]
        }
      ]
    },
    {
      "cell_type": "code",
      "source": [
        "print(df.columns.tolist())\n"
      ],
      "metadata": {
        "colab": {
          "base_uri": "https://localhost:8080/"
        },
        "id": "05i1KbeVdcHk",
        "outputId": "8c2eae86-ac9b-4c46-e249-85f938956df5"
      },
      "execution_count": 52,
      "outputs": [
        {
          "output_type": "stream",
          "name": "stdout",
          "text": [
            "['internet.InternetService_DSL', 'internet.InternetService_Fiber optic', 'internet.InternetService_No']\n"
          ]
        }
      ]
    },
    {
      "cell_type": "markdown",
      "source": [],
      "metadata": {
        "id": "jReKQyUHVcYk"
      }
    },
    {
      "cell_type": "markdown",
      "source": [],
      "metadata": {
        "id": "nEJeOgYTVcV6"
      }
    },
    {
      "cell_type": "markdown",
      "source": [],
      "metadata": {
        "id": "HcgCVPu7VcTT"
      }
    },
    {
      "cell_type": "markdown",
      "source": [],
      "metadata": {
        "id": "rBNM_j8oVcQe"
      }
    },
    {
      "cell_type": "markdown",
      "source": [],
      "metadata": {
        "id": "imx_17q-VcN3"
      }
    },
    {
      "cell_type": "markdown",
      "source": [],
      "metadata": {
        "id": "OKMEXNmKVcLD"
      }
    },
    {
      "cell_type": "markdown",
      "source": [],
      "metadata": {
        "id": "QX9NADR9VbL8"
      }
    },
    {
      "cell_type": "markdown",
      "source": [],
      "metadata": {
        "id": "ParCtTUtVa26"
      }
    },
    {
      "cell_type": "markdown",
      "source": [],
      "metadata": {
        "id": "pPv5HACuVane"
      }
    },
    {
      "cell_type": "markdown",
      "source": [],
      "metadata": {
        "id": "nu145tkjVaYa"
      }
    },
    {
      "cell_type": "markdown",
      "source": [],
      "metadata": {
        "id": "fEFPPtOhVZ8R"
      }
    }
  ]
}